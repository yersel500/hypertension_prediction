{
 "cells": [
  {
   "cell_type": "code",
   "execution_count": 1,
   "id": "0e8282c3",
   "metadata": {
    "_cell_guid": "b1076dfc-b9ad-4769-8c92-a6c4dae69d19",
    "_uuid": "8f2839f25d086af736a60e9eeb907d3b93b6e0e5",
    "execution": {
     "iopub.execute_input": "2024-04-22T14:52:29.643223Z",
     "iopub.status.busy": "2024-04-22T14:52:29.642794Z",
     "iopub.status.idle": "2024-04-22T14:52:30.738513Z",
     "shell.execute_reply": "2024-04-22T14:52:30.737287Z"
    },
    "papermill": {
     "duration": 1.108147,
     "end_time": "2024-04-22T14:52:30.741233",
     "exception": false,
     "start_time": "2024-04-22T14:52:29.633086",
     "status": "completed"
    },
    "tags": []
   },
   "outputs": [],
   "source": [
    "import numpy as np # linear algebra\n",
    "import pandas as pd # data processing, CSV file I/O (e.g. pd.read_csv)"
   ]
  },
  {
   "cell_type": "code",
   "execution_count": 2,
   "id": "656e55ac",
   "metadata": {
    "execution": {
     "iopub.execute_input": "2024-04-22T14:52:30.758178Z",
     "iopub.status.busy": "2024-04-22T14:52:30.757542Z",
     "iopub.status.idle": "2024-04-22T14:52:30.819111Z",
     "shell.execute_reply": "2024-04-22T14:52:30.817894Z"
    },
    "papermill": {
     "duration": 0.073368,
     "end_time": "2024-04-22T14:52:30.821661",
     "exception": false,
     "start_time": "2024-04-22T14:52:30.748293",
     "status": "completed"
    },
    "tags": []
   },
   "outputs": [
    {
     "data": {
      "text/html": [
       "<div>\n",
       "<style scoped>\n",
       "    .dataframe tbody tr th:only-of-type {\n",
       "        vertical-align: middle;\n",
       "    }\n",
       "\n",
       "    .dataframe tbody tr th {\n",
       "        vertical-align: top;\n",
       "    }\n",
       "\n",
       "    .dataframe thead th {\n",
       "        text-align: right;\n",
       "    }\n",
       "</style>\n",
       "<table border=\"1\" class=\"dataframe\">\n",
       "  <thead>\n",
       "    <tr style=\"text-align: right;\">\n",
       "      <th></th>\n",
       "      <th>male</th>\n",
       "      <th>age</th>\n",
       "      <th>currentSmoker</th>\n",
       "      <th>cigsPerDay</th>\n",
       "      <th>BPMeds</th>\n",
       "      <th>diabetes</th>\n",
       "      <th>totChol</th>\n",
       "      <th>sysBP</th>\n",
       "      <th>diaBP</th>\n",
       "      <th>BMI</th>\n",
       "      <th>heartRate</th>\n",
       "      <th>glucose</th>\n",
       "      <th>Risk</th>\n",
       "    </tr>\n",
       "  </thead>\n",
       "  <tbody>\n",
       "    <tr>\n",
       "      <th>0</th>\n",
       "      <td>1</td>\n",
       "      <td>39</td>\n",
       "      <td>0</td>\n",
       "      <td>0.0</td>\n",
       "      <td>0.0</td>\n",
       "      <td>0</td>\n",
       "      <td>195.0</td>\n",
       "      <td>106.0</td>\n",
       "      <td>70.0</td>\n",
       "      <td>26.97</td>\n",
       "      <td>80.0</td>\n",
       "      <td>77.0</td>\n",
       "      <td>0</td>\n",
       "    </tr>\n",
       "    <tr>\n",
       "      <th>1</th>\n",
       "      <td>0</td>\n",
       "      <td>46</td>\n",
       "      <td>0</td>\n",
       "      <td>0.0</td>\n",
       "      <td>0.0</td>\n",
       "      <td>0</td>\n",
       "      <td>250.0</td>\n",
       "      <td>121.0</td>\n",
       "      <td>81.0</td>\n",
       "      <td>28.73</td>\n",
       "      <td>95.0</td>\n",
       "      <td>76.0</td>\n",
       "      <td>0</td>\n",
       "    </tr>\n",
       "    <tr>\n",
       "      <th>2</th>\n",
       "      <td>1</td>\n",
       "      <td>48</td>\n",
       "      <td>1</td>\n",
       "      <td>20.0</td>\n",
       "      <td>0.0</td>\n",
       "      <td>0</td>\n",
       "      <td>245.0</td>\n",
       "      <td>127.5</td>\n",
       "      <td>80.0</td>\n",
       "      <td>25.34</td>\n",
       "      <td>75.0</td>\n",
       "      <td>70.0</td>\n",
       "      <td>0</td>\n",
       "    </tr>\n",
       "    <tr>\n",
       "      <th>3</th>\n",
       "      <td>0</td>\n",
       "      <td>61</td>\n",
       "      <td>1</td>\n",
       "      <td>30.0</td>\n",
       "      <td>0.0</td>\n",
       "      <td>0</td>\n",
       "      <td>225.0</td>\n",
       "      <td>150.0</td>\n",
       "      <td>95.0</td>\n",
       "      <td>28.58</td>\n",
       "      <td>65.0</td>\n",
       "      <td>103.0</td>\n",
       "      <td>1</td>\n",
       "    </tr>\n",
       "    <tr>\n",
       "      <th>4</th>\n",
       "      <td>0</td>\n",
       "      <td>46</td>\n",
       "      <td>1</td>\n",
       "      <td>23.0</td>\n",
       "      <td>0.0</td>\n",
       "      <td>0</td>\n",
       "      <td>285.0</td>\n",
       "      <td>130.0</td>\n",
       "      <td>84.0</td>\n",
       "      <td>23.10</td>\n",
       "      <td>85.0</td>\n",
       "      <td>85.0</td>\n",
       "      <td>0</td>\n",
       "    </tr>\n",
       "  </tbody>\n",
       "</table>\n",
       "</div>"
      ],
      "text/plain": [
       "   male  age  currentSmoker  cigsPerDay  BPMeds  diabetes  totChol  sysBP  \\\n",
       "0     1   39              0         0.0     0.0         0    195.0  106.0   \n",
       "1     0   46              0         0.0     0.0         0    250.0  121.0   \n",
       "2     1   48              1        20.0     0.0         0    245.0  127.5   \n",
       "3     0   61              1        30.0     0.0         0    225.0  150.0   \n",
       "4     0   46              1        23.0     0.0         0    285.0  130.0   \n",
       "\n",
       "   diaBP    BMI  heartRate  glucose  Risk  \n",
       "0   70.0  26.97       80.0     77.0     0  \n",
       "1   81.0  28.73       95.0     76.0     0  \n",
       "2   80.0  25.34       75.0     70.0     0  \n",
       "3   95.0  28.58       65.0    103.0     1  \n",
       "4   84.0  23.10       85.0     85.0     0  "
      ]
     },
     "execution_count": 2,
     "metadata": {},
     "output_type": "execute_result"
    }
   ],
   "source": [
    "file_path = '../input/hypertension-risk-model-main/Hypertension-risk-model-main.csv'\n",
    "hypertension_data = pd.read_csv(file_path)\n",
    "\n",
    "hypertension_data.head()\n"
   ]
  },
  {
   "cell_type": "code",
   "execution_count": 3,
   "id": "49fd8d39",
   "metadata": {
    "execution": {
     "iopub.execute_input": "2024-04-22T14:52:30.838097Z",
     "iopub.status.busy": "2024-04-22T14:52:30.836971Z",
     "iopub.status.idle": "2024-04-22T14:52:30.870852Z",
     "shell.execute_reply": "2024-04-22T14:52:30.869462Z"
    },
    "papermill": {
     "duration": 0.045666,
     "end_time": "2024-04-22T14:52:30.874216",
     "exception": false,
     "start_time": "2024-04-22T14:52:30.828550",
     "status": "completed"
    },
    "tags": []
   },
   "outputs": [
    {
     "data": {
      "text/html": [
       "<div>\n",
       "<style scoped>\n",
       "    .dataframe tbody tr th:only-of-type {\n",
       "        vertical-align: middle;\n",
       "    }\n",
       "\n",
       "    .dataframe tbody tr th {\n",
       "        vertical-align: top;\n",
       "    }\n",
       "\n",
       "    .dataframe thead th {\n",
       "        text-align: right;\n",
       "    }\n",
       "</style>\n",
       "<table border=\"1\" class=\"dataframe\">\n",
       "  <thead>\n",
       "    <tr style=\"text-align: right;\">\n",
       "      <th></th>\n",
       "      <th>male</th>\n",
       "      <th>age</th>\n",
       "      <th>currentSmoker</th>\n",
       "      <th>cigsPerDay</th>\n",
       "      <th>BPMeds</th>\n",
       "      <th>diabetes</th>\n",
       "      <th>totChol</th>\n",
       "      <th>sysBP</th>\n",
       "      <th>diaBP</th>\n",
       "      <th>BMI</th>\n",
       "      <th>heartRate</th>\n",
       "      <th>glucose</th>\n",
       "    </tr>\n",
       "  </thead>\n",
       "  <tbody>\n",
       "    <tr>\n",
       "      <th>0</th>\n",
       "      <td>1</td>\n",
       "      <td>39</td>\n",
       "      <td>0</td>\n",
       "      <td>0.0</td>\n",
       "      <td>0.0</td>\n",
       "      <td>0</td>\n",
       "      <td>195.0</td>\n",
       "      <td>106.0</td>\n",
       "      <td>70.0</td>\n",
       "      <td>26.97</td>\n",
       "      <td>80.0</td>\n",
       "      <td>77.0</td>\n",
       "    </tr>\n",
       "    <tr>\n",
       "      <th>1</th>\n",
       "      <td>0</td>\n",
       "      <td>46</td>\n",
       "      <td>0</td>\n",
       "      <td>0.0</td>\n",
       "      <td>0.0</td>\n",
       "      <td>0</td>\n",
       "      <td>250.0</td>\n",
       "      <td>121.0</td>\n",
       "      <td>81.0</td>\n",
       "      <td>28.73</td>\n",
       "      <td>95.0</td>\n",
       "      <td>76.0</td>\n",
       "    </tr>\n",
       "    <tr>\n",
       "      <th>2</th>\n",
       "      <td>1</td>\n",
       "      <td>48</td>\n",
       "      <td>1</td>\n",
       "      <td>20.0</td>\n",
       "      <td>0.0</td>\n",
       "      <td>0</td>\n",
       "      <td>245.0</td>\n",
       "      <td>127.5</td>\n",
       "      <td>80.0</td>\n",
       "      <td>25.34</td>\n",
       "      <td>75.0</td>\n",
       "      <td>70.0</td>\n",
       "    </tr>\n",
       "    <tr>\n",
       "      <th>3</th>\n",
       "      <td>0</td>\n",
       "      <td>61</td>\n",
       "      <td>1</td>\n",
       "      <td>30.0</td>\n",
       "      <td>0.0</td>\n",
       "      <td>0</td>\n",
       "      <td>225.0</td>\n",
       "      <td>150.0</td>\n",
       "      <td>95.0</td>\n",
       "      <td>28.58</td>\n",
       "      <td>65.0</td>\n",
       "      <td>103.0</td>\n",
       "    </tr>\n",
       "    <tr>\n",
       "      <th>4</th>\n",
       "      <td>0</td>\n",
       "      <td>46</td>\n",
       "      <td>1</td>\n",
       "      <td>23.0</td>\n",
       "      <td>0.0</td>\n",
       "      <td>0</td>\n",
       "      <td>285.0</td>\n",
       "      <td>130.0</td>\n",
       "      <td>84.0</td>\n",
       "      <td>23.10</td>\n",
       "      <td>85.0</td>\n",
       "      <td>85.0</td>\n",
       "    </tr>\n",
       "  </tbody>\n",
       "</table>\n",
       "</div>"
      ],
      "text/plain": [
       "   male  age  currentSmoker  cigsPerDay  BPMeds  diabetes  totChol  sysBP  \\\n",
       "0     1   39              0         0.0     0.0         0    195.0  106.0   \n",
       "1     0   46              0         0.0     0.0         0    250.0  121.0   \n",
       "2     1   48              1        20.0     0.0         0    245.0  127.5   \n",
       "3     0   61              1        30.0     0.0         0    225.0  150.0   \n",
       "4     0   46              1        23.0     0.0         0    285.0  130.0   \n",
       "\n",
       "   diaBP    BMI  heartRate  glucose  \n",
       "0   70.0  26.97       80.0     77.0  \n",
       "1   81.0  28.73       95.0     76.0  \n",
       "2   80.0  25.34       75.0     70.0  \n",
       "3   95.0  28.58       65.0    103.0  \n",
       "4   84.0  23.10       85.0     85.0  "
      ]
     },
     "execution_count": 3,
     "metadata": {},
     "output_type": "execute_result"
    }
   ],
   "source": [
    "# delete rows with missing targets\n",
    "X_data = hypertension_data.dropna(axis=0, subset=['Risk'], inplace=False)\n",
    "y_data = X_data.Risk\n",
    "X_data.drop(['Risk'], axis=1, inplace=True)\n",
    "X_data.head()"
   ]
  },
  {
   "cell_type": "code",
   "execution_count": 4,
   "id": "d518e27e",
   "metadata": {
    "execution": {
     "iopub.execute_input": "2024-04-22T14:52:30.892487Z",
     "iopub.status.busy": "2024-04-22T14:52:30.891604Z",
     "iopub.status.idle": "2024-04-22T14:52:30.912579Z",
     "shell.execute_reply": "2024-04-22T14:52:30.911161Z"
    },
    "papermill": {
     "duration": 0.032892,
     "end_time": "2024-04-22T14:52:30.915560",
     "exception": false,
     "start_time": "2024-04-22T14:52:30.882668",
     "status": "completed"
    },
    "tags": []
   },
   "outputs": [
    {
     "data": {
      "text/html": [
       "<div>\n",
       "<style scoped>\n",
       "    .dataframe tbody tr th:only-of-type {\n",
       "        vertical-align: middle;\n",
       "    }\n",
       "\n",
       "    .dataframe tbody tr th {\n",
       "        vertical-align: top;\n",
       "    }\n",
       "\n",
       "    .dataframe thead th {\n",
       "        text-align: right;\n",
       "    }\n",
       "</style>\n",
       "<table border=\"1\" class=\"dataframe\">\n",
       "  <thead>\n",
       "    <tr style=\"text-align: right;\">\n",
       "      <th></th>\n",
       "      <th>male</th>\n",
       "      <th>age</th>\n",
       "      <th>currentSmoker</th>\n",
       "      <th>cigsPerDay</th>\n",
       "      <th>BPMeds</th>\n",
       "      <th>diabetes</th>\n",
       "      <th>totChol</th>\n",
       "      <th>sysBP</th>\n",
       "      <th>diaBP</th>\n",
       "      <th>BMI</th>\n",
       "      <th>heartRate</th>\n",
       "      <th>glucose</th>\n",
       "    </tr>\n",
       "  </thead>\n",
       "  <tbody>\n",
       "    <tr>\n",
       "      <th>0</th>\n",
       "      <td>1</td>\n",
       "      <td>39</td>\n",
       "      <td>0</td>\n",
       "      <td>0.0</td>\n",
       "      <td>0.0</td>\n",
       "      <td>0</td>\n",
       "      <td>195.0</td>\n",
       "      <td>106.0</td>\n",
       "      <td>70.0</td>\n",
       "      <td>26.97</td>\n",
       "      <td>80.0</td>\n",
       "      <td>77.0</td>\n",
       "    </tr>\n",
       "    <tr>\n",
       "      <th>1</th>\n",
       "      <td>0</td>\n",
       "      <td>46</td>\n",
       "      <td>0</td>\n",
       "      <td>0.0</td>\n",
       "      <td>0.0</td>\n",
       "      <td>0</td>\n",
       "      <td>250.0</td>\n",
       "      <td>121.0</td>\n",
       "      <td>81.0</td>\n",
       "      <td>28.73</td>\n",
       "      <td>95.0</td>\n",
       "      <td>76.0</td>\n",
       "    </tr>\n",
       "    <tr>\n",
       "      <th>2</th>\n",
       "      <td>1</td>\n",
       "      <td>48</td>\n",
       "      <td>1</td>\n",
       "      <td>20.0</td>\n",
       "      <td>0.0</td>\n",
       "      <td>0</td>\n",
       "      <td>245.0</td>\n",
       "      <td>127.5</td>\n",
       "      <td>80.0</td>\n",
       "      <td>25.34</td>\n",
       "      <td>75.0</td>\n",
       "      <td>70.0</td>\n",
       "    </tr>\n",
       "    <tr>\n",
       "      <th>3</th>\n",
       "      <td>0</td>\n",
       "      <td>61</td>\n",
       "      <td>1</td>\n",
       "      <td>30.0</td>\n",
       "      <td>0.0</td>\n",
       "      <td>0</td>\n",
       "      <td>225.0</td>\n",
       "      <td>150.0</td>\n",
       "      <td>95.0</td>\n",
       "      <td>28.58</td>\n",
       "      <td>65.0</td>\n",
       "      <td>103.0</td>\n",
       "    </tr>\n",
       "    <tr>\n",
       "      <th>4</th>\n",
       "      <td>0</td>\n",
       "      <td>46</td>\n",
       "      <td>1</td>\n",
       "      <td>23.0</td>\n",
       "      <td>0.0</td>\n",
       "      <td>0</td>\n",
       "      <td>285.0</td>\n",
       "      <td>130.0</td>\n",
       "      <td>84.0</td>\n",
       "      <td>23.10</td>\n",
       "      <td>85.0</td>\n",
       "      <td>85.0</td>\n",
       "    </tr>\n",
       "  </tbody>\n",
       "</table>\n",
       "</div>"
      ],
      "text/plain": [
       "   male  age  currentSmoker  cigsPerDay  BPMeds  diabetes  totChol  sysBP  \\\n",
       "0     1   39              0         0.0     0.0         0    195.0  106.0   \n",
       "1     0   46              0         0.0     0.0         0    250.0  121.0   \n",
       "2     1   48              1        20.0     0.0         0    245.0  127.5   \n",
       "3     0   61              1        30.0     0.0         0    225.0  150.0   \n",
       "4     0   46              1        23.0     0.0         0    285.0  130.0   \n",
       "\n",
       "   diaBP    BMI  heartRate  glucose  \n",
       "0   70.0  26.97       80.0     77.0  \n",
       "1   81.0  28.73       95.0     76.0  \n",
       "2   80.0  25.34       75.0     70.0  \n",
       "3   95.0  28.58       65.0    103.0  \n",
       "4   84.0  23.10       85.0     85.0  "
      ]
     },
     "execution_count": 4,
     "metadata": {},
     "output_type": "execute_result"
    }
   ],
   "source": [
    "X_data.head()"
   ]
  },
  {
   "cell_type": "code",
   "execution_count": 5,
   "id": "0ed9d7c7",
   "metadata": {
    "execution": {
     "iopub.execute_input": "2024-04-22T14:52:30.934928Z",
     "iopub.status.busy": "2024-04-22T14:52:30.933996Z",
     "iopub.status.idle": "2024-04-22T14:52:32.485257Z",
     "shell.execute_reply": "2024-04-22T14:52:32.484208Z"
    },
    "papermill": {
     "duration": 1.564468,
     "end_time": "2024-04-22T14:52:32.487924",
     "exception": false,
     "start_time": "2024-04-22T14:52:30.923456",
     "status": "completed"
    },
    "tags": []
   },
   "outputs": [],
   "source": [
    "# Break off validation data from training data\n",
    "from sklearn.model_selection import train_test_split\n",
    "\n",
    "X_train, X_valid, y_train, y_valid = train_test_split(X_data, y_data, train_size=0.8,\n",
    "                                                     test_size=0.2, random_state=0)"
   ]
  },
  {
   "cell_type": "code",
   "execution_count": 6,
   "id": "fff110a1",
   "metadata": {
    "execution": {
     "iopub.execute_input": "2024-04-22T14:52:32.505009Z",
     "iopub.status.busy": "2024-04-22T14:52:32.504541Z",
     "iopub.status.idle": "2024-04-22T14:52:32.509883Z",
     "shell.execute_reply": "2024-04-22T14:52:32.508738Z"
    },
    "papermill": {
     "duration": 0.016646,
     "end_time": "2024-04-22T14:52:32.512097",
     "exception": false,
     "start_time": "2024-04-22T14:52:32.495451",
     "status": "completed"
    },
    "tags": []
   },
   "outputs": [],
   "source": [
    "# In this case, the categorical and numerical columns can be classifed directly:\n",
    "categorical_cols = ['male', 'currentSmoker', 'diabetes']\n",
    "numerical_cols = ['age', 'cigsPerDay', 'BPMeds', 'totChol', 'sysBP', 'diaBP', 'BMI',\n",
    "                 'heartRate', 'glucose']"
   ]
  },
  {
   "cell_type": "code",
   "execution_count": 7,
   "id": "e239e7c0",
   "metadata": {
    "execution": {
     "iopub.execute_input": "2024-04-22T14:52:32.530709Z",
     "iopub.status.busy": "2024-04-22T14:52:32.529527Z",
     "iopub.status.idle": "2024-04-22T14:52:32.928558Z",
     "shell.execute_reply": "2024-04-22T14:52:32.924280Z"
    },
    "papermill": {
     "duration": 0.412807,
     "end_time": "2024-04-22T14:52:32.932499",
     "exception": false,
     "start_time": "2024-04-22T14:52:32.519692",
     "status": "completed"
    },
    "tags": []
   },
   "outputs": [
    {
     "name": "stdout",
     "output_type": "stream",
     "text": [
      "Accuracy Score 0.8738207547169812\n"
     ]
    }
   ],
   "source": [
    "from sklearn.compose import ColumnTransformer\n",
    "from sklearn.pipeline import Pipeline\n",
    "from sklearn.impute import SimpleImputer\n",
    "from sklearn.preprocessing import StandardScaler\n",
    "from sklearn.linear_model import LogisticRegression\n",
    "from sklearn.metrics import accuracy_score, confusion_matrix, precision_recall_curve\n",
    "\n",
    "#Preprocessing numerical data\n",
    "numerical_transformer = Pipeline(steps=[\n",
    "    ('imputer', SimpleImputer(strategy='constant')),\n",
    "    ('scaler', StandardScaler())\n",
    "])\n",
    "\n",
    "\n",
    "# Preprocessing categorical data\n",
    "categorical_transformer = SimpleImputer(strategy='most_frequent')\n",
    "\n",
    "#Bundle preprocessing for numerical an categorical data\n",
    "preprocessor = ColumnTransformer(\n",
    "    transformers=[\n",
    "        ('num', numerical_transformer, numerical_cols),\n",
    "        ('cat', categorical_transformer, categorical_cols)\n",
    "    ])\n",
    "\n",
    "#Define model\n",
    "model = LogisticRegression()\n",
    "\n",
    "#Bundle preprocessing and modeling code in a pipeline\n",
    "clf = Pipeline(steps=[('preprocessor', preprocessor),\n",
    "                     ('model', model)\n",
    "                     ])\n",
    "\n",
    "# Preprocessing of validation data\n",
    "clf.fit(X_train, y_train)\n",
    "\n",
    "# Preprocessing of validation data\n",
    "preds = clf.predict(X_valid)\n",
    "\n",
    "print('Accuracy Score', accuracy_score(y_valid, preds))"
   ]
  },
  {
   "cell_type": "markdown",
   "id": "8168b7cb",
   "metadata": {
    "papermill": {
     "duration": 0.012425,
     "end_time": "2024-04-22T14:52:32.959968",
     "exception": false,
     "start_time": "2024-04-22T14:52:32.947543",
     "status": "completed"
    },
    "tags": []
   },
   "source": [
    "We have reached an Accuracy Score of 0.87. Let's now check the confusion matrix."
   ]
  },
  {
   "cell_type": "code",
   "execution_count": 8,
   "id": "f1114498",
   "metadata": {
    "execution": {
     "iopub.execute_input": "2024-04-22T14:52:32.987820Z",
     "iopub.status.busy": "2024-04-22T14:52:32.987207Z",
     "iopub.status.idle": "2024-04-22T14:52:33.376366Z",
     "shell.execute_reply": "2024-04-22T14:52:33.375104Z"
    },
    "papermill": {
     "duration": 0.406839,
     "end_time": "2024-04-22T14:52:33.379623",
     "exception": false,
     "start_time": "2024-04-22T14:52:32.972784",
     "status": "completed"
    },
    "tags": []
   },
   "outputs": [
    {
     "name": "stdout",
     "output_type": "stream",
     "text": [
      "Setup Complete\n"
     ]
    }
   ],
   "source": [
    "import pandas as pd\n",
    "pd.plotting.register_matplotlib_converters()\n",
    "import matplotlib.pyplot as plt\n",
    "%matplotlib inline\n",
    "import seaborn as sns\n",
    "print(\"Setup Complete\")"
   ]
  },
  {
   "cell_type": "code",
   "execution_count": 9,
   "id": "c42db2f1",
   "metadata": {
    "execution": {
     "iopub.execute_input": "2024-04-22T14:52:33.398999Z",
     "iopub.status.busy": "2024-04-22T14:52:33.398242Z",
     "iopub.status.idle": "2024-04-22T14:52:33.406252Z",
     "shell.execute_reply": "2024-04-22T14:52:33.404834Z"
    },
    "papermill": {
     "duration": 0.021087,
     "end_time": "2024-04-22T14:52:33.409346",
     "exception": false,
     "start_time": "2024-04-22T14:52:33.388259",
     "status": "completed"
    },
    "tags": []
   },
   "outputs": [
    {
     "name": "stdout",
     "output_type": "stream",
     "text": [
      "[[546  37]\n",
      " [ 70 195]]\n"
     ]
    }
   ],
   "source": [
    "# Show the confusion matrix\n",
    "cm = confusion_matrix(y_valid, preds)\n",
    "print(cm)"
   ]
  },
  {
   "cell_type": "code",
   "execution_count": 10,
   "id": "65ce61c5",
   "metadata": {
    "execution": {
     "iopub.execute_input": "2024-04-22T14:52:33.429003Z",
     "iopub.status.busy": "2024-04-22T14:52:33.428482Z",
     "iopub.status.idle": "2024-04-22T14:52:33.738777Z",
     "shell.execute_reply": "2024-04-22T14:52:33.737387Z"
    },
    "papermill": {
     "duration": 0.324242,
     "end_time": "2024-04-22T14:52:33.741643",
     "exception": false,
     "start_time": "2024-04-22T14:52:33.417401",
     "status": "completed"
    },
    "tags": []
   },
   "outputs": [
    {
     "data": {
      "image/png": "[encoded data removed]",
      "text/plain": [
       "<Figure size 640x480 with 2 Axes>"
      ]
     },
     "metadata": {},
     "output_type": "display_data"
    }
   ],
   "source": [
    "sns.heatmap(cm, annot=True, fmt=\"d\", cmap='Blues')\n",
    "plt.xlabel('Predicted')\n",
    "plt.ylabel('Actual')\n",
    "plt.title('Confusion Matrix')\n",
    "plt.show()"
   ]
  },
  {
   "cell_type": "code",
   "execution_count": 11,
   "id": "2d35b6c6",
   "metadata": {
    "execution": {
     "iopub.execute_input": "2024-04-22T14:52:33.763159Z",
     "iopub.status.busy": "2024-04-22T14:52:33.762744Z",
     "iopub.status.idle": "2024-04-22T14:52:34.094343Z",
     "shell.execute_reply": "2024-04-22T14:52:34.092943Z"
    },
    "papermill": {
     "duration": 0.344329,
     "end_time": "2024-04-22T14:52:34.096728",
     "exception": false,
     "start_time": "2024-04-22T14:52:33.752399",
     "status": "completed"
    },
    "tags": []
   },
   "outputs": [
    {
     "data": {
      "image/png": "[encoded data removed]",
      "text/plain": [
       "<Figure size 640x480 with 1 Axes>"
      ]
     },
     "metadata": {},
     "output_type": "display_data"
    }
   ],
   "source": [
    "# Calculate Precision-Recall curve\n",
    "precision, recall, _ = precision_recall_curve(y_valid, preds)\n",
    "\n",
    "# Plot Precision-Recall curve\n",
    "plt.figure()\n",
    "plt.plot(recall, precision, color='blue', lw=2, label='Precision-Recall curve')\n",
    "plt.xlabel('Recall')\n",
    "plt.ylabel('Precision')\n",
    "plt.title('Precision-Recall Curve')\n",
    "plt.legend(loc=\"lower left\")\n",
    "plt.show()"
   ]
  },
  {
   "cell_type": "markdown",
   "id": "e7846552",
   "metadata": {
    "papermill": {
     "duration": 0.010278,
     "end_time": "2024-04-22T14:52:34.115678",
     "exception": false,
     "start_time": "2024-04-22T14:52:34.105400",
     "status": "completed"
    },
    "tags": []
   },
   "source": [
    "# Random Forest Classifier"
   ]
  },
  {
   "cell_type": "code",
   "execution_count": 12,
   "id": "87f9178f",
   "metadata": {
    "execution": {
     "iopub.execute_input": "2024-04-22T14:52:34.139346Z",
     "iopub.status.busy": "2024-04-22T14:52:34.138881Z",
     "iopub.status.idle": "2024-04-22T14:52:34.929515Z",
     "shell.execute_reply": "2024-04-22T14:52:34.928292Z"
    },
    "papermill": {
     "duration": 0.806501,
     "end_time": "2024-04-22T14:52:34.932209",
     "exception": false,
     "start_time": "2024-04-22T14:52:34.125708",
     "status": "completed"
    },
    "tags": []
   },
   "outputs": [
    {
     "name": "stdout",
     "output_type": "stream",
     "text": [
      "Accuracy Score 0.9080188679245284\n"
     ]
    }
   ],
   "source": [
    "# Now we will use RandomForestClassifier\n",
    "from sklearn.ensemble import RandomForestClassifier\n",
    "# Select the model\n",
    "random_forest_model = RandomForestClassifier(n_estimators=100, random_state=1)\n",
    "\n",
    "#Bundle preprocessing and modeling code in a pipeline\n",
    "clf = Pipeline(steps=[('preprocessor', preprocessor),\n",
    "                     ('model', random_forest_model)\n",
    "                     ])\n",
    "#Train the model\n",
    "clf.fit(X_train, y_train)\n",
    "\n",
    "# Preprocessing of validation data\n",
    "preds = clf.predict(X_valid)\n",
    "\n",
    "print('Accuracy Score', accuracy_score(y_valid, preds))"
   ]
  },
  {
   "cell_type": "markdown",
   "id": "878dd982",
   "metadata": {
    "papermill": {
     "duration": 0.008273,
     "end_time": "2024-04-22T14:52:34.950017",
     "exception": false,
     "start_time": "2024-04-22T14:52:34.941744",
     "status": "completed"
    },
    "tags": []
   },
   "source": [
    "Now, we have reached an Accuracy Score of 0.908, which is slightly better than what we obtained with the Logistic Regression. Now let's check the confusion matrix:"
   ]
  },
  {
   "cell_type": "code",
   "execution_count": 13,
   "id": "18fc9c07",
   "metadata": {
    "execution": {
     "iopub.execute_input": "2024-04-22T14:52:34.969531Z",
     "iopub.status.busy": "2024-04-22T14:52:34.968727Z",
     "iopub.status.idle": "2024-04-22T14:52:34.976357Z",
     "shell.execute_reply": "2024-04-22T14:52:34.975231Z"
    },
    "papermill": {
     "duration": 0.020287,
     "end_time": "2024-04-22T14:52:34.978813",
     "exception": false,
     "start_time": "2024-04-22T14:52:34.958526",
     "status": "completed"
    },
    "tags": []
   },
   "outputs": [
    {
     "name": "stdout",
     "output_type": "stream",
     "text": [
      "[[539  44]\n",
      " [ 34 231]]\n"
     ]
    }
   ],
   "source": [
    "cm = confusion_matrix(y_valid, preds)\n",
    "print(cm)"
   ]
  },
  {
   "cell_type": "code",
   "execution_count": 14,
   "id": "f239f81b",
   "metadata": {
    "execution": {
     "iopub.execute_input": "2024-04-22T14:52:34.998078Z",
     "iopub.status.busy": "2024-04-22T14:52:34.997616Z",
     "iopub.status.idle": "2024-04-22T14:52:35.268453Z",
     "shell.execute_reply": "2024-04-22T14:52:35.267173Z"
    },
    "papermill": {
     "duration": 0.283532,
     "end_time": "2024-04-22T14:52:35.271181",
     "exception": false,
     "start_time": "2024-04-22T14:52:34.987649",
     "status": "completed"
    },
    "tags": []
   },
   "outputs": [
    {
     "data": {
      "image/png": "[encoded data removed]",
      "text/plain": [
       "<Figure size 640x480 with 2 Axes>"
      ]
     },
     "metadata": {},
     "output_type": "display_data"
    }
   ],
   "source": [
    "sns.heatmap(cm, annot=True, fmt=\"d\", cmap='Blues')\n",
    "plt.xlabel('Predicted')\n",
    "plt.ylabel('Actual')\n",
    "plt.title('Confusion Matrix')\n",
    "plt.show()"
   ]
  },
  {
   "cell_type": "code",
   "execution_count": 15,
   "id": "a5a9f2d3",
   "metadata": {
    "execution": {
     "iopub.execute_input": "2024-04-22T14:52:35.292088Z",
     "iopub.status.busy": "2024-04-22T14:52:35.291580Z",
     "iopub.status.idle": "2024-04-22T14:52:35.582682Z",
     "shell.execute_reply": "2024-04-22T14:52:35.580664Z"
    },
    "papermill": {
     "duration": 0.306217,
     "end_time": "2024-04-22T14:52:35.586771",
     "exception": false,
     "start_time": "2024-04-22T14:52:35.280554",
     "status": "completed"
    },
    "tags": []
   },
   "outputs": [
    {
     "data": {
      "image/png": "[encoded data removed]",
      "text/plain": [
       "<Figure size 640x480 with 1 Axes>"
      ]
     },
     "metadata": {},
     "output_type": "display_data"
    }
   ],
   "source": [
    "# Calculate Precision-Recall curve\n",
    "precision, recall, _ = precision_recall_curve(y_valid, preds)\n",
    "\n",
    "# Plot Precision-Recall curve\n",
    "plt.figure()\n",
    "plt.plot(recall, precision, color='blue', lw=2, label='Precision-Recall curve')\n",
    "plt.xlabel('Recall')\n",
    "plt.ylabel('Precision')\n",
    "plt.title('Precision-Recall Curve')\n",
    "plt.legend(loc=\"lower left\")\n",
    "plt.show()"
   ]
  },
  {
   "cell_type": "code",
   "execution_count": 16,
   "id": "33fc8fa4",
   "metadata": {
    "execution": {
     "iopub.execute_input": "2024-04-22T14:52:35.609400Z",
     "iopub.status.busy": "2024-04-22T14:52:35.608925Z",
     "iopub.status.idle": "2024-04-22T14:52:35.619457Z",
     "shell.execute_reply": "2024-04-22T14:52:35.617383Z"
    },
    "papermill": {
     "duration": 0.024656,
     "end_time": "2024-04-22T14:52:35.621975",
     "exception": false,
     "start_time": "2024-04-22T14:52:35.597319",
     "status": "completed"
    },
    "tags": []
   },
   "outputs": [
    {
     "name": "stdout",
     "output_type": "stream",
     "text": [
      "male              True\n",
      "age               True\n",
      "currentSmoker     True\n",
      "cigsPerDay       False\n",
      "BPMeds           False\n",
      "diabetes          True\n",
      "totChol          False\n",
      "sysBP            False\n",
      "diaBP            False\n",
      "BMI              False\n",
      "heartRate        False\n",
      "glucose          False\n",
      "dtype: bool\n"
     ]
    }
   ],
   "source": [
    "discrete_features = hypertension_data.dtypes == int\n",
    "discrete_features.drop(['Risk'], inplace=True)\n",
    "print(discrete_features)"
   ]
  },
  {
   "cell_type": "markdown",
   "id": "e751f9e9",
   "metadata": {
    "papermill": {
     "duration": 0.009853,
     "end_time": "2024-04-22T14:52:35.641615",
     "exception": false,
     "start_time": "2024-04-22T14:52:35.631762",
     "status": "completed"
    },
    "tags": []
   },
   "source": [
    "# Analizing the Performance with Mutual Information"
   ]
  },
  {
   "cell_type": "code",
   "execution_count": 17,
   "id": "d27966fe",
   "metadata": {
    "execution": {
     "iopub.execute_input": "2024-04-22T14:52:35.663198Z",
     "iopub.status.busy": "2024-04-22T14:52:35.662764Z",
     "iopub.status.idle": "2024-04-22T14:52:35.847246Z",
     "shell.execute_reply": "2024-04-22T14:52:35.845772Z"
    },
    "papermill": {
     "duration": 0.198613,
     "end_time": "2024-04-22T14:52:35.850110",
     "exception": false,
     "start_time": "2024-04-22T14:52:35.651497",
     "status": "completed"
    },
    "tags": []
   },
   "outputs": [
    {
     "name": "stderr",
     "output_type": "stream",
     "text": [
      "/tmp/ipykernel_18/512322355.py:11: SettingWithCopyWarning: \n",
      "A value is trying to be set on a copy of a slice from a DataFrame\n",
      "\n",
      "See the caveats in the documentation: https://pandas.pydata.org/pandas-docs/stable/user_guide/indexing.html#returning-a-view-versus-a-copy\n",
      "  X_data.drop(['Risk'], axis=1, inplace=True)\n"
     ]
    },
    {
     "data": {
      "text/plain": [
       "sysBP            0.332001\n",
       "diaBP            0.244939\n",
       "age              0.052808\n",
       "BPMeds           0.045609\n",
       "BMI              0.036666\n",
       "totChol          0.020031\n",
       "heartRate        0.019100\n",
       "currentSmoker    0.005564\n",
       "cigsPerDay       0.003889\n",
       "diabetes         0.003094\n",
       "male             0.000006\n",
       "glucose          0.000000\n",
       "Name: MI Scores, dtype: float64"
      ]
     },
     "execution_count": 17,
     "metadata": {},
     "output_type": "execute_result"
    }
   ],
   "source": [
    "from sklearn.feature_selection import mutual_info_classif\n",
    "\n",
    "def make_mi_scores(X, y, discrete_features):\n",
    "    mi_scores = mutual_info_classif(X, y, discrete_features=discrete_features)\n",
    "    mi_scores = pd.Series(mi_scores, name=\"MI Scores\", index=X.columns)\n",
    "    mi_scores = mi_scores.sort_values(ascending=False)\n",
    "    return mi_scores\n",
    "\n",
    "X_data = hypertension_data.dropna(axis=0, inplace=False)\n",
    "y_data = X_data.Risk\n",
    "X_data.drop(['Risk'], axis=1, inplace=True)\n",
    "mi_scores = make_mi_scores(X_data, y_data, discrete_features)\n",
    "mi_scores  # show features with their MI scores"
   ]
  },
  {
   "cell_type": "code",
   "execution_count": 18,
   "id": "6cc8baaf",
   "metadata": {
    "execution": {
     "iopub.execute_input": "2024-04-22T14:52:35.871725Z",
     "iopub.status.busy": "2024-04-22T14:52:35.871276Z",
     "iopub.status.idle": "2024-04-22T14:52:36.197026Z",
     "shell.execute_reply": "2024-04-22T14:52:36.195578Z"
    },
    "papermill": {
     "duration": 0.34128,
     "end_time": "2024-04-22T14:52:36.201366",
     "exception": false,
     "start_time": "2024-04-22T14:52:35.860086",
     "status": "completed"
    },
    "tags": []
   },
   "outputs": [
    {
     "data": {
      "image/png": "[encoded data removed]",
      "text/plain": [
       "<Figure size 800x500 with 1 Axes>"
      ]
     },
     "metadata": {},
     "output_type": "display_data"
    }
   ],
   "source": [
    "def plot_mi_scores(scores):\n",
    "    scores = scores.sort_values(ascending=True)\n",
    "    width = np.arange(len(scores))\n",
    "    ticks = list(scores.index)\n",
    "    plt.barh(width, scores)\n",
    "    plt.yticks(width, ticks)\n",
    "    plt.title(\"Mutual Information Scores\")\n",
    "\n",
    "\n",
    "plt.figure(dpi=100, figsize=(8, 5))\n",
    "plot_mi_scores(mi_scores)"
   ]
  },
  {
   "cell_type": "markdown",
   "id": "8071901a",
   "metadata": {
    "papermill": {
     "duration": 0.010019,
     "end_time": "2024-04-22T14:52:36.222905",
     "exception": false,
     "start_time": "2024-04-22T14:52:36.212886",
     "status": "completed"
    },
    "tags": []
   },
   "source": [
    "The feature that apparently has a relationship with the target is sysBP (systolic blood pressure). The features with less MI scores are diabetes and male."
   ]
  },
  {
   "cell_type": "code",
   "execution_count": 19,
   "id": "ac222f98",
   "metadata": {
    "execution": {
     "iopub.execute_input": "2024-04-22T14:52:36.246879Z",
     "iopub.status.busy": "2024-04-22T14:52:36.245702Z",
     "iopub.status.idle": "2024-04-22T14:52:36.500111Z",
     "shell.execute_reply": "2024-04-22T14:52:36.498649Z"
    },
    "papermill": {
     "duration": 0.270094,
     "end_time": "2024-04-22T14:52:36.503567",
     "exception": false,
     "start_time": "2024-04-22T14:52:36.233473",
     "status": "completed"
    },
    "tags": []
   },
   "outputs": [
    {
     "data": {
      "image/png": "[encoded data removed]",
      "text/plain": [
       "<Figure size 640x480 with 1 Axes>"
      ]
     },
     "metadata": {},
     "output_type": "display_data"
    }
   ],
   "source": [
    "# Now let's graph the sysBP with the target\n",
    "import seaborn as sns\n",
    "\n",
    "X_data = hypertension_data.dropna(axis=0, inplace=False)\n",
    "sns.boxplot(x='Risk', y='sysBP', data=X_data)\n",
    "plt.title(\"Risk vs. sysBP\")\n",
    "plt.show()"
   ]
  },
  {
   "cell_type": "code",
   "execution_count": 20,
   "id": "c35945bd",
   "metadata": {
    "execution": {
     "iopub.execute_input": "2024-04-22T14:52:36.529544Z",
     "iopub.status.busy": "2024-04-22T14:52:36.529083Z",
     "iopub.status.idle": "2024-04-22T14:52:36.555141Z",
     "shell.execute_reply": "2024-04-22T14:52:36.553512Z"
    },
    "papermill": {
     "duration": 0.04363,
     "end_time": "2024-04-22T14:52:36.558978",
     "exception": false,
     "start_time": "2024-04-22T14:52:36.515348",
     "status": "completed"
    },
    "tags": []
   },
   "outputs": [
    {
     "data": {
      "text/html": [
       "<div>\n",
       "<style scoped>\n",
       "    .dataframe tbody tr th:only-of-type {\n",
       "        vertical-align: middle;\n",
       "    }\n",
       "\n",
       "    .dataframe tbody tr th {\n",
       "        vertical-align: top;\n",
       "    }\n",
       "\n",
       "    .dataframe thead th {\n",
       "        text-align: right;\n",
       "    }\n",
       "</style>\n",
       "<table border=\"1\" class=\"dataframe\">\n",
       "  <thead>\n",
       "    <tr style=\"text-align: right;\">\n",
       "      <th></th>\n",
       "      <th>male</th>\n",
       "      <th>age</th>\n",
       "      <th>currentSmoker</th>\n",
       "      <th>cigsPerDay</th>\n",
       "      <th>BPMeds</th>\n",
       "      <th>diabetes</th>\n",
       "      <th>totChol</th>\n",
       "      <th>sysBP</th>\n",
       "      <th>diaBP</th>\n",
       "      <th>BMI</th>\n",
       "      <th>heartRate</th>\n",
       "      <th>glucose</th>\n",
       "    </tr>\n",
       "  </thead>\n",
       "  <tbody>\n",
       "    <tr>\n",
       "      <th>4227</th>\n",
       "      <td>1</td>\n",
       "      <td>43</td>\n",
       "      <td>1</td>\n",
       "      <td>20.0</td>\n",
       "      <td>0.0</td>\n",
       "      <td>0</td>\n",
       "      <td>187.0</td>\n",
       "      <td>129.5</td>\n",
       "      <td>88.0</td>\n",
       "      <td>25.62</td>\n",
       "      <td>80.0</td>\n",
       "      <td>75.0</td>\n",
       "    </tr>\n",
       "    <tr>\n",
       "      <th>1811</th>\n",
       "      <td>1</td>\n",
       "      <td>43</td>\n",
       "      <td>1</td>\n",
       "      <td>20.0</td>\n",
       "      <td>0.0</td>\n",
       "      <td>0</td>\n",
       "      <td>180.0</td>\n",
       "      <td>131.0</td>\n",
       "      <td>92.0</td>\n",
       "      <td>27.18</td>\n",
       "      <td>65.0</td>\n",
       "      <td>85.0</td>\n",
       "    </tr>\n",
       "    <tr>\n",
       "      <th>3301</th>\n",
       "      <td>0</td>\n",
       "      <td>40</td>\n",
       "      <td>1</td>\n",
       "      <td>20.0</td>\n",
       "      <td>0.0</td>\n",
       "      <td>0</td>\n",
       "      <td>165.0</td>\n",
       "      <td>101.0</td>\n",
       "      <td>59.0</td>\n",
       "      <td>23.06</td>\n",
       "      <td>60.0</td>\n",
       "      <td>76.0</td>\n",
       "    </tr>\n",
       "    <tr>\n",
       "      <th>1203</th>\n",
       "      <td>1</td>\n",
       "      <td>64</td>\n",
       "      <td>1</td>\n",
       "      <td>30.0</td>\n",
       "      <td>0.0</td>\n",
       "      <td>0</td>\n",
       "      <td>253.0</td>\n",
       "      <td>178.0</td>\n",
       "      <td>106.0</td>\n",
       "      <td>24.68</td>\n",
       "      <td>100.0</td>\n",
       "      <td>76.0</td>\n",
       "    </tr>\n",
       "    <tr>\n",
       "      <th>2615</th>\n",
       "      <td>0</td>\n",
       "      <td>47</td>\n",
       "      <td>1</td>\n",
       "      <td>9.0</td>\n",
       "      <td>0.0</td>\n",
       "      <td>0</td>\n",
       "      <td>214.0</td>\n",
       "      <td>118.0</td>\n",
       "      <td>72.0</td>\n",
       "      <td>24.08</td>\n",
       "      <td>60.0</td>\n",
       "      <td>NaN</td>\n",
       "    </tr>\n",
       "  </tbody>\n",
       "</table>\n",
       "</div>"
      ],
      "text/plain": [
       "      male  age  currentSmoker  cigsPerDay  BPMeds  diabetes  totChol  sysBP  \\\n",
       "4227     1   43              1        20.0     0.0         0    187.0  129.5   \n",
       "1811     1   43              1        20.0     0.0         0    180.0  131.0   \n",
       "3301     0   40              1        20.0     0.0         0    165.0  101.0   \n",
       "1203     1   64              1        30.0     0.0         0    253.0  178.0   \n",
       "2615     0   47              1         9.0     0.0         0    214.0  118.0   \n",
       "\n",
       "      diaBP    BMI  heartRate  glucose  \n",
       "4227   88.0  25.62       80.0     75.0  \n",
       "1811   92.0  27.18       65.0     85.0  \n",
       "3301   59.0  23.06       60.0     76.0  \n",
       "1203  106.0  24.68      100.0     76.0  \n",
       "2615   72.0  24.08       60.0      NaN  "
      ]
     },
     "execution_count": 20,
     "metadata": {},
     "output_type": "execute_result"
    }
   ],
   "source": [
    "X_train.head()"
   ]
  },
  {
   "cell_type": "markdown",
   "id": "e1888a36",
   "metadata": {
    "papermill": {
     "duration": 0.011255,
     "end_time": "2024-04-22T14:52:36.583329",
     "exception": false,
     "start_time": "2024-04-22T14:52:36.572074",
     "status": "completed"
    },
    "tags": []
   },
   "source": [
    "**Let's now try removing the diabetes column to see if our model improves:**"
   ]
  },
  {
   "cell_type": "code",
   "execution_count": 21,
   "id": "a7fc7cdc",
   "metadata": {
    "execution": {
     "iopub.execute_input": "2024-04-22T14:52:36.609249Z",
     "iopub.status.busy": "2024-04-22T14:52:36.608644Z",
     "iopub.status.idle": "2024-04-22T14:52:36.615406Z",
     "shell.execute_reply": "2024-04-22T14:52:36.614088Z"
    },
    "papermill": {
     "duration": 0.023972,
     "end_time": "2024-04-22T14:52:36.618449",
     "exception": false,
     "start_time": "2024-04-22T14:52:36.594477",
     "status": "completed"
    },
    "tags": []
   },
   "outputs": [],
   "source": [
    "# In this case, the categorical and numerical columns can be classifed directly:\n",
    "categorical_cols = ['male', 'currentSmoker', 'diabetes']\n",
    "# For numerical cols, we don't consider glucose due to the low relationship with the target\n",
    "numerical_cols = ['age', 'cigsPerDay', 'BPMeds', 'totChol', 'sysBP', 'diaBP', 'BMI',\n",
    "                 'heartRate']"
   ]
  },
  {
   "cell_type": "code",
   "execution_count": 22,
   "id": "574943cc",
   "metadata": {
    "execution": {
     "iopub.execute_input": "2024-04-22T14:52:36.646827Z",
     "iopub.status.busy": "2024-04-22T14:52:36.646338Z",
     "iopub.status.idle": "2024-04-22T14:52:37.310643Z",
     "shell.execute_reply": "2024-04-22T14:52:37.309483Z"
    },
    "papermill": {
     "duration": 0.68364,
     "end_time": "2024-04-22T14:52:37.313849",
     "exception": false,
     "start_time": "2024-04-22T14:52:36.630209",
     "status": "completed"
    },
    "tags": []
   },
   "outputs": [
    {
     "name": "stdout",
     "output_type": "stream",
     "text": [
      "Accuracy Score 0.902122641509434\n"
     ]
    }
   ],
   "source": [
    "#Preprocessing numerical data\n",
    "numerical_transformer = Pipeline(steps=[\n",
    "    ('imputer', SimpleImputer(strategy='constant')),\n",
    "    ('scaler', StandardScaler())\n",
    "])\n",
    "\n",
    "\n",
    "# Preprocessing categorical data\n",
    "categorical_transformer = SimpleImputer(strategy='most_frequent')\n",
    "\n",
    "#Bundle preprocessing for numerical an categorical data\n",
    "preprocessor = ColumnTransformer(\n",
    "    transformers=[\n",
    "        ('num', numerical_transformer, numerical_cols),\n",
    "        ('cat', categorical_transformer, categorical_cols)\n",
    "    ])\n",
    "\n",
    "# Now we will use RandomForestClassifier\n",
    "# Select the model\n",
    "random_forest_model = RandomForestClassifier(n_estimators=100, random_state=1)\n",
    "\n",
    "#Bundle preprocessing and modeling code in a pipeline\n",
    "clf = Pipeline(steps=[('preprocessor', preprocessor),\n",
    "                     ('model', random_forest_model)\n",
    "                     ])\n",
    "\n",
    "X_train_1 = X_train.drop(['glucose'], axis=1, inplace=False)\n",
    "X_valid_1 = X_valid.drop(['glucose'], axis=1, inplace=False)\n",
    "\n",
    "#Train the model\n",
    "clf.fit(X_train_1, y_train)\n",
    "\n",
    "# Preprocessing of validation data\n",
    "preds = clf.predict(X_valid_1)\n",
    "\n",
    "print('Accuracy Score', accuracy_score(y_valid, preds))"
   ]
  },
  {
   "cell_type": "markdown",
   "id": "31b6d016",
   "metadata": {
    "papermill": {
     "duration": 0.014352,
     "end_time": "2024-04-22T14:52:37.341635",
     "exception": false,
     "start_time": "2024-04-22T14:52:37.327283",
     "status": "completed"
    },
    "tags": []
   },
   "source": [
    "Now, the Accuracy Score is 0.902, which is slightly worse compared to the Score we obtained using the Random Forest Classifier. "
   ]
  }
 ],
 "metadata": {
  "kaggle": {
   "accelerator": "none",
   "dataSources": [
    {
     "datasetId": 4699720,
     "sourceId": 7984234,
     "sourceType": "datasetVersion"
    }
   ],
   "dockerImageVersionId": 30684,
   "isGpuEnabled": false,
   "isInternetEnabled": true,
   "language": "python",
   "sourceType": "notebook"
  },
  "kernelspec": {
   "display_name": "Python 3",
   "language": "python",
   "name": "python3"
  },
  "language_info": {
   "codemirror_mode": {
    "name": "ipython",
    "version": 3
   },
   "file_extension": ".py",
   "mimetype": "text/x-python",
   "name": "python",
   "nbconvert_exporter": "python",
   "pygments_lexer": "ipython3",
   "version": "3.10.13"
  },
  "papermill": {
   "default_parameters": {},
   "duration": 11.534658,
   "end_time": "2024-04-22T14:52:38.077411",
   "environment_variables": {},
   "exception": null,
   "input_path": "__notebook__.ipynb",
   "output_path": "__notebook__.ipynb",
   "parameters": {},
   "start_time": "2024-04-22T14:52:26.542753",
   "version": "2.5.0"
  }
 },
 "nbformat": 4,
 "nbformat_minor": 5
}
