{
 "cells": [
  {
   "cell_type": "code",
   "execution_count": 1,
   "id": "85bd8ae7",
   "metadata": {
    "_cell_guid": "b1076dfc-b9ad-4769-8c92-a6c4dae69d19",
    "_uuid": "8f2839f25d086af736a60e9eeb907d3b93b6e0e5",
    "execution": {
     "iopub.execute_input": "2024-04-21T22:11:49.137555Z",
     "iopub.status.busy": "2024-04-21T22:11:49.137113Z",
     "iopub.status.idle": "2024-04-21T22:11:50.069636Z",
     "shell.execute_reply": "2024-04-21T22:11:50.068383Z"
    },
    "papermill": {
     "duration": 0.943545,
     "end_time": "2024-04-21T22:11:50.072563",
     "exception": false,
     "start_time": "2024-04-21T22:11:49.129018",
     "status": "completed"
    },
    "tags": []
   },
   "outputs": [],
   "source": [
    "import numpy as np # linear algebra\n",
    "import pandas as pd # data processing, CSV file I/O (e.g. pd.read_csv)"
   ]
  },
  {
   "cell_type": "code",
   "execution_count": 2,
   "id": "6b9264ac",
   "metadata": {
    "execution": {
     "iopub.execute_input": "2024-04-21T22:11:50.087171Z",
     "iopub.status.busy": "2024-04-21T22:11:50.085798Z",
     "iopub.status.idle": "2024-04-21T22:11:50.156957Z",
     "shell.execute_reply": "2024-04-21T22:11:50.155526Z"
    },
    "papermill": {
     "duration": 0.080936,
     "end_time": "2024-04-21T22:11:50.159500",
     "exception": false,
     "start_time": "2024-04-21T22:11:50.078564",
     "status": "completed"
    },
    "tags": []
   },
   "outputs": [
    {
     "data": {
      "text/html": [
       "<div>\n",
       "<style scoped>\n",
       "    .dataframe tbody tr th:only-of-type {\n",
       "        vertical-align: middle;\n",
       "    }\n",
       "\n",
       "    .dataframe tbody tr th {\n",
       "        vertical-align: top;\n",
       "    }\n",
       "\n",
       "    .dataframe thead th {\n",
       "        text-align: right;\n",
       "    }\n",
       "</style>\n",
       "<table border=\"1\" class=\"dataframe\">\n",
       "  <thead>\n",
       "    <tr style=\"text-align: right;\">\n",
       "      <th></th>\n",
       "      <th>male</th>\n",
       "      <th>age</th>\n",
       "      <th>currentSmoker</th>\n",
       "      <th>cigsPerDay</th>\n",
       "      <th>BPMeds</th>\n",
       "      <th>diabetes</th>\n",
       "      <th>totChol</th>\n",
       "      <th>sysBP</th>\n",
       "      <th>diaBP</th>\n",
       "      <th>BMI</th>\n",
       "      <th>heartRate</th>\n",
       "      <th>glucose</th>\n",
       "      <th>Risk</th>\n",
       "    </tr>\n",
       "  </thead>\n",
       "  <tbody>\n",
       "    <tr>\n",
       "      <th>0</th>\n",
       "      <td>1</td>\n",
       "      <td>39</td>\n",
       "      <td>0</td>\n",
       "      <td>0.0</td>\n",
       "      <td>0.0</td>\n",
       "      <td>0</td>\n",
       "      <td>195.0</td>\n",
       "      <td>106.0</td>\n",
       "      <td>70.0</td>\n",
       "      <td>26.97</td>\n",
       "      <td>80.0</td>\n",
       "      <td>77.0</td>\n",
       "      <td>0</td>\n",
       "    </tr>\n",
       "    <tr>\n",
       "      <th>1</th>\n",
       "      <td>0</td>\n",
       "      <td>46</td>\n",
       "      <td>0</td>\n",
       "      <td>0.0</td>\n",
       "      <td>0.0</td>\n",
       "      <td>0</td>\n",
       "      <td>250.0</td>\n",
       "      <td>121.0</td>\n",
       "      <td>81.0</td>\n",
       "      <td>28.73</td>\n",
       "      <td>95.0</td>\n",
       "      <td>76.0</td>\n",
       "      <td>0</td>\n",
       "    </tr>\n",
       "    <tr>\n",
       "      <th>2</th>\n",
       "      <td>1</td>\n",
       "      <td>48</td>\n",
       "      <td>1</td>\n",
       "      <td>20.0</td>\n",
       "      <td>0.0</td>\n",
       "      <td>0</td>\n",
       "      <td>245.0</td>\n",
       "      <td>127.5</td>\n",
       "      <td>80.0</td>\n",
       "      <td>25.34</td>\n",
       "      <td>75.0</td>\n",
       "      <td>70.0</td>\n",
       "      <td>0</td>\n",
       "    </tr>\n",
       "    <tr>\n",
       "      <th>3</th>\n",
       "      <td>0</td>\n",
       "      <td>61</td>\n",
       "      <td>1</td>\n",
       "      <td>30.0</td>\n",
       "      <td>0.0</td>\n",
       "      <td>0</td>\n",
       "      <td>225.0</td>\n",
       "      <td>150.0</td>\n",
       "      <td>95.0</td>\n",
       "      <td>28.58</td>\n",
       "      <td>65.0</td>\n",
       "      <td>103.0</td>\n",
       "      <td>1</td>\n",
       "    </tr>\n",
       "    <tr>\n",
       "      <th>4</th>\n",
       "      <td>0</td>\n",
       "      <td>46</td>\n",
       "      <td>1</td>\n",
       "      <td>23.0</td>\n",
       "      <td>0.0</td>\n",
       "      <td>0</td>\n",
       "      <td>285.0</td>\n",
       "      <td>130.0</td>\n",
       "      <td>84.0</td>\n",
       "      <td>23.10</td>\n",
       "      <td>85.0</td>\n",
       "      <td>85.0</td>\n",
       "      <td>0</td>\n",
       "    </tr>\n",
       "    <tr>\n",
       "      <th>...</th>\n",
       "      <td>...</td>\n",
       "      <td>...</td>\n",
       "      <td>...</td>\n",
       "      <td>...</td>\n",
       "      <td>...</td>\n",
       "      <td>...</td>\n",
       "      <td>...</td>\n",
       "      <td>...</td>\n",
       "      <td>...</td>\n",
       "      <td>...</td>\n",
       "      <td>...</td>\n",
       "      <td>...</td>\n",
       "      <td>...</td>\n",
       "    </tr>\n",
       "    <tr>\n",
       "      <th>195</th>\n",
       "      <td>0</td>\n",
       "      <td>49</td>\n",
       "      <td>1</td>\n",
       "      <td>9.0</td>\n",
       "      <td>0.0</td>\n",
       "      <td>0</td>\n",
       "      <td>226.0</td>\n",
       "      <td>106.0</td>\n",
       "      <td>71.0</td>\n",
       "      <td>22.89</td>\n",
       "      <td>85.0</td>\n",
       "      <td>57.0</td>\n",
       "      <td>0</td>\n",
       "    </tr>\n",
       "    <tr>\n",
       "      <th>196</th>\n",
       "      <td>1</td>\n",
       "      <td>48</td>\n",
       "      <td>1</td>\n",
       "      <td>10.0</td>\n",
       "      <td>0.0</td>\n",
       "      <td>0</td>\n",
       "      <td>308.0</td>\n",
       "      <td>117.0</td>\n",
       "      <td>76.0</td>\n",
       "      <td>30.85</td>\n",
       "      <td>65.0</td>\n",
       "      <td>54.0</td>\n",
       "      <td>0</td>\n",
       "    </tr>\n",
       "    <tr>\n",
       "      <th>197</th>\n",
       "      <td>0</td>\n",
       "      <td>55</td>\n",
       "      <td>1</td>\n",
       "      <td>9.0</td>\n",
       "      <td>0.0</td>\n",
       "      <td>0</td>\n",
       "      <td>248.0</td>\n",
       "      <td>157.0</td>\n",
       "      <td>82.5</td>\n",
       "      <td>22.91</td>\n",
       "      <td>89.0</td>\n",
       "      <td>83.0</td>\n",
       "      <td>0</td>\n",
       "    </tr>\n",
       "    <tr>\n",
       "      <th>198</th>\n",
       "      <td>0</td>\n",
       "      <td>58</td>\n",
       "      <td>1</td>\n",
       "      <td>5.0</td>\n",
       "      <td>0.0</td>\n",
       "      <td>0</td>\n",
       "      <td>215.0</td>\n",
       "      <td>170.0</td>\n",
       "      <td>86.0</td>\n",
       "      <td>29.06</td>\n",
       "      <td>75.0</td>\n",
       "      <td>98.0</td>\n",
       "      <td>0</td>\n",
       "    </tr>\n",
       "    <tr>\n",
       "      <th>199</th>\n",
       "      <td>1</td>\n",
       "      <td>60</td>\n",
       "      <td>0</td>\n",
       "      <td>0.0</td>\n",
       "      <td>0.0</td>\n",
       "      <td>0</td>\n",
       "      <td>240.0</td>\n",
       "      <td>137.0</td>\n",
       "      <td>84.0</td>\n",
       "      <td>29.51</td>\n",
       "      <td>82.0</td>\n",
       "      <td>88.0</td>\n",
       "      <td>0</td>\n",
       "    </tr>\n",
       "  </tbody>\n",
       "</table>\n",
       "<p>200 rows × 13 columns</p>\n",
       "</div>"
      ],
      "text/plain": [
       "     male  age  currentSmoker  cigsPerDay  BPMeds  diabetes  totChol  sysBP  \\\n",
       "0       1   39              0         0.0     0.0         0    195.0  106.0   \n",
       "1       0   46              0         0.0     0.0         0    250.0  121.0   \n",
       "2       1   48              1        20.0     0.0         0    245.0  127.5   \n",
       "3       0   61              1        30.0     0.0         0    225.0  150.0   \n",
       "4       0   46              1        23.0     0.0         0    285.0  130.0   \n",
       "..    ...  ...            ...         ...     ...       ...      ...    ...   \n",
       "195     0   49              1         9.0     0.0         0    226.0  106.0   \n",
       "196     1   48              1        10.0     0.0         0    308.0  117.0   \n",
       "197     0   55              1         9.0     0.0         0    248.0  157.0   \n",
       "198     0   58              1         5.0     0.0         0    215.0  170.0   \n",
       "199     1   60              0         0.0     0.0         0    240.0  137.0   \n",
       "\n",
       "     diaBP    BMI  heartRate  glucose  Risk  \n",
       "0     70.0  26.97       80.0     77.0     0  \n",
       "1     81.0  28.73       95.0     76.0     0  \n",
       "2     80.0  25.34       75.0     70.0     0  \n",
       "3     95.0  28.58       65.0    103.0     1  \n",
       "4     84.0  23.10       85.0     85.0     0  \n",
       "..     ...    ...        ...      ...   ...  \n",
       "195   71.0  22.89       85.0     57.0     0  \n",
       "196   76.0  30.85       65.0     54.0     0  \n",
       "197   82.5  22.91       89.0     83.0     0  \n",
       "198   86.0  29.06       75.0     98.0     0  \n",
       "199   84.0  29.51       82.0     88.0     0  \n",
       "\n",
       "[200 rows x 13 columns]"
      ]
     },
     "execution_count": 2,
     "metadata": {},
     "output_type": "execute_result"
    }
   ],
   "source": [
    "file_path = '../input/hypertension-risk-model-main/Hypertension-risk-model-main.csv'\n",
    "hypertension_data = pd.read_csv(file_path)\n",
    "\n",
    "hypertension_data.head(200)\n"
   ]
  },
  {
   "cell_type": "code",
   "execution_count": 3,
   "id": "31b5dc9e",
   "metadata": {
    "execution": {
     "iopub.execute_input": "2024-04-21T22:11:50.174906Z",
     "iopub.status.busy": "2024-04-21T22:11:50.174447Z",
     "iopub.status.idle": "2024-04-21T22:11:50.201796Z",
     "shell.execute_reply": "2024-04-21T22:11:50.200472Z"
    },
    "papermill": {
     "duration": 0.038099,
     "end_time": "2024-04-21T22:11:50.204406",
     "exception": false,
     "start_time": "2024-04-21T22:11:50.166307",
     "status": "completed"
    },
    "tags": []
   },
   "outputs": [
    {
     "data": {
      "text/html": [
       "<div>\n",
       "<style scoped>\n",
       "    .dataframe tbody tr th:only-of-type {\n",
       "        vertical-align: middle;\n",
       "    }\n",
       "\n",
       "    .dataframe tbody tr th {\n",
       "        vertical-align: top;\n",
       "    }\n",
       "\n",
       "    .dataframe thead th {\n",
       "        text-align: right;\n",
       "    }\n",
       "</style>\n",
       "<table border=\"1\" class=\"dataframe\">\n",
       "  <thead>\n",
       "    <tr style=\"text-align: right;\">\n",
       "      <th></th>\n",
       "      <th>male</th>\n",
       "      <th>age</th>\n",
       "      <th>currentSmoker</th>\n",
       "      <th>cigsPerDay</th>\n",
       "      <th>BPMeds</th>\n",
       "      <th>diabetes</th>\n",
       "      <th>totChol</th>\n",
       "      <th>sysBP</th>\n",
       "      <th>diaBP</th>\n",
       "      <th>BMI</th>\n",
       "      <th>heartRate</th>\n",
       "      <th>glucose</th>\n",
       "    </tr>\n",
       "  </thead>\n",
       "  <tbody>\n",
       "    <tr>\n",
       "      <th>0</th>\n",
       "      <td>1</td>\n",
       "      <td>39</td>\n",
       "      <td>0</td>\n",
       "      <td>0.0</td>\n",
       "      <td>0.0</td>\n",
       "      <td>0</td>\n",
       "      <td>195.0</td>\n",
       "      <td>106.0</td>\n",
       "      <td>70.0</td>\n",
       "      <td>26.97</td>\n",
       "      <td>80.0</td>\n",
       "      <td>77.0</td>\n",
       "    </tr>\n",
       "    <tr>\n",
       "      <th>1</th>\n",
       "      <td>0</td>\n",
       "      <td>46</td>\n",
       "      <td>0</td>\n",
       "      <td>0.0</td>\n",
       "      <td>0.0</td>\n",
       "      <td>0</td>\n",
       "      <td>250.0</td>\n",
       "      <td>121.0</td>\n",
       "      <td>81.0</td>\n",
       "      <td>28.73</td>\n",
       "      <td>95.0</td>\n",
       "      <td>76.0</td>\n",
       "    </tr>\n",
       "    <tr>\n",
       "      <th>2</th>\n",
       "      <td>1</td>\n",
       "      <td>48</td>\n",
       "      <td>1</td>\n",
       "      <td>20.0</td>\n",
       "      <td>0.0</td>\n",
       "      <td>0</td>\n",
       "      <td>245.0</td>\n",
       "      <td>127.5</td>\n",
       "      <td>80.0</td>\n",
       "      <td>25.34</td>\n",
       "      <td>75.0</td>\n",
       "      <td>70.0</td>\n",
       "    </tr>\n",
       "    <tr>\n",
       "      <th>3</th>\n",
       "      <td>0</td>\n",
       "      <td>61</td>\n",
       "      <td>1</td>\n",
       "      <td>30.0</td>\n",
       "      <td>0.0</td>\n",
       "      <td>0</td>\n",
       "      <td>225.0</td>\n",
       "      <td>150.0</td>\n",
       "      <td>95.0</td>\n",
       "      <td>28.58</td>\n",
       "      <td>65.0</td>\n",
       "      <td>103.0</td>\n",
       "    </tr>\n",
       "    <tr>\n",
       "      <th>4</th>\n",
       "      <td>0</td>\n",
       "      <td>46</td>\n",
       "      <td>1</td>\n",
       "      <td>23.0</td>\n",
       "      <td>0.0</td>\n",
       "      <td>0</td>\n",
       "      <td>285.0</td>\n",
       "      <td>130.0</td>\n",
       "      <td>84.0</td>\n",
       "      <td>23.10</td>\n",
       "      <td>85.0</td>\n",
       "      <td>85.0</td>\n",
       "    </tr>\n",
       "  </tbody>\n",
       "</table>\n",
       "</div>"
      ],
      "text/plain": [
       "   male  age  currentSmoker  cigsPerDay  BPMeds  diabetes  totChol  sysBP  \\\n",
       "0     1   39              0         0.0     0.0         0    195.0  106.0   \n",
       "1     0   46              0         0.0     0.0         0    250.0  121.0   \n",
       "2     1   48              1        20.0     0.0         0    245.0  127.5   \n",
       "3     0   61              1        30.0     0.0         0    225.0  150.0   \n",
       "4     0   46              1        23.0     0.0         0    285.0  130.0   \n",
       "\n",
       "   diaBP    BMI  heartRate  glucose  \n",
       "0   70.0  26.97       80.0     77.0  \n",
       "1   81.0  28.73       95.0     76.0  \n",
       "2   80.0  25.34       75.0     70.0  \n",
       "3   95.0  28.58       65.0    103.0  \n",
       "4   84.0  23.10       85.0     85.0  "
      ]
     },
     "execution_count": 3,
     "metadata": {},
     "output_type": "execute_result"
    }
   ],
   "source": [
    "# delete rows with missing targets\n",
    "X_data = hypertension_data.dropna(axis=0, subset=['Risk'], inplace=False)\n",
    "y_data = X_data.Risk\n",
    "X_data.drop(['Risk'], axis=1, inplace=True)\n",
    "X_data.head()"
   ]
  },
  {
   "cell_type": "code",
   "execution_count": 4,
   "id": "e49945e4",
   "metadata": {
    "execution": {
     "iopub.execute_input": "2024-04-21T22:11:50.219617Z",
     "iopub.status.busy": "2024-04-21T22:11:50.219166Z",
     "iopub.status.idle": "2024-04-21T22:11:50.238754Z",
     "shell.execute_reply": "2024-04-21T22:11:50.237460Z"
    },
    "papermill": {
     "duration": 0.03038,
     "end_time": "2024-04-21T22:11:50.241500",
     "exception": false,
     "start_time": "2024-04-21T22:11:50.211120",
     "status": "completed"
    },
    "tags": []
   },
   "outputs": [
    {
     "data": {
      "text/html": [
       "<div>\n",
       "<style scoped>\n",
       "    .dataframe tbody tr th:only-of-type {\n",
       "        vertical-align: middle;\n",
       "    }\n",
       "\n",
       "    .dataframe tbody tr th {\n",
       "        vertical-align: top;\n",
       "    }\n",
       "\n",
       "    .dataframe thead th {\n",
       "        text-align: right;\n",
       "    }\n",
       "</style>\n",
       "<table border=\"1\" class=\"dataframe\">\n",
       "  <thead>\n",
       "    <tr style=\"text-align: right;\">\n",
       "      <th></th>\n",
       "      <th>male</th>\n",
       "      <th>age</th>\n",
       "      <th>currentSmoker</th>\n",
       "      <th>cigsPerDay</th>\n",
       "      <th>BPMeds</th>\n",
       "      <th>diabetes</th>\n",
       "      <th>totChol</th>\n",
       "      <th>sysBP</th>\n",
       "      <th>diaBP</th>\n",
       "      <th>BMI</th>\n",
       "      <th>heartRate</th>\n",
       "      <th>glucose</th>\n",
       "    </tr>\n",
       "  </thead>\n",
       "  <tbody>\n",
       "    <tr>\n",
       "      <th>0</th>\n",
       "      <td>1</td>\n",
       "      <td>39</td>\n",
       "      <td>0</td>\n",
       "      <td>0.0</td>\n",
       "      <td>0.0</td>\n",
       "      <td>0</td>\n",
       "      <td>195.0</td>\n",
       "      <td>106.0</td>\n",
       "      <td>70.0</td>\n",
       "      <td>26.97</td>\n",
       "      <td>80.0</td>\n",
       "      <td>77.0</td>\n",
       "    </tr>\n",
       "    <tr>\n",
       "      <th>1</th>\n",
       "      <td>0</td>\n",
       "      <td>46</td>\n",
       "      <td>0</td>\n",
       "      <td>0.0</td>\n",
       "      <td>0.0</td>\n",
       "      <td>0</td>\n",
       "      <td>250.0</td>\n",
       "      <td>121.0</td>\n",
       "      <td>81.0</td>\n",
       "      <td>28.73</td>\n",
       "      <td>95.0</td>\n",
       "      <td>76.0</td>\n",
       "    </tr>\n",
       "    <tr>\n",
       "      <th>2</th>\n",
       "      <td>1</td>\n",
       "      <td>48</td>\n",
       "      <td>1</td>\n",
       "      <td>20.0</td>\n",
       "      <td>0.0</td>\n",
       "      <td>0</td>\n",
       "      <td>245.0</td>\n",
       "      <td>127.5</td>\n",
       "      <td>80.0</td>\n",
       "      <td>25.34</td>\n",
       "      <td>75.0</td>\n",
       "      <td>70.0</td>\n",
       "    </tr>\n",
       "    <tr>\n",
       "      <th>3</th>\n",
       "      <td>0</td>\n",
       "      <td>61</td>\n",
       "      <td>1</td>\n",
       "      <td>30.0</td>\n",
       "      <td>0.0</td>\n",
       "      <td>0</td>\n",
       "      <td>225.0</td>\n",
       "      <td>150.0</td>\n",
       "      <td>95.0</td>\n",
       "      <td>28.58</td>\n",
       "      <td>65.0</td>\n",
       "      <td>103.0</td>\n",
       "    </tr>\n",
       "    <tr>\n",
       "      <th>4</th>\n",
       "      <td>0</td>\n",
       "      <td>46</td>\n",
       "      <td>1</td>\n",
       "      <td>23.0</td>\n",
       "      <td>0.0</td>\n",
       "      <td>0</td>\n",
       "      <td>285.0</td>\n",
       "      <td>130.0</td>\n",
       "      <td>84.0</td>\n",
       "      <td>23.10</td>\n",
       "      <td>85.0</td>\n",
       "      <td>85.0</td>\n",
       "    </tr>\n",
       "  </tbody>\n",
       "</table>\n",
       "</div>"
      ],
      "text/plain": [
       "   male  age  currentSmoker  cigsPerDay  BPMeds  diabetes  totChol  sysBP  \\\n",
       "0     1   39              0         0.0     0.0         0    195.0  106.0   \n",
       "1     0   46              0         0.0     0.0         0    250.0  121.0   \n",
       "2     1   48              1        20.0     0.0         0    245.0  127.5   \n",
       "3     0   61              1        30.0     0.0         0    225.0  150.0   \n",
       "4     0   46              1        23.0     0.0         0    285.0  130.0   \n",
       "\n",
       "   diaBP    BMI  heartRate  glucose  \n",
       "0   70.0  26.97       80.0     77.0  \n",
       "1   81.0  28.73       95.0     76.0  \n",
       "2   80.0  25.34       75.0     70.0  \n",
       "3   95.0  28.58       65.0    103.0  \n",
       "4   84.0  23.10       85.0     85.0  "
      ]
     },
     "execution_count": 4,
     "metadata": {},
     "output_type": "execute_result"
    }
   ],
   "source": [
    "X_data.head()"
   ]
  },
  {
   "cell_type": "code",
   "execution_count": 5,
   "id": "a2afd5a0",
   "metadata": {
    "execution": {
     "iopub.execute_input": "2024-04-21T22:11:50.258005Z",
     "iopub.status.busy": "2024-04-21T22:11:50.257579Z",
     "iopub.status.idle": "2024-04-21T22:11:51.694665Z",
     "shell.execute_reply": "2024-04-21T22:11:51.693277Z"
    },
    "papermill": {
     "duration": 1.448634,
     "end_time": "2024-04-21T22:11:51.697926",
     "exception": false,
     "start_time": "2024-04-21T22:11:50.249292",
     "status": "completed"
    },
    "tags": []
   },
   "outputs": [],
   "source": [
    "# Break off validation data from training data\n",
    "from sklearn.model_selection import train_test_split\n",
    "\n",
    "X_train, X_valid, y_train, y_valid = train_test_split(X_data, y_data, train_size=0.8,\n",
    "                                                     test_size=0.2, random_state=0)"
   ]
  },
  {
   "cell_type": "code",
   "execution_count": 6,
   "id": "ec9535d3",
   "metadata": {
    "execution": {
     "iopub.execute_input": "2024-04-21T22:11:51.714528Z",
     "iopub.status.busy": "2024-04-21T22:11:51.713343Z",
     "iopub.status.idle": "2024-04-21T22:11:51.719771Z",
     "shell.execute_reply": "2024-04-21T22:11:51.718514Z"
    },
    "papermill": {
     "duration": 0.017589,
     "end_time": "2024-04-21T22:11:51.722539",
     "exception": false,
     "start_time": "2024-04-21T22:11:51.704950",
     "status": "completed"
    },
    "tags": []
   },
   "outputs": [],
   "source": [
    "# In this case, the categorical and numerical columns can be classifed directly:\n",
    "categorical_cols = ['male', 'currentSmoker', 'diabetes']\n",
    "numerical_cols = ['age', 'cigsPerDay', 'BPMeds', 'totChol', 'sysBP', 'diaBP', 'BMI',\n",
    "                 'heartRate', 'glucose']"
   ]
  },
  {
   "cell_type": "code",
   "execution_count": 7,
   "id": "d3e3ac9c",
   "metadata": {
    "execution": {
     "iopub.execute_input": "2024-04-21T22:11:51.738472Z",
     "iopub.status.busy": "2024-04-21T22:11:51.737821Z",
     "iopub.status.idle": "2024-04-21T22:11:52.154126Z",
     "shell.execute_reply": "2024-04-21T22:11:52.152956Z"
    },
    "papermill": {
     "duration": 0.428023,
     "end_time": "2024-04-21T22:11:52.157733",
     "exception": false,
     "start_time": "2024-04-21T22:11:51.729710",
     "status": "completed"
    },
    "tags": []
   },
   "outputs": [
    {
     "name": "stdout",
     "output_type": "stream",
     "text": [
      "Accuracy Score 0.8738207547169812\n"
     ]
    }
   ],
   "source": [
    "from sklearn.compose import ColumnTransformer\n",
    "from sklearn.pipeline import Pipeline\n",
    "from sklearn.impute import SimpleImputer\n",
    "from sklearn.preprocessing import StandardScaler\n",
    "from sklearn.ensemble import RandomForestClassifier\n",
    "from sklearn.linear_model import LogisticRegression\n",
    "from sklearn.metrics import accuracy_score, confusion_matrix, precision_recall_curve\n",
    "\n",
    "#Preprocessing numerical data\n",
    "numerical_transformer = Pipeline(steps=[\n",
    "    ('imputer', SimpleImputer(strategy='constant')),\n",
    "    ('scaler', StandardScaler())\n",
    "])\n",
    "\n",
    "\n",
    "# Preprocessing categorical data\n",
    "categorical_transformer = SimpleImputer(strategy='most_frequent')\n",
    "\n",
    "#Bundle preprocessing for numerical an categorical data\n",
    "preprocessor = ColumnTransformer(\n",
    "    transformers=[\n",
    "        ('num', numerical_transformer, numerical_cols),\n",
    "        ('cat', categorical_transformer, categorical_cols)\n",
    "    ])\n",
    "\n",
    "#Define model\n",
    "model = LogisticRegression()\n",
    "\n",
    "#Bundle preprocessing and modeling code in a pipeline\n",
    "clf = Pipeline(steps=[('preprocessor', preprocessor),\n",
    "                     ('model', model)\n",
    "                     ])\n",
    "\n",
    "# Preprocessing of validation data\n",
    "clf.fit(X_train, y_train)\n",
    "\n",
    "# Preprocessing of validation data\n",
    "preds = clf.predict(X_valid)\n",
    "\n",
    "print('Accuracy Score', accuracy_score(y_valid, preds))"
   ]
  },
  {
   "cell_type": "code",
   "execution_count": 8,
   "id": "77a36b36",
   "metadata": {
    "execution": {
     "iopub.execute_input": "2024-04-21T22:11:52.185534Z",
     "iopub.status.busy": "2024-04-21T22:11:52.184975Z",
     "iopub.status.idle": "2024-04-21T22:11:52.552443Z",
     "shell.execute_reply": "2024-04-21T22:11:52.551404Z"
    },
    "papermill": {
     "duration": 0.385847,
     "end_time": "2024-04-21T22:11:52.554996",
     "exception": false,
     "start_time": "2024-04-21T22:11:52.169149",
     "status": "completed"
    },
    "tags": []
   },
   "outputs": [
    {
     "name": "stdout",
     "output_type": "stream",
     "text": [
      "Setup Complete\n"
     ]
    }
   ],
   "source": [
    "import pandas as pd\n",
    "pd.plotting.register_matplotlib_converters()\n",
    "import matplotlib.pyplot as plt\n",
    "%matplotlib inline\n",
    "import seaborn as sns\n",
    "print(\"Setup Complete\")"
   ]
  },
  {
   "cell_type": "code",
   "execution_count": 9,
   "id": "7fe130c9",
   "metadata": {
    "execution": {
     "iopub.execute_input": "2024-04-21T22:11:52.571301Z",
     "iopub.status.busy": "2024-04-21T22:11:52.570577Z",
     "iopub.status.idle": "2024-04-21T22:11:52.578760Z",
     "shell.execute_reply": "2024-04-21T22:11:52.577143Z"
    },
    "papermill": {
     "duration": 0.019205,
     "end_time": "2024-04-21T22:11:52.581389",
     "exception": false,
     "start_time": "2024-04-21T22:11:52.562184",
     "status": "completed"
    },
    "tags": []
   },
   "outputs": [
    {
     "name": "stdout",
     "output_type": "stream",
     "text": [
      "[[546  37]\n",
      " [ 70 195]]\n"
     ]
    }
   ],
   "source": [
    "# Show the confusion matrix\n",
    "cm = confusion_matrix(y_valid, preds)\n",
    "print(cm)"
   ]
  },
  {
   "cell_type": "code",
   "execution_count": 10,
   "id": "e375d3d3",
   "metadata": {
    "execution": {
     "iopub.execute_input": "2024-04-21T22:11:52.598266Z",
     "iopub.status.busy": "2024-04-21T22:11:52.597853Z",
     "iopub.status.idle": "2024-04-21T22:11:52.845175Z",
     "shell.execute_reply": "2024-04-21T22:11:52.843976Z"
    },
    "papermill": {
     "duration": 0.258071,
     "end_time": "2024-04-21T22:11:52.847700",
     "exception": false,
     "start_time": "2024-04-21T22:11:52.589629",
     "status": "completed"
    },
    "tags": []
   },
   "outputs": [
    {
     "data": {
      "image/png": "[encoded data removed]",
      "text/plain": [
       "<Figure size 640x480 with 2 Axes>"
      ]
     },
     "metadata": {},
     "output_type": "display_data"
    }
   ],
   "source": [
    "sns.heatmap(cm, annot=True, fmt=\"d\", cmap='Blues')\n",
    "plt.xlabel('Predicted')\n",
    "plt.ylabel('Actual')\n",
    "plt.title('Confusion Matrix')\n",
    "plt.show()"
   ]
  },
  {
   "cell_type": "code",
   "execution_count": 11,
   "id": "494c2ef4",
   "metadata": {
    "execution": {
     "iopub.execute_input": "2024-04-21T22:11:52.864359Z",
     "iopub.status.busy": "2024-04-21T22:11:52.863953Z",
     "iopub.status.idle": "2024-04-21T22:11:53.091560Z",
     "shell.execute_reply": "2024-04-21T22:11:53.090210Z"
    },
    "papermill": {
     "duration": 0.239061,
     "end_time": "2024-04-21T22:11:53.093983",
     "exception": false,
     "start_time": "2024-04-21T22:11:52.854922",
     "status": "completed"
    },
    "tags": []
   },
   "outputs": [
    {
     "data": {
      "image/png": "[encoded data removed]",
      "text/plain": [
       "<Figure size 640x480 with 1 Axes>"
      ]
     },
     "metadata": {},
     "output_type": "display_data"
    }
   ],
   "source": [
    "# Calculate Precision-Recall curve\n",
    "precision, recall, _ = precision_recall_curve(y_valid, preds)\n",
    "\n",
    "# Plot Precision-Recall curve\n",
    "plt.figure()\n",
    "plt.plot(recall, precision, color='blue', lw=2, label='Precision-Recall curve')\n",
    "plt.xlabel('Recall')\n",
    "plt.ylabel('Precision')\n",
    "plt.title('Precision-Recall Curve')\n",
    "plt.legend(loc=\"lower left\")\n",
    "plt.show()"
   ]
  },
  {
   "cell_type": "code",
   "execution_count": 12,
   "id": "8c6d4fb9",
   "metadata": {
    "execution": {
     "iopub.execute_input": "2024-04-21T22:11:53.112061Z",
     "iopub.status.busy": "2024-04-21T22:11:53.111525Z",
     "iopub.status.idle": "2024-04-21T22:11:53.764215Z",
     "shell.execute_reply": "2024-04-21T22:11:53.762879Z"
    },
    "papermill": {
     "duration": 0.665445,
     "end_time": "2024-04-21T22:11:53.767378",
     "exception": false,
     "start_time": "2024-04-21T22:11:53.101933",
     "status": "completed"
    },
    "tags": []
   },
   "outputs": [
    {
     "name": "stdout",
     "output_type": "stream",
     "text": [
      "Accuracy Score 0.9080188679245284\n"
     ]
    }
   ],
   "source": [
    "# Now we will use RandomForestClassifier\n",
    "# Select the model\n",
    "random_forest_model = RandomForestClassifier(n_estimators=100, random_state=1)\n",
    "\n",
    "#Bundle preprocessing and modeling code in a pipeline\n",
    "clf = Pipeline(steps=[('preprocessor', preprocessor),\n",
    "                     ('model', random_forest_model)\n",
    "                     ])\n",
    "#Train the model\n",
    "clf.fit(X_train, y_train)\n",
    "\n",
    "# Preprocessing of validation data\n",
    "preds = clf.predict(X_valid)\n",
    "\n",
    "print('Accuracy Score', accuracy_score(y_valid, preds))"
   ]
  },
  {
   "cell_type": "code",
   "execution_count": 13,
   "id": "f0bf71a2",
   "metadata": {
    "execution": {
     "iopub.execute_input": "2024-04-21T22:11:53.785110Z",
     "iopub.status.busy": "2024-04-21T22:11:53.784713Z",
     "iopub.status.idle": "2024-04-21T22:11:53.793970Z",
     "shell.execute_reply": "2024-04-21T22:11:53.792737Z"
    },
    "papermill": {
     "duration": 0.020549,
     "end_time": "2024-04-21T22:11:53.796248",
     "exception": false,
     "start_time": "2024-04-21T22:11:53.775699",
     "status": "completed"
    },
    "tags": []
   },
   "outputs": [
    {
     "name": "stdout",
     "output_type": "stream",
     "text": [
      "[[539  44]\n",
      " [ 34 231]]\n"
     ]
    }
   ],
   "source": [
    "cm = confusion_matrix(y_valid, preds)\n",
    "print(cm)"
   ]
  },
  {
   "cell_type": "code",
   "execution_count": 14,
   "id": "8118ece3",
   "metadata": {
    "execution": {
     "iopub.execute_input": "2024-04-21T22:11:53.814536Z",
     "iopub.status.busy": "2024-04-21T22:11:53.814136Z",
     "iopub.status.idle": "2024-04-21T22:11:54.035341Z",
     "shell.execute_reply": "2024-04-21T22:11:54.034210Z"
    },
    "papermill": {
     "duration": 0.232914,
     "end_time": "2024-04-21T22:11:54.037775",
     "exception": false,
     "start_time": "2024-04-21T22:11:53.804861",
     "status": "completed"
    },
    "tags": []
   },
   "outputs": [
    {
     "data": {
      "image/png": "[encoded data removed]",
      "text/plain": [
       "<Figure size 640x480 with 2 Axes>"
      ]
     },
     "metadata": {},
     "output_type": "display_data"
    }
   ],
   "source": [
    "sns.heatmap(cm, annot=True, fmt=\"d\", cmap='Blues')\n",
    "plt.xlabel('Predicted')\n",
    "plt.ylabel('Actual')\n",
    "plt.title('Confusion Matrix')\n",
    "plt.show()"
   ]
  },
  {
   "cell_type": "code",
   "execution_count": 15,
   "id": "8cf0183c",
   "metadata": {
    "execution": {
     "iopub.execute_input": "2024-04-21T22:11:54.056398Z",
     "iopub.status.busy": "2024-04-21T22:11:54.055993Z",
     "iopub.status.idle": "2024-04-21T22:11:54.287395Z",
     "shell.execute_reply": "2024-04-21T22:11:54.285972Z"
    },
    "papermill": {
     "duration": 0.243811,
     "end_time": "2024-04-21T22:11:54.290290",
     "exception": false,
     "start_time": "2024-04-21T22:11:54.046479",
     "status": "completed"
    },
    "tags": []
   },
   "outputs": [
    {
     "data": {
      "image/png": "[encoded data removed]",
      "text/plain": [
       "<Figure size 640x480 with 1 Axes>"
      ]
     },
     "metadata": {},
     "output_type": "display_data"
    }
   ],
   "source": [
    "# Calculate Precision-Recall curve\n",
    "precision, recall, _ = precision_recall_curve(y_valid, preds)\n",
    "\n",
    "# Plot Precision-Recall curve\n",
    "plt.figure()\n",
    "plt.plot(recall, precision, color='blue', lw=2, label='Precision-Recall curve')\n",
    "plt.xlabel('Recall')\n",
    "plt.ylabel('Precision')\n",
    "plt.title('Precision-Recall Curve')\n",
    "plt.legend(loc=\"lower left\")\n",
    "plt.show()"
   ]
  },
  {
   "cell_type": "code",
   "execution_count": 16,
   "id": "a9729ce7",
   "metadata": {
    "execution": {
     "iopub.execute_input": "2024-04-21T22:11:54.311369Z",
     "iopub.status.busy": "2024-04-21T22:11:54.310231Z",
     "iopub.status.idle": "2024-04-21T22:11:54.319016Z",
     "shell.execute_reply": "2024-04-21T22:11:54.317422Z"
    },
    "papermill": {
     "duration": 0.021969,
     "end_time": "2024-04-21T22:11:54.321677",
     "exception": false,
     "start_time": "2024-04-21T22:11:54.299708",
     "status": "completed"
    },
    "tags": []
   },
   "outputs": [
    {
     "name": "stdout",
     "output_type": "stream",
     "text": [
      "male              True\n",
      "age               True\n",
      "currentSmoker     True\n",
      "cigsPerDay       False\n",
      "BPMeds           False\n",
      "diabetes          True\n",
      "totChol          False\n",
      "sysBP            False\n",
      "diaBP            False\n",
      "BMI              False\n",
      "heartRate        False\n",
      "glucose          False\n",
      "dtype: bool\n"
     ]
    }
   ],
   "source": [
    "discrete_features = hypertension_data.dtypes == int\n",
    "discrete_features.drop(['Risk'], inplace=True)\n",
    "print(discrete_features)"
   ]
  },
  {
   "cell_type": "code",
   "execution_count": null,
   "id": "d99c631c",
   "metadata": {
    "papermill": {
     "duration": 0.009197,
     "end_time": "2024-04-21T22:11:54.339876",
     "exception": false,
     "start_time": "2024-04-21T22:11:54.330679",
     "status": "completed"
    },
    "tags": []
   },
   "outputs": [],
   "source": []
  },
  {
   "cell_type": "code",
   "execution_count": 17,
   "id": "f1f2eb7d",
   "metadata": {
    "execution": {
     "iopub.execute_input": "2024-04-21T22:11:54.359562Z",
     "iopub.status.busy": "2024-04-21T22:11:54.359144Z",
     "iopub.status.idle": "2024-04-21T22:11:54.544921Z",
     "shell.execute_reply": "2024-04-21T22:11:54.543601Z"
    },
    "papermill": {
     "duration": 0.198537,
     "end_time": "2024-04-21T22:11:54.547390",
     "exception": false,
     "start_time": "2024-04-21T22:11:54.348853",
     "status": "completed"
    },
    "tags": []
   },
   "outputs": [
    {
     "name": "stderr",
     "output_type": "stream",
     "text": [
      "/tmp/ipykernel_18/512322355.py:11: SettingWithCopyWarning: \n",
      "A value is trying to be set on a copy of a slice from a DataFrame\n",
      "\n",
      "See the caveats in the documentation: https://pandas.pydata.org/pandas-docs/stable/user_guide/indexing.html#returning-a-view-versus-a-copy\n",
      "  X_data.drop(['Risk'], axis=1, inplace=True)\n"
     ]
    },
    {
     "data": {
      "text/plain": [
       "sysBP            0.328575\n",
       "diaBP            0.247886\n",
       "age              0.052808\n",
       "BMI              0.043065\n",
       "BPMeds           0.036654\n",
       "totChol          0.016369\n",
       "glucose          0.008143\n",
       "currentSmoker    0.005564\n",
       "diabetes         0.003094\n",
       "heartRate        0.001582\n",
       "cigsPerDay       0.001307\n",
       "male             0.000006\n",
       "Name: MI Scores, dtype: float64"
      ]
     },
     "execution_count": 17,
     "metadata": {},
     "output_type": "execute_result"
    }
   ],
   "source": [
    "from sklearn.feature_selection import mutual_info_classif\n",
    "\n",
    "def make_mi_scores(X, y, discrete_features):\n",
    "    mi_scores = mutual_info_classif(X, y, discrete_features=discrete_features)\n",
    "    mi_scores = pd.Series(mi_scores, name=\"MI Scores\", index=X.columns)\n",
    "    mi_scores = mi_scores.sort_values(ascending=False)\n",
    "    return mi_scores\n",
    "\n",
    "X_data = hypertension_data.dropna(axis=0, inplace=False)\n",
    "y_data = X_data.Risk\n",
    "X_data.drop(['Risk'], axis=1, inplace=True)\n",
    "mi_scores = make_mi_scores(X_data, y_data, discrete_features)\n",
    "mi_scores  # show features with their MI scores"
   ]
  },
  {
   "cell_type": "code",
   "execution_count": 18,
   "id": "17c4aa24",
   "metadata": {
    "execution": {
     "iopub.execute_input": "2024-04-21T22:11:54.567421Z",
     "iopub.status.busy": "2024-04-21T22:11:54.567014Z",
     "iopub.status.idle": "2024-04-21T22:11:54.910874Z",
     "shell.execute_reply": "2024-04-21T22:11:54.909613Z"
    },
    "papermill": {
     "duration": 0.35693,
     "end_time": "2024-04-21T22:11:54.913337",
     "exception": false,
     "start_time": "2024-04-21T22:11:54.556407",
     "status": "completed"
    },
    "tags": []
   },
   "outputs": [
    {
     "data": {
      "image/png": "[encoded data removed]",
      "text/plain": [
       "<Figure size 800x500 with 1 Axes>"
      ]
     },
     "metadata": {},
     "output_type": "display_data"
    }
   ],
   "source": [
    "def plot_mi_scores(scores):\n",
    "    scores = scores.sort_values(ascending=True)\n",
    "    width = np.arange(len(scores))\n",
    "    ticks = list(scores.index)\n",
    "    plt.barh(width, scores)\n",
    "    plt.yticks(width, ticks)\n",
    "    plt.title(\"Mutual Information Scores\")\n",
    "\n",
    "\n",
    "plt.figure(dpi=100, figsize=(8, 5))\n",
    "plot_mi_scores(mi_scores)"
   ]
  },
  {
   "cell_type": "code",
   "execution_count": 19,
   "id": "575fac63",
   "metadata": {
    "execution": {
     "iopub.execute_input": "2024-04-21T22:11:54.934686Z",
     "iopub.status.busy": "2024-04-21T22:11:54.934259Z",
     "iopub.status.idle": "2024-04-21T22:11:55.171051Z",
     "shell.execute_reply": "2024-04-21T22:11:55.169746Z"
    },
    "papermill": {
     "duration": 0.25046,
     "end_time": "2024-04-21T22:11:55.173604",
     "exception": false,
     "start_time": "2024-04-21T22:11:54.923144",
     "status": "completed"
    },
    "tags": []
   },
   "outputs": [
    {
     "data": {
      "image/png": "[encoded data removed]",
      "text/plain": [
       "<Figure size 640x480 with 1 Axes>"
      ]
     },
     "metadata": {},
     "output_type": "display_data"
    }
   ],
   "source": [
    "# Now let's graph the sysBP with the target\n",
    "import seaborn as sns\n",
    "\n",
    "X_data = hypertension_data.dropna(axis=0, inplace=False)\n",
    "sns.boxplot(x='Risk', y='sysBP', data=X_data)\n",
    "plt.title(\"Risk vs. sysBP\")\n",
    "plt.show()"
   ]
  },
  {
   "cell_type": "code",
   "execution_count": 20,
   "id": "a1ec96ea",
   "metadata": {
    "execution": {
     "iopub.execute_input": "2024-04-21T22:11:55.195056Z",
     "iopub.status.busy": "2024-04-21T22:11:55.194618Z",
     "iopub.status.idle": "2024-04-21T22:11:55.214582Z",
     "shell.execute_reply": "2024-04-21T22:11:55.213181Z"
    },
    "papermill": {
     "duration": 0.033736,
     "end_time": "2024-04-21T22:11:55.217185",
     "exception": false,
     "start_time": "2024-04-21T22:11:55.183449",
     "status": "completed"
    },
    "tags": []
   },
   "outputs": [
    {
     "data": {
      "text/html": [
       "<div>\n",
       "<style scoped>\n",
       "    .dataframe tbody tr th:only-of-type {\n",
       "        vertical-align: middle;\n",
       "    }\n",
       "\n",
       "    .dataframe tbody tr th {\n",
       "        vertical-align: top;\n",
       "    }\n",
       "\n",
       "    .dataframe thead th {\n",
       "        text-align: right;\n",
       "    }\n",
       "</style>\n",
       "<table border=\"1\" class=\"dataframe\">\n",
       "  <thead>\n",
       "    <tr style=\"text-align: right;\">\n",
       "      <th></th>\n",
       "      <th>male</th>\n",
       "      <th>age</th>\n",
       "      <th>currentSmoker</th>\n",
       "      <th>cigsPerDay</th>\n",
       "      <th>BPMeds</th>\n",
       "      <th>diabetes</th>\n",
       "      <th>totChol</th>\n",
       "      <th>sysBP</th>\n",
       "      <th>diaBP</th>\n",
       "      <th>BMI</th>\n",
       "      <th>heartRate</th>\n",
       "      <th>glucose</th>\n",
       "    </tr>\n",
       "  </thead>\n",
       "  <tbody>\n",
       "    <tr>\n",
       "      <th>4227</th>\n",
       "      <td>1</td>\n",
       "      <td>43</td>\n",
       "      <td>1</td>\n",
       "      <td>20.0</td>\n",
       "      <td>0.0</td>\n",
       "      <td>0</td>\n",
       "      <td>187.0</td>\n",
       "      <td>129.5</td>\n",
       "      <td>88.0</td>\n",
       "      <td>25.62</td>\n",
       "      <td>80.0</td>\n",
       "      <td>75.0</td>\n",
       "    </tr>\n",
       "    <tr>\n",
       "      <th>1811</th>\n",
       "      <td>1</td>\n",
       "      <td>43</td>\n",
       "      <td>1</td>\n",
       "      <td>20.0</td>\n",
       "      <td>0.0</td>\n",
       "      <td>0</td>\n",
       "      <td>180.0</td>\n",
       "      <td>131.0</td>\n",
       "      <td>92.0</td>\n",
       "      <td>27.18</td>\n",
       "      <td>65.0</td>\n",
       "      <td>85.0</td>\n",
       "    </tr>\n",
       "    <tr>\n",
       "      <th>3301</th>\n",
       "      <td>0</td>\n",
       "      <td>40</td>\n",
       "      <td>1</td>\n",
       "      <td>20.0</td>\n",
       "      <td>0.0</td>\n",
       "      <td>0</td>\n",
       "      <td>165.0</td>\n",
       "      <td>101.0</td>\n",
       "      <td>59.0</td>\n",
       "      <td>23.06</td>\n",
       "      <td>60.0</td>\n",
       "      <td>76.0</td>\n",
       "    </tr>\n",
       "    <tr>\n",
       "      <th>1203</th>\n",
       "      <td>1</td>\n",
       "      <td>64</td>\n",
       "      <td>1</td>\n",
       "      <td>30.0</td>\n",
       "      <td>0.0</td>\n",
       "      <td>0</td>\n",
       "      <td>253.0</td>\n",
       "      <td>178.0</td>\n",
       "      <td>106.0</td>\n",
       "      <td>24.68</td>\n",
       "      <td>100.0</td>\n",
       "      <td>76.0</td>\n",
       "    </tr>\n",
       "    <tr>\n",
       "      <th>2615</th>\n",
       "      <td>0</td>\n",
       "      <td>47</td>\n",
       "      <td>1</td>\n",
       "      <td>9.0</td>\n",
       "      <td>0.0</td>\n",
       "      <td>0</td>\n",
       "      <td>214.0</td>\n",
       "      <td>118.0</td>\n",
       "      <td>72.0</td>\n",
       "      <td>24.08</td>\n",
       "      <td>60.0</td>\n",
       "      <td>NaN</td>\n",
       "    </tr>\n",
       "  </tbody>\n",
       "</table>\n",
       "</div>"
      ],
      "text/plain": [
       "      male  age  currentSmoker  cigsPerDay  BPMeds  diabetes  totChol  sysBP  \\\n",
       "4227     1   43              1        20.0     0.0         0    187.0  129.5   \n",
       "1811     1   43              1        20.0     0.0         0    180.0  131.0   \n",
       "3301     0   40              1        20.0     0.0         0    165.0  101.0   \n",
       "1203     1   64              1        30.0     0.0         0    253.0  178.0   \n",
       "2615     0   47              1         9.0     0.0         0    214.0  118.0   \n",
       "\n",
       "      diaBP    BMI  heartRate  glucose  \n",
       "4227   88.0  25.62       80.0     75.0  \n",
       "1811   92.0  27.18       65.0     85.0  \n",
       "3301   59.0  23.06       60.0     76.0  \n",
       "1203  106.0  24.68      100.0     76.0  \n",
       "2615   72.0  24.08       60.0      NaN  "
      ]
     },
     "execution_count": 20,
     "metadata": {},
     "output_type": "execute_result"
    }
   ],
   "source": [
    "X_train.head()"
   ]
  },
  {
   "cell_type": "code",
   "execution_count": 21,
   "id": "e77b8191",
   "metadata": {
    "execution": {
     "iopub.execute_input": "2024-04-21T22:11:55.240189Z",
     "iopub.status.busy": "2024-04-21T22:11:55.239753Z",
     "iopub.status.idle": "2024-04-21T22:11:55.245433Z",
     "shell.execute_reply": "2024-04-21T22:11:55.244106Z"
    },
    "papermill": {
     "duration": 0.020413,
     "end_time": "2024-04-21T22:11:55.248203",
     "exception": false,
     "start_time": "2024-04-21T22:11:55.227790",
     "status": "completed"
    },
    "tags": []
   },
   "outputs": [],
   "source": [
    "# In this case, the categorical and numerical columns can be classifed directly:\n",
    "categorical_cols = ['male', 'currentSmoker', 'diabetes']\n",
    "# For numerical cols, we don't consider glucose due to the low relationship with the target\n",
    "numerical_cols = ['age', 'cigsPerDay', 'BPMeds', 'totChol', 'sysBP', 'diaBP', 'BMI',\n",
    "                 'heartRate']"
   ]
  },
  {
   "cell_type": "code",
   "execution_count": 22,
   "id": "df79dbbd",
   "metadata": {
    "execution": {
     "iopub.execute_input": "2024-04-21T22:11:55.270895Z",
     "iopub.status.busy": "2024-04-21T22:11:55.270441Z",
     "iopub.status.idle": "2024-04-21T22:11:55.902483Z",
     "shell.execute_reply": "2024-04-21T22:11:55.901121Z"
    },
    "papermill": {
     "duration": 0.646182,
     "end_time": "2024-04-21T22:11:55.905007",
     "exception": false,
     "start_time": "2024-04-21T22:11:55.258825",
     "status": "completed"
    },
    "tags": []
   },
   "outputs": [
    {
     "name": "stdout",
     "output_type": "stream",
     "text": [
      "Accuracy Score 0.902122641509434\n"
     ]
    }
   ],
   "source": [
    "#Preprocessing numerical data\n",
    "numerical_transformer = Pipeline(steps=[\n",
    "    ('imputer', SimpleImputer(strategy='constant')),\n",
    "    ('scaler', StandardScaler())\n",
    "])\n",
    "\n",
    "\n",
    "# Preprocessing categorical data\n",
    "categorical_transformer = SimpleImputer(strategy='most_frequent')\n",
    "\n",
    "#Bundle preprocessing for numerical an categorical data\n",
    "preprocessor = ColumnTransformer(\n",
    "    transformers=[\n",
    "        ('num', numerical_transformer, numerical_cols),\n",
    "        ('cat', categorical_transformer, categorical_cols)\n",
    "    ])\n",
    "\n",
    "# Now we will use RandomForestClassifier\n",
    "# Select the model\n",
    "random_forest_model = RandomForestClassifier(n_estimators=100, random_state=1)\n",
    "\n",
    "#Bundle preprocessing and modeling code in a pipeline\n",
    "clf = Pipeline(steps=[('preprocessor', preprocessor),\n",
    "                     ('model', random_forest_model)\n",
    "                     ])\n",
    "\n",
    "X_train_1 = X_train.drop(['glucose'], axis=1, inplace=False)\n",
    "X_valid_1 = X_valid.drop(['glucose'], axis=1, inplace=False)\n",
    "\n",
    "#Train the model\n",
    "clf.fit(X_train_1, y_train)\n",
    "\n",
    "# Preprocessing of validation data\n",
    "preds = clf.predict(X_valid_1)\n",
    "\n",
    "print('Accuracy Score', accuracy_score(y_valid, preds))"
   ]
  }
 ],
 "metadata": {
  "kaggle": {
   "accelerator": "none",
   "dataSources": [
    {
     "datasetId": 4699720,
     "sourceId": 7984234,
     "sourceType": "datasetVersion"
    }
   ],
   "dockerImageVersionId": 30684,
   "isGpuEnabled": false,
   "isInternetEnabled": true,
   "language": "python",
   "sourceType": "notebook"
  },
  "kernelspec": {
   "display_name": "Python 3",
   "language": "python",
   "name": "python3"
  },
  "language_info": {
   "codemirror_mode": {
    "name": "ipython",
    "version": 3
   },
   "file_extension": ".py",
   "mimetype": "text/x-python",
   "name": "python",
   "nbconvert_exporter": "python",
   "pygments_lexer": "ipython3",
   "version": "3.10.13"
  },
  "papermill": {
   "default_parameters": {},
   "duration": 10.365794,
   "end_time": "2024-04-21T22:11:56.637405",
   "environment_variables": {},
   "exception": null,
   "input_path": "__notebook__.ipynb",
   "output_path": "__notebook__.ipynb",
   "parameters": {},
   "start_time": "2024-04-21T22:11:46.271611",
   "version": "2.5.0"
  }
 },
 "nbformat": 4,
 "nbformat_minor": 5
}
