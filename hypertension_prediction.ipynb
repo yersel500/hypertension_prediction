{
 "cells": [
  {
   "cell_type": "code",
   "execution_count": 1,
   "id": "eea7d45f",
   "metadata": {
    "_cell_guid": "b1076dfc-b9ad-4769-8c92-a6c4dae69d19",
    "_uuid": "8f2839f25d086af736a60e9eeb907d3b93b6e0e5",
    "execution": {
     "iopub.execute_input": "2024-04-21T17:52:21.650920Z",
     "iopub.status.busy": "2024-04-21T17:52:21.650476Z",
     "iopub.status.idle": "2024-04-21T17:52:22.760749Z",
     "shell.execute_reply": "2024-04-21T17:52:22.759615Z"
    },
    "papermill": {
     "duration": 1.122908,
     "end_time": "2024-04-21T17:52:22.763434",
     "exception": false,
     "start_time": "2024-04-21T17:52:21.640526",
     "status": "completed"
    },
    "tags": []
   },
   "outputs": [
    {
     "name": "stdout",
     "output_type": "stream",
     "text": [
      "/kaggle/input/hypertension-risk-model-main/Hypertension-risk-model-main.csv\n"
     ]
    }
   ],
   "source": [
    "# This Python 3 environment comes with many helpful analytics libraries installed\n",
    "# It is defined by the kaggle/python Docker image: https://github.com/kaggle/docker-python\n",
    "# For example, here's several helpful packages to load\n",
    "\n",
    "import numpy as np # linear algebra\n",
    "import pandas as pd # data processing, CSV file I/O (e.g. pd.read_csv)\n",
    "%config Completer.use_jedi = False\n",
    "\n",
    "# Input data files are available in the read-only \"../input/\" directory\n",
    "# For example, running this (by clicking run or pressing Shift+Enter) will list all files under the input directory\n",
    "\n",
    "import os\n",
    "for dirname, _, filenames in os.walk('/kaggle/input'):\n",
    "    for filename in filenames:\n",
    "        print(os.path.join(dirname, filename))\n",
    "\n",
    "# You can write up to 20GB to the current directory (/kaggle/working/) that gets preserved as output when you create a version using \"Save & Run All\" \n",
    "# You can also write temporary files to /kaggle/temp/, but they won't be saved outside of the current session"
   ]
  },
  {
   "cell_type": "code",
   "execution_count": 2,
   "id": "10f4b97d",
   "metadata": {
    "execution": {
     "iopub.execute_input": "2024-04-21T17:52:22.780798Z",
     "iopub.status.busy": "2024-04-21T17:52:22.779847Z",
     "iopub.status.idle": "2024-04-21T17:52:22.847596Z",
     "shell.execute_reply": "2024-04-21T17:52:22.846689Z"
    },
    "papermill": {
     "duration": 0.079147,
     "end_time": "2024-04-21T17:52:22.850191",
     "exception": false,
     "start_time": "2024-04-21T17:52:22.771044",
     "status": "completed"
    },
    "tags": []
   },
   "outputs": [
    {
     "data": {
      "text/html": [
       "<div>\n",
       "<style scoped>\n",
       "    .dataframe tbody tr th:only-of-type {\n",
       "        vertical-align: middle;\n",
       "    }\n",
       "\n",
       "    .dataframe tbody tr th {\n",
       "        vertical-align: top;\n",
       "    }\n",
       "\n",
       "    .dataframe thead th {\n",
       "        text-align: right;\n",
       "    }\n",
       "</style>\n",
       "<table border=\"1\" class=\"dataframe\">\n",
       "  <thead>\n",
       "    <tr style=\"text-align: right;\">\n",
       "      <th></th>\n",
       "      <th>male</th>\n",
       "      <th>age</th>\n",
       "      <th>currentSmoker</th>\n",
       "      <th>cigsPerDay</th>\n",
       "      <th>BPMeds</th>\n",
       "      <th>diabetes</th>\n",
       "      <th>totChol</th>\n",
       "      <th>sysBP</th>\n",
       "      <th>diaBP</th>\n",
       "      <th>BMI</th>\n",
       "      <th>heartRate</th>\n",
       "      <th>glucose</th>\n",
       "      <th>Risk</th>\n",
       "    </tr>\n",
       "  </thead>\n",
       "  <tbody>\n",
       "    <tr>\n",
       "      <th>0</th>\n",
       "      <td>1</td>\n",
       "      <td>39</td>\n",
       "      <td>0</td>\n",
       "      <td>0.0</td>\n",
       "      <td>0.0</td>\n",
       "      <td>0</td>\n",
       "      <td>195.0</td>\n",
       "      <td>106.0</td>\n",
       "      <td>70.0</td>\n",
       "      <td>26.97</td>\n",
       "      <td>80.0</td>\n",
       "      <td>77.0</td>\n",
       "      <td>0</td>\n",
       "    </tr>\n",
       "    <tr>\n",
       "      <th>1</th>\n",
       "      <td>0</td>\n",
       "      <td>46</td>\n",
       "      <td>0</td>\n",
       "      <td>0.0</td>\n",
       "      <td>0.0</td>\n",
       "      <td>0</td>\n",
       "      <td>250.0</td>\n",
       "      <td>121.0</td>\n",
       "      <td>81.0</td>\n",
       "      <td>28.73</td>\n",
       "      <td>95.0</td>\n",
       "      <td>76.0</td>\n",
       "      <td>0</td>\n",
       "    </tr>\n",
       "    <tr>\n",
       "      <th>2</th>\n",
       "      <td>1</td>\n",
       "      <td>48</td>\n",
       "      <td>1</td>\n",
       "      <td>20.0</td>\n",
       "      <td>0.0</td>\n",
       "      <td>0</td>\n",
       "      <td>245.0</td>\n",
       "      <td>127.5</td>\n",
       "      <td>80.0</td>\n",
       "      <td>25.34</td>\n",
       "      <td>75.0</td>\n",
       "      <td>70.0</td>\n",
       "      <td>0</td>\n",
       "    </tr>\n",
       "    <tr>\n",
       "      <th>3</th>\n",
       "      <td>0</td>\n",
       "      <td>61</td>\n",
       "      <td>1</td>\n",
       "      <td>30.0</td>\n",
       "      <td>0.0</td>\n",
       "      <td>0</td>\n",
       "      <td>225.0</td>\n",
       "      <td>150.0</td>\n",
       "      <td>95.0</td>\n",
       "      <td>28.58</td>\n",
       "      <td>65.0</td>\n",
       "      <td>103.0</td>\n",
       "      <td>1</td>\n",
       "    </tr>\n",
       "    <tr>\n",
       "      <th>4</th>\n",
       "      <td>0</td>\n",
       "      <td>46</td>\n",
       "      <td>1</td>\n",
       "      <td>23.0</td>\n",
       "      <td>0.0</td>\n",
       "      <td>0</td>\n",
       "      <td>285.0</td>\n",
       "      <td>130.0</td>\n",
       "      <td>84.0</td>\n",
       "      <td>23.10</td>\n",
       "      <td>85.0</td>\n",
       "      <td>85.0</td>\n",
       "      <td>0</td>\n",
       "    </tr>\n",
       "    <tr>\n",
       "      <th>...</th>\n",
       "      <td>...</td>\n",
       "      <td>...</td>\n",
       "      <td>...</td>\n",
       "      <td>...</td>\n",
       "      <td>...</td>\n",
       "      <td>...</td>\n",
       "      <td>...</td>\n",
       "      <td>...</td>\n",
       "      <td>...</td>\n",
       "      <td>...</td>\n",
       "      <td>...</td>\n",
       "      <td>...</td>\n",
       "      <td>...</td>\n",
       "    </tr>\n",
       "    <tr>\n",
       "      <th>195</th>\n",
       "      <td>0</td>\n",
       "      <td>49</td>\n",
       "      <td>1</td>\n",
       "      <td>9.0</td>\n",
       "      <td>0.0</td>\n",
       "      <td>0</td>\n",
       "      <td>226.0</td>\n",
       "      <td>106.0</td>\n",
       "      <td>71.0</td>\n",
       "      <td>22.89</td>\n",
       "      <td>85.0</td>\n",
       "      <td>57.0</td>\n",
       "      <td>0</td>\n",
       "    </tr>\n",
       "    <tr>\n",
       "      <th>196</th>\n",
       "      <td>1</td>\n",
       "      <td>48</td>\n",
       "      <td>1</td>\n",
       "      <td>10.0</td>\n",
       "      <td>0.0</td>\n",
       "      <td>0</td>\n",
       "      <td>308.0</td>\n",
       "      <td>117.0</td>\n",
       "      <td>76.0</td>\n",
       "      <td>30.85</td>\n",
       "      <td>65.0</td>\n",
       "      <td>54.0</td>\n",
       "      <td>0</td>\n",
       "    </tr>\n",
       "    <tr>\n",
       "      <th>197</th>\n",
       "      <td>0</td>\n",
       "      <td>55</td>\n",
       "      <td>1</td>\n",
       "      <td>9.0</td>\n",
       "      <td>0.0</td>\n",
       "      <td>0</td>\n",
       "      <td>248.0</td>\n",
       "      <td>157.0</td>\n",
       "      <td>82.5</td>\n",
       "      <td>22.91</td>\n",
       "      <td>89.0</td>\n",
       "      <td>83.0</td>\n",
       "      <td>0</td>\n",
       "    </tr>\n",
       "    <tr>\n",
       "      <th>198</th>\n",
       "      <td>0</td>\n",
       "      <td>58</td>\n",
       "      <td>1</td>\n",
       "      <td>5.0</td>\n",
       "      <td>0.0</td>\n",
       "      <td>0</td>\n",
       "      <td>215.0</td>\n",
       "      <td>170.0</td>\n",
       "      <td>86.0</td>\n",
       "      <td>29.06</td>\n",
       "      <td>75.0</td>\n",
       "      <td>98.0</td>\n",
       "      <td>0</td>\n",
       "    </tr>\n",
       "    <tr>\n",
       "      <th>199</th>\n",
       "      <td>1</td>\n",
       "      <td>60</td>\n",
       "      <td>0</td>\n",
       "      <td>0.0</td>\n",
       "      <td>0.0</td>\n",
       "      <td>0</td>\n",
       "      <td>240.0</td>\n",
       "      <td>137.0</td>\n",
       "      <td>84.0</td>\n",
       "      <td>29.51</td>\n",
       "      <td>82.0</td>\n",
       "      <td>88.0</td>\n",
       "      <td>0</td>\n",
       "    </tr>\n",
       "  </tbody>\n",
       "</table>\n",
       "<p>200 rows × 13 columns</p>\n",
       "</div>"
      ],
      "text/plain": [
       "     male  age  currentSmoker  cigsPerDay  BPMeds  diabetes  totChol  sysBP  \\\n",
       "0       1   39              0         0.0     0.0         0    195.0  106.0   \n",
       "1       0   46              0         0.0     0.0         0    250.0  121.0   \n",
       "2       1   48              1        20.0     0.0         0    245.0  127.5   \n",
       "3       0   61              1        30.0     0.0         0    225.0  150.0   \n",
       "4       0   46              1        23.0     0.0         0    285.0  130.0   \n",
       "..    ...  ...            ...         ...     ...       ...      ...    ...   \n",
       "195     0   49              1         9.0     0.0         0    226.0  106.0   \n",
       "196     1   48              1        10.0     0.0         0    308.0  117.0   \n",
       "197     0   55              1         9.0     0.0         0    248.0  157.0   \n",
       "198     0   58              1         5.0     0.0         0    215.0  170.0   \n",
       "199     1   60              0         0.0     0.0         0    240.0  137.0   \n",
       "\n",
       "     diaBP    BMI  heartRate  glucose  Risk  \n",
       "0     70.0  26.97       80.0     77.0     0  \n",
       "1     81.0  28.73       95.0     76.0     0  \n",
       "2     80.0  25.34       75.0     70.0     0  \n",
       "3     95.0  28.58       65.0    103.0     1  \n",
       "4     84.0  23.10       85.0     85.0     0  \n",
       "..     ...    ...        ...      ...   ...  \n",
       "195   71.0  22.89       85.0     57.0     0  \n",
       "196   76.0  30.85       65.0     54.0     0  \n",
       "197   82.5  22.91       89.0     83.0     0  \n",
       "198   86.0  29.06       75.0     98.0     0  \n",
       "199   84.0  29.51       82.0     88.0     0  \n",
       "\n",
       "[200 rows x 13 columns]"
      ]
     },
     "execution_count": 2,
     "metadata": {},
     "output_type": "execute_result"
    }
   ],
   "source": [
    "file_path = '../input/hypertension-risk-model-main/Hypertension-risk-model-main.csv'\n",
    "hypertension_data = pd.read_csv(file_path)\n",
    "\n",
    "hypertension_data.head(200)\n"
   ]
  },
  {
   "cell_type": "code",
   "execution_count": 3,
   "id": "2fc415f8",
   "metadata": {
    "execution": {
     "iopub.execute_input": "2024-04-21T17:52:22.868610Z",
     "iopub.status.busy": "2024-04-21T17:52:22.867829Z",
     "iopub.status.idle": "2024-04-21T17:52:22.898186Z",
     "shell.execute_reply": "2024-04-21T17:52:22.896943Z"
    },
    "papermill": {
     "duration": 0.043328,
     "end_time": "2024-04-21T17:52:22.901060",
     "exception": false,
     "start_time": "2024-04-21T17:52:22.857732",
     "status": "completed"
    },
    "tags": []
   },
   "outputs": [
    {
     "data": {
      "text/html": [
       "<div>\n",
       "<style scoped>\n",
       "    .dataframe tbody tr th:only-of-type {\n",
       "        vertical-align: middle;\n",
       "    }\n",
       "\n",
       "    .dataframe tbody tr th {\n",
       "        vertical-align: top;\n",
       "    }\n",
       "\n",
       "    .dataframe thead th {\n",
       "        text-align: right;\n",
       "    }\n",
       "</style>\n",
       "<table border=\"1\" class=\"dataframe\">\n",
       "  <thead>\n",
       "    <tr style=\"text-align: right;\">\n",
       "      <th></th>\n",
       "      <th>male</th>\n",
       "      <th>age</th>\n",
       "      <th>currentSmoker</th>\n",
       "      <th>cigsPerDay</th>\n",
       "      <th>BPMeds</th>\n",
       "      <th>diabetes</th>\n",
       "      <th>totChol</th>\n",
       "      <th>sysBP</th>\n",
       "      <th>diaBP</th>\n",
       "      <th>BMI</th>\n",
       "      <th>heartRate</th>\n",
       "      <th>glucose</th>\n",
       "    </tr>\n",
       "  </thead>\n",
       "  <tbody>\n",
       "    <tr>\n",
       "      <th>0</th>\n",
       "      <td>1</td>\n",
       "      <td>39</td>\n",
       "      <td>0</td>\n",
       "      <td>0.0</td>\n",
       "      <td>0.0</td>\n",
       "      <td>0</td>\n",
       "      <td>195.0</td>\n",
       "      <td>106.0</td>\n",
       "      <td>70.0</td>\n",
       "      <td>26.97</td>\n",
       "      <td>80.0</td>\n",
       "      <td>77.0</td>\n",
       "    </tr>\n",
       "    <tr>\n",
       "      <th>1</th>\n",
       "      <td>0</td>\n",
       "      <td>46</td>\n",
       "      <td>0</td>\n",
       "      <td>0.0</td>\n",
       "      <td>0.0</td>\n",
       "      <td>0</td>\n",
       "      <td>250.0</td>\n",
       "      <td>121.0</td>\n",
       "      <td>81.0</td>\n",
       "      <td>28.73</td>\n",
       "      <td>95.0</td>\n",
       "      <td>76.0</td>\n",
       "    </tr>\n",
       "    <tr>\n",
       "      <th>2</th>\n",
       "      <td>1</td>\n",
       "      <td>48</td>\n",
       "      <td>1</td>\n",
       "      <td>20.0</td>\n",
       "      <td>0.0</td>\n",
       "      <td>0</td>\n",
       "      <td>245.0</td>\n",
       "      <td>127.5</td>\n",
       "      <td>80.0</td>\n",
       "      <td>25.34</td>\n",
       "      <td>75.0</td>\n",
       "      <td>70.0</td>\n",
       "    </tr>\n",
       "    <tr>\n",
       "      <th>3</th>\n",
       "      <td>0</td>\n",
       "      <td>61</td>\n",
       "      <td>1</td>\n",
       "      <td>30.0</td>\n",
       "      <td>0.0</td>\n",
       "      <td>0</td>\n",
       "      <td>225.0</td>\n",
       "      <td>150.0</td>\n",
       "      <td>95.0</td>\n",
       "      <td>28.58</td>\n",
       "      <td>65.0</td>\n",
       "      <td>103.0</td>\n",
       "    </tr>\n",
       "    <tr>\n",
       "      <th>4</th>\n",
       "      <td>0</td>\n",
       "      <td>46</td>\n",
       "      <td>1</td>\n",
       "      <td>23.0</td>\n",
       "      <td>0.0</td>\n",
       "      <td>0</td>\n",
       "      <td>285.0</td>\n",
       "      <td>130.0</td>\n",
       "      <td>84.0</td>\n",
       "      <td>23.10</td>\n",
       "      <td>85.0</td>\n",
       "      <td>85.0</td>\n",
       "    </tr>\n",
       "  </tbody>\n",
       "</table>\n",
       "</div>"
      ],
      "text/plain": [
       "   male  age  currentSmoker  cigsPerDay  BPMeds  diabetes  totChol  sysBP  \\\n",
       "0     1   39              0         0.0     0.0         0    195.0  106.0   \n",
       "1     0   46              0         0.0     0.0         0    250.0  121.0   \n",
       "2     1   48              1        20.0     0.0         0    245.0  127.5   \n",
       "3     0   61              1        30.0     0.0         0    225.0  150.0   \n",
       "4     0   46              1        23.0     0.0         0    285.0  130.0   \n",
       "\n",
       "   diaBP    BMI  heartRate  glucose  \n",
       "0   70.0  26.97       80.0     77.0  \n",
       "1   81.0  28.73       95.0     76.0  \n",
       "2   80.0  25.34       75.0     70.0  \n",
       "3   95.0  28.58       65.0    103.0  \n",
       "4   84.0  23.10       85.0     85.0  "
      ]
     },
     "execution_count": 3,
     "metadata": {},
     "output_type": "execute_result"
    }
   ],
   "source": [
    "# delete rows with missing targets\n",
    "X_data = hypertension_data.dropna(axis=0, subset=['Risk'], inplace=False)\n",
    "y_data = X_data.Risk\n",
    "X_data.drop(['Risk'], axis=1, inplace=True)\n",
    "X_data.head()"
   ]
  },
  {
   "cell_type": "code",
   "execution_count": 4,
   "id": "006467e3",
   "metadata": {
    "execution": {
     "iopub.execute_input": "2024-04-21T17:52:22.919957Z",
     "iopub.status.busy": "2024-04-21T17:52:22.918704Z",
     "iopub.status.idle": "2024-04-21T17:52:22.940713Z",
     "shell.execute_reply": "2024-04-21T17:52:22.939233Z"
    },
    "papermill": {
     "duration": 0.034296,
     "end_time": "2024-04-21T17:52:22.943517",
     "exception": false,
     "start_time": "2024-04-21T17:52:22.909221",
     "status": "completed"
    },
    "tags": []
   },
   "outputs": [
    {
     "data": {
      "text/html": [
       "<div>\n",
       "<style scoped>\n",
       "    .dataframe tbody tr th:only-of-type {\n",
       "        vertical-align: middle;\n",
       "    }\n",
       "\n",
       "    .dataframe tbody tr th {\n",
       "        vertical-align: top;\n",
       "    }\n",
       "\n",
       "    .dataframe thead th {\n",
       "        text-align: right;\n",
       "    }\n",
       "</style>\n",
       "<table border=\"1\" class=\"dataframe\">\n",
       "  <thead>\n",
       "    <tr style=\"text-align: right;\">\n",
       "      <th></th>\n",
       "      <th>male</th>\n",
       "      <th>age</th>\n",
       "      <th>currentSmoker</th>\n",
       "      <th>cigsPerDay</th>\n",
       "      <th>BPMeds</th>\n",
       "      <th>diabetes</th>\n",
       "      <th>totChol</th>\n",
       "      <th>sysBP</th>\n",
       "      <th>diaBP</th>\n",
       "      <th>BMI</th>\n",
       "      <th>heartRate</th>\n",
       "      <th>glucose</th>\n",
       "    </tr>\n",
       "  </thead>\n",
       "  <tbody>\n",
       "    <tr>\n",
       "      <th>0</th>\n",
       "      <td>1</td>\n",
       "      <td>39</td>\n",
       "      <td>0</td>\n",
       "      <td>0.0</td>\n",
       "      <td>0.0</td>\n",
       "      <td>0</td>\n",
       "      <td>195.0</td>\n",
       "      <td>106.0</td>\n",
       "      <td>70.0</td>\n",
       "      <td>26.97</td>\n",
       "      <td>80.0</td>\n",
       "      <td>77.0</td>\n",
       "    </tr>\n",
       "    <tr>\n",
       "      <th>1</th>\n",
       "      <td>0</td>\n",
       "      <td>46</td>\n",
       "      <td>0</td>\n",
       "      <td>0.0</td>\n",
       "      <td>0.0</td>\n",
       "      <td>0</td>\n",
       "      <td>250.0</td>\n",
       "      <td>121.0</td>\n",
       "      <td>81.0</td>\n",
       "      <td>28.73</td>\n",
       "      <td>95.0</td>\n",
       "      <td>76.0</td>\n",
       "    </tr>\n",
       "    <tr>\n",
       "      <th>2</th>\n",
       "      <td>1</td>\n",
       "      <td>48</td>\n",
       "      <td>1</td>\n",
       "      <td>20.0</td>\n",
       "      <td>0.0</td>\n",
       "      <td>0</td>\n",
       "      <td>245.0</td>\n",
       "      <td>127.5</td>\n",
       "      <td>80.0</td>\n",
       "      <td>25.34</td>\n",
       "      <td>75.0</td>\n",
       "      <td>70.0</td>\n",
       "    </tr>\n",
       "    <tr>\n",
       "      <th>3</th>\n",
       "      <td>0</td>\n",
       "      <td>61</td>\n",
       "      <td>1</td>\n",
       "      <td>30.0</td>\n",
       "      <td>0.0</td>\n",
       "      <td>0</td>\n",
       "      <td>225.0</td>\n",
       "      <td>150.0</td>\n",
       "      <td>95.0</td>\n",
       "      <td>28.58</td>\n",
       "      <td>65.0</td>\n",
       "      <td>103.0</td>\n",
       "    </tr>\n",
       "    <tr>\n",
       "      <th>4</th>\n",
       "      <td>0</td>\n",
       "      <td>46</td>\n",
       "      <td>1</td>\n",
       "      <td>23.0</td>\n",
       "      <td>0.0</td>\n",
       "      <td>0</td>\n",
       "      <td>285.0</td>\n",
       "      <td>130.0</td>\n",
       "      <td>84.0</td>\n",
       "      <td>23.10</td>\n",
       "      <td>85.0</td>\n",
       "      <td>85.0</td>\n",
       "    </tr>\n",
       "  </tbody>\n",
       "</table>\n",
       "</div>"
      ],
      "text/plain": [
       "   male  age  currentSmoker  cigsPerDay  BPMeds  diabetes  totChol  sysBP  \\\n",
       "0     1   39              0         0.0     0.0         0    195.0  106.0   \n",
       "1     0   46              0         0.0     0.0         0    250.0  121.0   \n",
       "2     1   48              1        20.0     0.0         0    245.0  127.5   \n",
       "3     0   61              1        30.0     0.0         0    225.0  150.0   \n",
       "4     0   46              1        23.0     0.0         0    285.0  130.0   \n",
       "\n",
       "   diaBP    BMI  heartRate  glucose  \n",
       "0   70.0  26.97       80.0     77.0  \n",
       "1   81.0  28.73       95.0     76.0  \n",
       "2   80.0  25.34       75.0     70.0  \n",
       "3   95.0  28.58       65.0    103.0  \n",
       "4   84.0  23.10       85.0     85.0  "
      ]
     },
     "execution_count": 4,
     "metadata": {},
     "output_type": "execute_result"
    }
   ],
   "source": [
    "X_data.head()"
   ]
  },
  {
   "cell_type": "code",
   "execution_count": 5,
   "id": "cd663a4f",
   "metadata": {
    "execution": {
     "iopub.execute_input": "2024-04-21T17:52:22.962532Z",
     "iopub.status.busy": "2024-04-21T17:52:22.962116Z",
     "iopub.status.idle": "2024-04-21T17:52:24.590398Z",
     "shell.execute_reply": "2024-04-21T17:52:24.588714Z"
    },
    "papermill": {
     "duration": 1.641454,
     "end_time": "2024-04-21T17:52:24.593415",
     "exception": false,
     "start_time": "2024-04-21T17:52:22.951961",
     "status": "completed"
    },
    "tags": []
   },
   "outputs": [],
   "source": [
    "# Break off validation data from training data\n",
    "from sklearn.model_selection import train_test_split\n",
    "\n",
    "X_train, X_valid, y_train, y_valid = train_test_split(X_data, y_data, train_size=0.8,\n",
    "                                                     test_size=0.2, random_state=0)"
   ]
  },
  {
   "cell_type": "code",
   "execution_count": 6,
   "id": "d3ce1566",
   "metadata": {
    "execution": {
     "iopub.execute_input": "2024-04-21T17:52:24.612551Z",
     "iopub.status.busy": "2024-04-21T17:52:24.612052Z",
     "iopub.status.idle": "2024-04-21T17:52:24.618359Z",
     "shell.execute_reply": "2024-04-21T17:52:24.617161Z"
    },
    "papermill": {
     "duration": 0.018963,
     "end_time": "2024-04-21T17:52:24.620863",
     "exception": false,
     "start_time": "2024-04-21T17:52:24.601900",
     "status": "completed"
    },
    "tags": []
   },
   "outputs": [],
   "source": [
    "# In this case, the categorical and numerical columns can be classifed directly:\n",
    "categorical_cols = ['male', 'currentSmoker', 'diabetes']\n",
    "numerical_cols = ['age', 'cigsPerDay', 'BPMeds', 'totChol', 'sysBP', 'diaBP', 'BMI',\n",
    "                 'heartRate', 'glucose']"
   ]
  },
  {
   "cell_type": "code",
   "execution_count": 7,
   "id": "e2fe34e8",
   "metadata": {
    "execution": {
     "iopub.execute_input": "2024-04-21T17:52:24.641738Z",
     "iopub.status.busy": "2024-04-21T17:52:24.640832Z",
     "iopub.status.idle": "2024-04-21T17:52:25.191389Z",
     "shell.execute_reply": "2024-04-21T17:52:25.189822Z"
    },
    "papermill": {
     "duration": 0.56922,
     "end_time": "2024-04-21T17:52:25.198904",
     "exception": false,
     "start_time": "2024-04-21T17:52:24.629684",
     "status": "completed"
    },
    "tags": []
   },
   "outputs": [
    {
     "name": "stdout",
     "output_type": "stream",
     "text": [
      "Accuracy Score 0.8738207547169812\n"
     ]
    }
   ],
   "source": [
    "from sklearn.compose import ColumnTransformer\n",
    "from sklearn.pipeline import Pipeline\n",
    "from sklearn.impute import SimpleImputer\n",
    "from sklearn.preprocessing import OneHotEncoder\n",
    "from sklearn.preprocessing import StandardScaler\n",
    "from sklearn.ensemble import RandomForestClassifier\n",
    "from sklearn.linear_model import LogisticRegression\n",
    "from sklearn.metrics import accuracy_score, confusion_matrix, precision_recall_curve\n",
    "\n",
    "#Preprocessing numerical data\n",
    "numerical_transformer = Pipeline(steps=[\n",
    "    ('imputer', SimpleImputer(strategy='constant')),\n",
    "    ('scaler', StandardScaler())\n",
    "])\n",
    "\n",
    "\n",
    "# Preprocessing categorical data\n",
    "categorical_transformer = SimpleImputer(strategy='most_frequent')\n",
    "\n",
    "#Bundle preprocessing for numerical an categorical data\n",
    "preprocessor = ColumnTransformer(\n",
    "    transformers=[\n",
    "        ('num', numerical_transformer, numerical_cols),\n",
    "        ('cat', categorical_transformer, categorical_cols)\n",
    "    ])\n",
    "\n",
    "#Define model\n",
    "model = LogisticRegression()\n",
    "\n",
    "#Bundle preprocessing and modeling code in a pipeline\n",
    "clf = Pipeline(steps=[('preprocessor', preprocessor),\n",
    "                     ('model', model)\n",
    "                     ])\n",
    "\n",
    "# Preprocessing of validation data\n",
    "clf.fit(X_train, y_train)\n",
    "\n",
    "# Preprocessing of validation data\n",
    "preds = clf.predict(X_valid)\n",
    "\n",
    "print('Accuracy Score', accuracy_score(y_valid, preds))"
   ]
  },
  {
   "cell_type": "code",
   "execution_count": 8,
   "id": "b54f5e6e",
   "metadata": {
    "execution": {
     "iopub.execute_input": "2024-04-21T17:52:25.238032Z",
     "iopub.status.busy": "2024-04-21T17:52:25.237217Z",
     "iopub.status.idle": "2024-04-21T17:52:25.752333Z",
     "shell.execute_reply": "2024-04-21T17:52:25.750981Z"
    },
    "papermill": {
     "duration": 0.538231,
     "end_time": "2024-04-21T17:52:25.755357",
     "exception": false,
     "start_time": "2024-04-21T17:52:25.217126",
     "status": "completed"
    },
    "tags": []
   },
   "outputs": [
    {
     "name": "stdout",
     "output_type": "stream",
     "text": [
      "Setup Complete\n"
     ]
    }
   ],
   "source": [
    "import pandas as pd\n",
    "pd.plotting.register_matplotlib_converters()\n",
    "import matplotlib.pyplot as plt\n",
    "%matplotlib inline\n",
    "import seaborn as sns\n",
    "print(\"Setup Complete\")"
   ]
  },
  {
   "cell_type": "code",
   "execution_count": 9,
   "id": "6eb15749",
   "metadata": {
    "execution": {
     "iopub.execute_input": "2024-04-21T17:52:25.777336Z",
     "iopub.status.busy": "2024-04-21T17:52:25.776778Z",
     "iopub.status.idle": "2024-04-21T17:52:25.787701Z",
     "shell.execute_reply": "2024-04-21T17:52:25.786235Z"
    },
    "papermill": {
     "duration": 0.025874,
     "end_time": "2024-04-21T17:52:25.790923",
     "exception": false,
     "start_time": "2024-04-21T17:52:25.765049",
     "status": "completed"
    },
    "tags": []
   },
   "outputs": [
    {
     "name": "stdout",
     "output_type": "stream",
     "text": [
      "[[546  37]\n",
      " [ 70 195]]\n"
     ]
    }
   ],
   "source": [
    "# Show the confusion matrix\n",
    "cm = confusion_matrix(y_valid, preds)\n",
    "print(cm)"
   ]
  },
  {
   "cell_type": "code",
   "execution_count": 10,
   "id": "3616cfb2",
   "metadata": {
    "execution": {
     "iopub.execute_input": "2024-04-21T17:52:25.810473Z",
     "iopub.status.busy": "2024-04-21T17:52:25.809967Z",
     "iopub.status.idle": "2024-04-21T17:52:26.138732Z",
     "shell.execute_reply": "2024-04-21T17:52:26.136719Z"
    },
    "papermill": {
     "duration": 0.342353,
     "end_time": "2024-04-21T17:52:26.142005",
     "exception": false,
     "start_time": "2024-04-21T17:52:25.799652",
     "status": "completed"
    },
    "tags": []
   },
   "outputs": [
    {
     "data": {
      "image/png": "[encoded data removed]",
      "text/plain": [
       "<Figure size 640x480 with 2 Axes>"
      ]
     },
     "metadata": {},
     "output_type": "display_data"
    }
   ],
   "source": [
    "sns.heatmap(cm, annot=True, fmt=\"d\", cmap='Blues')\n",
    "plt.xlabel('Predicted')\n",
    "plt.ylabel('Actual')\n",
    "plt.title('Confusion Matrix')\n",
    "plt.show()"
   ]
  },
  {
   "cell_type": "code",
   "execution_count": 11,
   "id": "11becb01",
   "metadata": {
    "execution": {
     "iopub.execute_input": "2024-04-21T17:52:26.164346Z",
     "iopub.status.busy": "2024-04-21T17:52:26.163942Z",
     "iopub.status.idle": "2024-04-21T17:52:26.487786Z",
     "shell.execute_reply": "2024-04-21T17:52:26.486310Z"
    },
    "papermill": {
     "duration": 0.338165,
     "end_time": "2024-04-21T17:52:26.490767",
     "exception": false,
     "start_time": "2024-04-21T17:52:26.152602",
     "status": "completed"
    },
    "tags": []
   },
   "outputs": [
    {
     "data": {
      "image/png": "[encoded data removed]",
      "text/plain": [
       "<Figure size 640x480 with 1 Axes>"
      ]
     },
     "metadata": {},
     "output_type": "display_data"
    }
   ],
   "source": [
    "# Calculate Precision-Recall curve\n",
    "precision, recall, _ = precision_recall_curve(y_valid, preds)\n",
    "\n",
    "# Plot Precision-Recall curve\n",
    "plt.figure()\n",
    "plt.plot(recall, precision, color='blue', lw=2, label='Precision-Recall curve')\n",
    "plt.xlabel('Recall')\n",
    "plt.ylabel('Precision')\n",
    "plt.title('Precision-Recall Curve')\n",
    "plt.legend(loc=\"lower left\")\n",
    "plt.show()"
   ]
  },
  {
   "cell_type": "code",
   "execution_count": 12,
   "id": "14f04036",
   "metadata": {
    "execution": {
     "iopub.execute_input": "2024-04-21T17:52:26.512501Z",
     "iopub.status.busy": "2024-04-21T17:52:26.512098Z",
     "iopub.status.idle": "2024-04-21T17:52:27.242515Z",
     "shell.execute_reply": "2024-04-21T17:52:27.240921Z"
    },
    "papermill": {
     "duration": 0.745558,
     "end_time": "2024-04-21T17:52:27.246074",
     "exception": false,
     "start_time": "2024-04-21T17:52:26.500516",
     "status": "completed"
    },
    "tags": []
   },
   "outputs": [
    {
     "name": "stdout",
     "output_type": "stream",
     "text": [
      "Accuracy Score 0.9080188679245284\n"
     ]
    }
   ],
   "source": [
    "# Now we will use RandomForestClassifier\n",
    "# Select the model\n",
    "random_forest_model = RandomForestClassifier(n_estimators=100, random_state=1)\n",
    "\n",
    "#Bundle preprocessing and modeling code in a pipeline\n",
    "clf = Pipeline(steps=[('preprocessor', preprocessor),\n",
    "                     ('model', random_forest_model)\n",
    "                     ])\n",
    "#Train the model\n",
    "clf.fit(X_train, y_train)\n",
    "\n",
    "# Preprocessing of validation data\n",
    "preds = clf.predict(X_valid)\n",
    "\n",
    "print('Accuracy Score', accuracy_score(y_valid, preds))"
   ]
  },
  {
   "cell_type": "code",
   "execution_count": 13,
   "id": "19fe1e75",
   "metadata": {
    "execution": {
     "iopub.execute_input": "2024-04-21T17:52:27.269200Z",
     "iopub.status.busy": "2024-04-21T17:52:27.268641Z",
     "iopub.status.idle": "2024-04-21T17:52:27.278747Z",
     "shell.execute_reply": "2024-04-21T17:52:27.277193Z"
    },
    "papermill": {
     "duration": 0.024886,
     "end_time": "2024-04-21T17:52:27.281686",
     "exception": false,
     "start_time": "2024-04-21T17:52:27.256800",
     "status": "completed"
    },
    "tags": []
   },
   "outputs": [
    {
     "name": "stdout",
     "output_type": "stream",
     "text": [
      "[[539  44]\n",
      " [ 34 231]]\n"
     ]
    }
   ],
   "source": [
    "cm = confusion_matrix(y_valid, preds)\n",
    "print(cm)"
   ]
  },
  {
   "cell_type": "code",
   "execution_count": 14,
   "id": "25cc5ee5",
   "metadata": {
    "execution": {
     "iopub.execute_input": "2024-04-21T17:52:27.304283Z",
     "iopub.status.busy": "2024-04-21T17:52:27.303356Z",
     "iopub.status.idle": "2024-04-21T17:52:27.641926Z",
     "shell.execute_reply": "2024-04-21T17:52:27.640896Z"
    },
    "papermill": {
     "duration": 0.352812,
     "end_time": "2024-04-21T17:52:27.644306",
     "exception": false,
     "start_time": "2024-04-21T17:52:27.291494",
     "status": "completed"
    },
    "tags": []
   },
   "outputs": [
    {
     "data": {
      "image/png": "[encoded data removed]",
      "text/plain": [
       "<Figure size 640x480 with 2 Axes>"
      ]
     },
     "metadata": {},
     "output_type": "display_data"
    }
   ],
   "source": [
    "sns.heatmap(cm, annot=True, fmt=\"d\", cmap='Blues')\n",
    "plt.xlabel('Predicted')\n",
    "plt.ylabel('Actual')\n",
    "plt.title('Confusion Matrix')\n",
    "plt.show()"
   ]
  },
  {
   "cell_type": "code",
   "execution_count": 15,
   "id": "cfcfd677",
   "metadata": {
    "execution": {
     "iopub.execute_input": "2024-04-21T17:52:27.668505Z",
     "iopub.status.busy": "2024-04-21T17:52:27.667594Z",
     "iopub.status.idle": "2024-04-21T17:52:28.021441Z",
     "shell.execute_reply": "2024-04-21T17:52:28.019668Z"
    },
    "papermill": {
     "duration": 0.369377,
     "end_time": "2024-04-21T17:52:28.024432",
     "exception": false,
     "start_time": "2024-04-21T17:52:27.655055",
     "status": "completed"
    },
    "tags": []
   },
   "outputs": [
    {
     "data": {
      "image/png": "[encoded data removed]",
      "text/plain": [
       "<Figure size 640x480 with 1 Axes>"
      ]
     },
     "metadata": {},
     "output_type": "display_data"
    }
   ],
   "source": [
    "# Calculate Precision-Recall curve\n",
    "precision, recall, _ = precision_recall_curve(y_valid, preds)\n",
    "\n",
    "# Plot Precision-Recall curve\n",
    "plt.figure()\n",
    "plt.plot(recall, precision, color='blue', lw=2, label='Precision-Recall curve')\n",
    "plt.xlabel('Recall')\n",
    "plt.ylabel('Precision')\n",
    "plt.title('Precision-Recall Curve')\n",
    "plt.legend(loc=\"lower left\")\n",
    "plt.show()"
   ]
  },
  {
   "cell_type": "code",
   "execution_count": 16,
   "id": "9198a13a",
   "metadata": {
    "execution": {
     "iopub.execute_input": "2024-04-21T17:52:28.049672Z",
     "iopub.status.busy": "2024-04-21T17:52:28.049241Z",
     "iopub.status.idle": "2024-04-21T17:52:28.058751Z",
     "shell.execute_reply": "2024-04-21T17:52:28.057207Z"
    },
    "papermill": {
     "duration": 0.025343,
     "end_time": "2024-04-21T17:52:28.061301",
     "exception": false,
     "start_time": "2024-04-21T17:52:28.035958",
     "status": "completed"
    },
    "tags": []
   },
   "outputs": [
    {
     "name": "stdout",
     "output_type": "stream",
     "text": [
      "male              True\n",
      "age               True\n",
      "currentSmoker     True\n",
      "cigsPerDay       False\n",
      "BPMeds           False\n",
      "diabetes          True\n",
      "totChol          False\n",
      "sysBP            False\n",
      "diaBP            False\n",
      "BMI              False\n",
      "heartRate        False\n",
      "glucose          False\n",
      "dtype: bool\n"
     ]
    }
   ],
   "source": [
    "discrete_features = hypertension_data.dtypes == int\n",
    "discrete_features.drop(['Risk'], inplace=True)\n",
    "print(discrete_features)"
   ]
  },
  {
   "cell_type": "code",
   "execution_count": null,
   "id": "b6e04653",
   "metadata": {
    "papermill": {
     "duration": 0.010823,
     "end_time": "2024-04-21T17:52:28.083413",
     "exception": false,
     "start_time": "2024-04-21T17:52:28.072590",
     "status": "completed"
    },
    "tags": []
   },
   "outputs": [],
   "source": []
  },
  {
   "cell_type": "code",
   "execution_count": 17,
   "id": "cd898904",
   "metadata": {
    "execution": {
     "iopub.execute_input": "2024-04-21T17:52:28.107612Z",
     "iopub.status.busy": "2024-04-21T17:52:28.107190Z",
     "iopub.status.idle": "2024-04-21T17:52:28.310935Z",
     "shell.execute_reply": "2024-04-21T17:52:28.309239Z"
    },
    "papermill": {
     "duration": 0.219757,
     "end_time": "2024-04-21T17:52:28.314461",
     "exception": false,
     "start_time": "2024-04-21T17:52:28.094704",
     "status": "completed"
    },
    "tags": []
   },
   "outputs": [
    {
     "name": "stderr",
     "output_type": "stream",
     "text": [
      "/tmp/ipykernel_18/512322355.py:11: SettingWithCopyWarning: \n",
      "A value is trying to be set on a copy of a slice from a DataFrame\n",
      "\n",
      "See the caveats in the documentation: https://pandas.pydata.org/pandas-docs/stable/user_guide/indexing.html#returning-a-view-versus-a-copy\n",
      "  X_data.drop(['Risk'], axis=1, inplace=True)\n"
     ]
    },
    {
     "data": {
      "text/plain": [
       "sysBP            0.335892\n",
       "diaBP            0.245886\n",
       "age              0.052808\n",
       "BMI              0.042955\n",
       "BPMeds           0.042575\n",
       "totChol          0.016091\n",
       "currentSmoker    0.005564\n",
       "cigsPerDay       0.003332\n",
       "diabetes         0.003094\n",
       "glucose          0.002912\n",
       "heartRate        0.002643\n",
       "male             0.000006\n",
       "Name: MI Scores, dtype: float64"
      ]
     },
     "execution_count": 17,
     "metadata": {},
     "output_type": "execute_result"
    }
   ],
   "source": [
    "from sklearn.feature_selection import mutual_info_classif\n",
    "\n",
    "def make_mi_scores(X, y, discrete_features):\n",
    "    mi_scores = mutual_info_classif(X, y, discrete_features=discrete_features)\n",
    "    mi_scores = pd.Series(mi_scores, name=\"MI Scores\", index=X.columns)\n",
    "    mi_scores = mi_scores.sort_values(ascending=False)\n",
    "    return mi_scores\n",
    "\n",
    "X_data = hypertension_data.dropna(axis=0, inplace=False)\n",
    "y_data = X_data.Risk\n",
    "X_data.drop(['Risk'], axis=1, inplace=True)\n",
    "mi_scores = make_mi_scores(X_data, y_data, discrete_features)\n",
    "mi_scores  # show features with their MI scores"
   ]
  },
  {
   "cell_type": "code",
   "execution_count": 18,
   "id": "e55e6152",
   "metadata": {
    "execution": {
     "iopub.execute_input": "2024-04-21T17:52:28.340283Z",
     "iopub.status.busy": "2024-04-21T17:52:28.339737Z",
     "iopub.status.idle": "2024-04-21T17:52:28.775389Z",
     "shell.execute_reply": "2024-04-21T17:52:28.773654Z"
    },
    "papermill": {
     "duration": 0.453017,
     "end_time": "2024-04-21T17:52:28.779468",
     "exception": false,
     "start_time": "2024-04-21T17:52:28.326451",
     "status": "completed"
    },
    "tags": []
   },
   "outputs": [
    {
     "data": {
      "image/png": "[encoded data removed]",
      "text/plain": [
       "<Figure size 800x500 with 1 Axes>"
      ]
     },
     "metadata": {},
     "output_type": "display_data"
    }
   ],
   "source": [
    "def plot_mi_scores(scores):\n",
    "    scores = scores.sort_values(ascending=True)\n",
    "    width = np.arange(len(scores))\n",
    "    ticks = list(scores.index)\n",
    "    plt.barh(width, scores)\n",
    "    plt.yticks(width, ticks)\n",
    "    plt.title(\"Mutual Information Scores\")\n",
    "\n",
    "\n",
    "plt.figure(dpi=100, figsize=(8, 5))\n",
    "plot_mi_scores(mi_scores)"
   ]
  }
 ],
 "metadata": {
  "kaggle": {
   "accelerator": "none",
   "dataSources": [
    {
     "datasetId": 4699720,
     "sourceId": 7984234,
     "sourceType": "datasetVersion"
    }
   ],
   "dockerImageVersionId": 30684,
   "isGpuEnabled": false,
   "isInternetEnabled": true,
   "language": "python",
   "sourceType": "notebook"
  },
  "kernelspec": {
   "display_name": "Python 3",
   "language": "python",
   "name": "python3"
  },
  "language_info": {
   "codemirror_mode": {
    "name": "ipython",
    "version": 3
   },
   "file_extension": ".py",
   "mimetype": "text/x-python",
   "name": "python",
   "nbconvert_exporter": "python",
   "pygments_lexer": "ipython3",
   "version": "3.10.13"
  },
  "papermill": {
   "default_parameters": {},
   "duration": 11.847769,
   "end_time": "2024-04-21T17:52:29.817771",
   "environment_variables": {},
   "exception": null,
   "input_path": "__notebook__.ipynb",
   "output_path": "__notebook__.ipynb",
   "parameters": {},
   "start_time": "2024-04-21T17:52:17.970002",
   "version": "2.5.0"
  }
 },
 "nbformat": 4,
 "nbformat_minor": 5
}
