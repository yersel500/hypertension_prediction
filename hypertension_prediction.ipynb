{
 "cells": [
  {
   "cell_type": "code",
   "execution_count": 1,
   "id": "c2f19573",
   "metadata": {
    "_cell_guid": "b1076dfc-b9ad-4769-8c92-a6c4dae69d19",
    "_uuid": "8f2839f25d086af736a60e9eeb907d3b93b6e0e5",
    "execution": {
     "iopub.execute_input": "2024-04-21T22:25:09.662599Z",
     "iopub.status.busy": "2024-04-21T22:25:09.661553Z",
     "iopub.status.idle": "2024-04-21T22:25:10.389613Z",
     "shell.execute_reply": "2024-04-21T22:25:10.388719Z"
    },
    "papermill": {
     "duration": 0.736885,
     "end_time": "2024-04-21T22:25:10.391769",
     "exception": false,
     "start_time": "2024-04-21T22:25:09.654884",
     "status": "completed"
    },
    "tags": []
   },
   "outputs": [],
   "source": [
    "import numpy as np # linear algebra\n",
    "import pandas as pd # data processing, CSV file I/O (e.g. pd.read_csv)"
   ]
  },
  {
   "cell_type": "code",
   "execution_count": 2,
   "id": "a502d2a0",
   "metadata": {
    "execution": {
     "iopub.execute_input": "2024-04-21T22:25:10.402922Z",
     "iopub.status.busy": "2024-04-21T22:25:10.402536Z",
     "iopub.status.idle": "2024-04-21T22:25:10.446766Z",
     "shell.execute_reply": "2024-04-21T22:25:10.445891Z"
    },
    "papermill": {
     "duration": 0.051593,
     "end_time": "2024-04-21T22:25:10.448401",
     "exception": false,
     "start_time": "2024-04-21T22:25:10.396808",
     "status": "completed"
    },
    "tags": []
   },
   "outputs": [
    {
     "data": {
      "text/html": [
       "<div>\n",
       "<style scoped>\n",
       "    .dataframe tbody tr th:only-of-type {\n",
       "        vertical-align: middle;\n",
       "    }\n",
       "\n",
       "    .dataframe tbody tr th {\n",
       "        vertical-align: top;\n",
       "    }\n",
       "\n",
       "    .dataframe thead th {\n",
       "        text-align: right;\n",
       "    }\n",
       "</style>\n",
       "<table border=\"1\" class=\"dataframe\">\n",
       "  <thead>\n",
       "    <tr style=\"text-align: right;\">\n",
       "      <th></th>\n",
       "      <th>male</th>\n",
       "      <th>age</th>\n",
       "      <th>currentSmoker</th>\n",
       "      <th>cigsPerDay</th>\n",
       "      <th>BPMeds</th>\n",
       "      <th>diabetes</th>\n",
       "      <th>totChol</th>\n",
       "      <th>sysBP</th>\n",
       "      <th>diaBP</th>\n",
       "      <th>BMI</th>\n",
       "      <th>heartRate</th>\n",
       "      <th>glucose</th>\n",
       "      <th>Risk</th>\n",
       "    </tr>\n",
       "  </thead>\n",
       "  <tbody>\n",
       "    <tr>\n",
       "      <th>0</th>\n",
       "      <td>1</td>\n",
       "      <td>39</td>\n",
       "      <td>0</td>\n",
       "      <td>0.0</td>\n",
       "      <td>0.0</td>\n",
       "      <td>0</td>\n",
       "      <td>195.0</td>\n",
       "      <td>106.0</td>\n",
       "      <td>70.0</td>\n",
       "      <td>26.97</td>\n",
       "      <td>80.0</td>\n",
       "      <td>77.0</td>\n",
       "      <td>0</td>\n",
       "    </tr>\n",
       "    <tr>\n",
       "      <th>1</th>\n",
       "      <td>0</td>\n",
       "      <td>46</td>\n",
       "      <td>0</td>\n",
       "      <td>0.0</td>\n",
       "      <td>0.0</td>\n",
       "      <td>0</td>\n",
       "      <td>250.0</td>\n",
       "      <td>121.0</td>\n",
       "      <td>81.0</td>\n",
       "      <td>28.73</td>\n",
       "      <td>95.0</td>\n",
       "      <td>76.0</td>\n",
       "      <td>0</td>\n",
       "    </tr>\n",
       "    <tr>\n",
       "      <th>2</th>\n",
       "      <td>1</td>\n",
       "      <td>48</td>\n",
       "      <td>1</td>\n",
       "      <td>20.0</td>\n",
       "      <td>0.0</td>\n",
       "      <td>0</td>\n",
       "      <td>245.0</td>\n",
       "      <td>127.5</td>\n",
       "      <td>80.0</td>\n",
       "      <td>25.34</td>\n",
       "      <td>75.0</td>\n",
       "      <td>70.0</td>\n",
       "      <td>0</td>\n",
       "    </tr>\n",
       "    <tr>\n",
       "      <th>3</th>\n",
       "      <td>0</td>\n",
       "      <td>61</td>\n",
       "      <td>1</td>\n",
       "      <td>30.0</td>\n",
       "      <td>0.0</td>\n",
       "      <td>0</td>\n",
       "      <td>225.0</td>\n",
       "      <td>150.0</td>\n",
       "      <td>95.0</td>\n",
       "      <td>28.58</td>\n",
       "      <td>65.0</td>\n",
       "      <td>103.0</td>\n",
       "      <td>1</td>\n",
       "    </tr>\n",
       "    <tr>\n",
       "      <th>4</th>\n",
       "      <td>0</td>\n",
       "      <td>46</td>\n",
       "      <td>1</td>\n",
       "      <td>23.0</td>\n",
       "      <td>0.0</td>\n",
       "      <td>0</td>\n",
       "      <td>285.0</td>\n",
       "      <td>130.0</td>\n",
       "      <td>84.0</td>\n",
       "      <td>23.10</td>\n",
       "      <td>85.0</td>\n",
       "      <td>85.0</td>\n",
       "      <td>0</td>\n",
       "    </tr>\n",
       "  </tbody>\n",
       "</table>\n",
       "</div>"
      ],
      "text/plain": [
       "   male  age  currentSmoker  cigsPerDay  BPMeds  diabetes  totChol  sysBP  \\\n",
       "0     1   39              0         0.0     0.0         0    195.0  106.0   \n",
       "1     0   46              0         0.0     0.0         0    250.0  121.0   \n",
       "2     1   48              1        20.0     0.0         0    245.0  127.5   \n",
       "3     0   61              1        30.0     0.0         0    225.0  150.0   \n",
       "4     0   46              1        23.0     0.0         0    285.0  130.0   \n",
       "\n",
       "   diaBP    BMI  heartRate  glucose  Risk  \n",
       "0   70.0  26.97       80.0     77.0     0  \n",
       "1   81.0  28.73       95.0     76.0     0  \n",
       "2   80.0  25.34       75.0     70.0     0  \n",
       "3   95.0  28.58       65.0    103.0     1  \n",
       "4   84.0  23.10       85.0     85.0     0  "
      ]
     },
     "execution_count": 2,
     "metadata": {},
     "output_type": "execute_result"
    }
   ],
   "source": [
    "file_path = '../input/hypertension-risk-model-main/Hypertension-risk-model-main.csv'\n",
    "hypertension_data = pd.read_csv(file_path)\n",
    "\n",
    "hypertension_data.head()\n"
   ]
  },
  {
   "cell_type": "code",
   "execution_count": 3,
   "id": "8827b347",
   "metadata": {
    "execution": {
     "iopub.execute_input": "2024-04-21T22:25:10.459949Z",
     "iopub.status.busy": "2024-04-21T22:25:10.459156Z",
     "iopub.status.idle": "2024-04-21T22:25:10.483160Z",
     "shell.execute_reply": "2024-04-21T22:25:10.482442Z"
    },
    "papermill": {
     "duration": 0.031335,
     "end_time": "2024-04-21T22:25:10.484819",
     "exception": false,
     "start_time": "2024-04-21T22:25:10.453484",
     "status": "completed"
    },
    "tags": []
   },
   "outputs": [
    {
     "data": {
      "text/html": [
       "<div>\n",
       "<style scoped>\n",
       "    .dataframe tbody tr th:only-of-type {\n",
       "        vertical-align: middle;\n",
       "    }\n",
       "\n",
       "    .dataframe tbody tr th {\n",
       "        vertical-align: top;\n",
       "    }\n",
       "\n",
       "    .dataframe thead th {\n",
       "        text-align: right;\n",
       "    }\n",
       "</style>\n",
       "<table border=\"1\" class=\"dataframe\">\n",
       "  <thead>\n",
       "    <tr style=\"text-align: right;\">\n",
       "      <th></th>\n",
       "      <th>male</th>\n",
       "      <th>age</th>\n",
       "      <th>currentSmoker</th>\n",
       "      <th>cigsPerDay</th>\n",
       "      <th>BPMeds</th>\n",
       "      <th>diabetes</th>\n",
       "      <th>totChol</th>\n",
       "      <th>sysBP</th>\n",
       "      <th>diaBP</th>\n",
       "      <th>BMI</th>\n",
       "      <th>heartRate</th>\n",
       "      <th>glucose</th>\n",
       "    </tr>\n",
       "  </thead>\n",
       "  <tbody>\n",
       "    <tr>\n",
       "      <th>0</th>\n",
       "      <td>1</td>\n",
       "      <td>39</td>\n",
       "      <td>0</td>\n",
       "      <td>0.0</td>\n",
       "      <td>0.0</td>\n",
       "      <td>0</td>\n",
       "      <td>195.0</td>\n",
       "      <td>106.0</td>\n",
       "      <td>70.0</td>\n",
       "      <td>26.97</td>\n",
       "      <td>80.0</td>\n",
       "      <td>77.0</td>\n",
       "    </tr>\n",
       "    <tr>\n",
       "      <th>1</th>\n",
       "      <td>0</td>\n",
       "      <td>46</td>\n",
       "      <td>0</td>\n",
       "      <td>0.0</td>\n",
       "      <td>0.0</td>\n",
       "      <td>0</td>\n",
       "      <td>250.0</td>\n",
       "      <td>121.0</td>\n",
       "      <td>81.0</td>\n",
       "      <td>28.73</td>\n",
       "      <td>95.0</td>\n",
       "      <td>76.0</td>\n",
       "    </tr>\n",
       "    <tr>\n",
       "      <th>2</th>\n",
       "      <td>1</td>\n",
       "      <td>48</td>\n",
       "      <td>1</td>\n",
       "      <td>20.0</td>\n",
       "      <td>0.0</td>\n",
       "      <td>0</td>\n",
       "      <td>245.0</td>\n",
       "      <td>127.5</td>\n",
       "      <td>80.0</td>\n",
       "      <td>25.34</td>\n",
       "      <td>75.0</td>\n",
       "      <td>70.0</td>\n",
       "    </tr>\n",
       "    <tr>\n",
       "      <th>3</th>\n",
       "      <td>0</td>\n",
       "      <td>61</td>\n",
       "      <td>1</td>\n",
       "      <td>30.0</td>\n",
       "      <td>0.0</td>\n",
       "      <td>0</td>\n",
       "      <td>225.0</td>\n",
       "      <td>150.0</td>\n",
       "      <td>95.0</td>\n",
       "      <td>28.58</td>\n",
       "      <td>65.0</td>\n",
       "      <td>103.0</td>\n",
       "    </tr>\n",
       "    <tr>\n",
       "      <th>4</th>\n",
       "      <td>0</td>\n",
       "      <td>46</td>\n",
       "      <td>1</td>\n",
       "      <td>23.0</td>\n",
       "      <td>0.0</td>\n",
       "      <td>0</td>\n",
       "      <td>285.0</td>\n",
       "      <td>130.0</td>\n",
       "      <td>84.0</td>\n",
       "      <td>23.10</td>\n",
       "      <td>85.0</td>\n",
       "      <td>85.0</td>\n",
       "    </tr>\n",
       "  </tbody>\n",
       "</table>\n",
       "</div>"
      ],
      "text/plain": [
       "   male  age  currentSmoker  cigsPerDay  BPMeds  diabetes  totChol  sysBP  \\\n",
       "0     1   39              0         0.0     0.0         0    195.0  106.0   \n",
       "1     0   46              0         0.0     0.0         0    250.0  121.0   \n",
       "2     1   48              1        20.0     0.0         0    245.0  127.5   \n",
       "3     0   61              1        30.0     0.0         0    225.0  150.0   \n",
       "4     0   46              1        23.0     0.0         0    285.0  130.0   \n",
       "\n",
       "   diaBP    BMI  heartRate  glucose  \n",
       "0   70.0  26.97       80.0     77.0  \n",
       "1   81.0  28.73       95.0     76.0  \n",
       "2   80.0  25.34       75.0     70.0  \n",
       "3   95.0  28.58       65.0    103.0  \n",
       "4   84.0  23.10       85.0     85.0  "
      ]
     },
     "execution_count": 3,
     "metadata": {},
     "output_type": "execute_result"
    }
   ],
   "source": [
    "# delete rows with missing targets\n",
    "X_data = hypertension_data.dropna(axis=0, subset=['Risk'], inplace=False)\n",
    "y_data = X_data.Risk\n",
    "X_data.drop(['Risk'], axis=1, inplace=True)\n",
    "X_data.head()"
   ]
  },
  {
   "cell_type": "code",
   "execution_count": 4,
   "id": "dce356f6",
   "metadata": {
    "execution": {
     "iopub.execute_input": "2024-04-21T22:25:10.496974Z",
     "iopub.status.busy": "2024-04-21T22:25:10.496020Z",
     "iopub.status.idle": "2024-04-21T22:25:10.511243Z",
     "shell.execute_reply": "2024-04-21T22:25:10.510489Z"
    },
    "papermill": {
     "duration": 0.02269,
     "end_time": "2024-04-21T22:25:10.512802",
     "exception": false,
     "start_time": "2024-04-21T22:25:10.490112",
     "status": "completed"
    },
    "tags": []
   },
   "outputs": [
    {
     "data": {
      "text/html": [
       "<div>\n",
       "<style scoped>\n",
       "    .dataframe tbody tr th:only-of-type {\n",
       "        vertical-align: middle;\n",
       "    }\n",
       "\n",
       "    .dataframe tbody tr th {\n",
       "        vertical-align: top;\n",
       "    }\n",
       "\n",
       "    .dataframe thead th {\n",
       "        text-align: right;\n",
       "    }\n",
       "</style>\n",
       "<table border=\"1\" class=\"dataframe\">\n",
       "  <thead>\n",
       "    <tr style=\"text-align: right;\">\n",
       "      <th></th>\n",
       "      <th>male</th>\n",
       "      <th>age</th>\n",
       "      <th>currentSmoker</th>\n",
       "      <th>cigsPerDay</th>\n",
       "      <th>BPMeds</th>\n",
       "      <th>diabetes</th>\n",
       "      <th>totChol</th>\n",
       "      <th>sysBP</th>\n",
       "      <th>diaBP</th>\n",
       "      <th>BMI</th>\n",
       "      <th>heartRate</th>\n",
       "      <th>glucose</th>\n",
       "    </tr>\n",
       "  </thead>\n",
       "  <tbody>\n",
       "    <tr>\n",
       "      <th>0</th>\n",
       "      <td>1</td>\n",
       "      <td>39</td>\n",
       "      <td>0</td>\n",
       "      <td>0.0</td>\n",
       "      <td>0.0</td>\n",
       "      <td>0</td>\n",
       "      <td>195.0</td>\n",
       "      <td>106.0</td>\n",
       "      <td>70.0</td>\n",
       "      <td>26.97</td>\n",
       "      <td>80.0</td>\n",
       "      <td>77.0</td>\n",
       "    </tr>\n",
       "    <tr>\n",
       "      <th>1</th>\n",
       "      <td>0</td>\n",
       "      <td>46</td>\n",
       "      <td>0</td>\n",
       "      <td>0.0</td>\n",
       "      <td>0.0</td>\n",
       "      <td>0</td>\n",
       "      <td>250.0</td>\n",
       "      <td>121.0</td>\n",
       "      <td>81.0</td>\n",
       "      <td>28.73</td>\n",
       "      <td>95.0</td>\n",
       "      <td>76.0</td>\n",
       "    </tr>\n",
       "    <tr>\n",
       "      <th>2</th>\n",
       "      <td>1</td>\n",
       "      <td>48</td>\n",
       "      <td>1</td>\n",
       "      <td>20.0</td>\n",
       "      <td>0.0</td>\n",
       "      <td>0</td>\n",
       "      <td>245.0</td>\n",
       "      <td>127.5</td>\n",
       "      <td>80.0</td>\n",
       "      <td>25.34</td>\n",
       "      <td>75.0</td>\n",
       "      <td>70.0</td>\n",
       "    </tr>\n",
       "    <tr>\n",
       "      <th>3</th>\n",
       "      <td>0</td>\n",
       "      <td>61</td>\n",
       "      <td>1</td>\n",
       "      <td>30.0</td>\n",
       "      <td>0.0</td>\n",
       "      <td>0</td>\n",
       "      <td>225.0</td>\n",
       "      <td>150.0</td>\n",
       "      <td>95.0</td>\n",
       "      <td>28.58</td>\n",
       "      <td>65.0</td>\n",
       "      <td>103.0</td>\n",
       "    </tr>\n",
       "    <tr>\n",
       "      <th>4</th>\n",
       "      <td>0</td>\n",
       "      <td>46</td>\n",
       "      <td>1</td>\n",
       "      <td>23.0</td>\n",
       "      <td>0.0</td>\n",
       "      <td>0</td>\n",
       "      <td>285.0</td>\n",
       "      <td>130.0</td>\n",
       "      <td>84.0</td>\n",
       "      <td>23.10</td>\n",
       "      <td>85.0</td>\n",
       "      <td>85.0</td>\n",
       "    </tr>\n",
       "  </tbody>\n",
       "</table>\n",
       "</div>"
      ],
      "text/plain": [
       "   male  age  currentSmoker  cigsPerDay  BPMeds  diabetes  totChol  sysBP  \\\n",
       "0     1   39              0         0.0     0.0         0    195.0  106.0   \n",
       "1     0   46              0         0.0     0.0         0    250.0  121.0   \n",
       "2     1   48              1        20.0     0.0         0    245.0  127.5   \n",
       "3     0   61              1        30.0     0.0         0    225.0  150.0   \n",
       "4     0   46              1        23.0     0.0         0    285.0  130.0   \n",
       "\n",
       "   diaBP    BMI  heartRate  glucose  \n",
       "0   70.0  26.97       80.0     77.0  \n",
       "1   81.0  28.73       95.0     76.0  \n",
       "2   80.0  25.34       75.0     70.0  \n",
       "3   95.0  28.58       65.0    103.0  \n",
       "4   84.0  23.10       85.0     85.0  "
      ]
     },
     "execution_count": 4,
     "metadata": {},
     "output_type": "execute_result"
    }
   ],
   "source": [
    "X_data.head()"
   ]
  },
  {
   "cell_type": "code",
   "execution_count": 5,
   "id": "c98da581",
   "metadata": {
    "execution": {
     "iopub.execute_input": "2024-04-21T22:25:10.525283Z",
     "iopub.status.busy": "2024-04-21T22:25:10.524948Z",
     "iopub.status.idle": "2024-04-21T22:25:11.579450Z",
     "shell.execute_reply": "2024-04-21T22:25:11.578427Z"
    },
    "papermill": {
     "duration": 1.063413,
     "end_time": "2024-04-21T22:25:11.581622",
     "exception": false,
     "start_time": "2024-04-21T22:25:10.518209",
     "status": "completed"
    },
    "tags": []
   },
   "outputs": [],
   "source": [
    "# Break off validation data from training data\n",
    "from sklearn.model_selection import train_test_split\n",
    "\n",
    "X_train, X_valid, y_train, y_valid = train_test_split(X_data, y_data, train_size=0.8,\n",
    "                                                     test_size=0.2, random_state=0)"
   ]
  },
  {
   "cell_type": "code",
   "execution_count": 6,
   "id": "aff26b74",
   "metadata": {
    "execution": {
     "iopub.execute_input": "2024-04-21T22:25:11.594631Z",
     "iopub.status.busy": "2024-04-21T22:25:11.593640Z",
     "iopub.status.idle": "2024-04-21T22:25:11.598666Z",
     "shell.execute_reply": "2024-04-21T22:25:11.597865Z"
    },
    "papermill": {
     "duration": 0.013156,
     "end_time": "2024-04-21T22:25:11.600392",
     "exception": false,
     "start_time": "2024-04-21T22:25:11.587236",
     "status": "completed"
    },
    "tags": []
   },
   "outputs": [],
   "source": [
    "# In this case, the categorical and numerical columns can be classifed directly:\n",
    "categorical_cols = ['male', 'currentSmoker', 'diabetes']\n",
    "numerical_cols = ['age', 'cigsPerDay', 'BPMeds', 'totChol', 'sysBP', 'diaBP', 'BMI',\n",
    "                 'heartRate', 'glucose']"
   ]
  },
  {
   "cell_type": "code",
   "execution_count": 7,
   "id": "1b09f170",
   "metadata": {
    "execution": {
     "iopub.execute_input": "2024-04-21T22:25:11.613458Z",
     "iopub.status.busy": "2024-04-21T22:25:11.613149Z",
     "iopub.status.idle": "2024-04-21T22:25:11.945517Z",
     "shell.execute_reply": "2024-04-21T22:25:11.944799Z"
    },
    "papermill": {
     "duration": 0.340991,
     "end_time": "2024-04-21T22:25:11.947534",
     "exception": false,
     "start_time": "2024-04-21T22:25:11.606543",
     "status": "completed"
    },
    "tags": []
   },
   "outputs": [
    {
     "name": "stdout",
     "output_type": "stream",
     "text": [
      "Accuracy Score 0.8738207547169812\n"
     ]
    }
   ],
   "source": [
    "from sklearn.compose import ColumnTransformer\n",
    "from sklearn.pipeline import Pipeline\n",
    "from sklearn.impute import SimpleImputer\n",
    "from sklearn.preprocessing import StandardScaler\n",
    "from sklearn.ensemble import RandomForestClassifier\n",
    "from sklearn.linear_model import LogisticRegression\n",
    "from sklearn.metrics import accuracy_score, confusion_matrix, precision_recall_curve\n",
    "\n",
    "#Preprocessing numerical data\n",
    "numerical_transformer = Pipeline(steps=[\n",
    "    ('imputer', SimpleImputer(strategy='constant')),\n",
    "    ('scaler', StandardScaler())\n",
    "])\n",
    "\n",
    "\n",
    "# Preprocessing categorical data\n",
    "categorical_transformer = SimpleImputer(strategy='most_frequent')\n",
    "\n",
    "#Bundle preprocessing for numerical an categorical data\n",
    "preprocessor = ColumnTransformer(\n",
    "    transformers=[\n",
    "        ('num', numerical_transformer, numerical_cols),\n",
    "        ('cat', categorical_transformer, categorical_cols)\n",
    "    ])\n",
    "\n",
    "#Define model\n",
    "model = LogisticRegression()\n",
    "\n",
    "#Bundle preprocessing and modeling code in a pipeline\n",
    "clf = Pipeline(steps=[('preprocessor', preprocessor),\n",
    "                     ('model', model)\n",
    "                     ])\n",
    "\n",
    "# Preprocessing of validation data\n",
    "clf.fit(X_train, y_train)\n",
    "\n",
    "# Preprocessing of validation data\n",
    "preds = clf.predict(X_valid)\n",
    "\n",
    "print('Accuracy Score', accuracy_score(y_valid, preds))"
   ]
  },
  {
   "cell_type": "code",
   "execution_count": 8,
   "id": "81f788eb",
   "metadata": {
    "execution": {
     "iopub.execute_input": "2024-04-21T22:25:11.962861Z",
     "iopub.status.busy": "2024-04-21T22:25:11.962522Z",
     "iopub.status.idle": "2024-04-21T22:25:12.233248Z",
     "shell.execute_reply": "2024-04-21T22:25:12.232612Z"
    },
    "papermill": {
     "duration": 0.280575,
     "end_time": "2024-04-21T22:25:12.235294",
     "exception": false,
     "start_time": "2024-04-21T22:25:11.954719",
     "status": "completed"
    },
    "tags": []
   },
   "outputs": [
    {
     "name": "stdout",
     "output_type": "stream",
     "text": [
      "Setup Complete\n"
     ]
    }
   ],
   "source": [
    "import pandas as pd\n",
    "pd.plotting.register_matplotlib_converters()\n",
    "import matplotlib.pyplot as plt\n",
    "%matplotlib inline\n",
    "import seaborn as sns\n",
    "print(\"Setup Complete\")"
   ]
  },
  {
   "cell_type": "code",
   "execution_count": 9,
   "id": "356682c7",
   "metadata": {
    "execution": {
     "iopub.execute_input": "2024-04-21T22:25:12.248487Z",
     "iopub.status.busy": "2024-04-21T22:25:12.248135Z",
     "iopub.status.idle": "2024-04-21T22:25:12.256288Z",
     "shell.execute_reply": "2024-04-21T22:25:12.255252Z"
    },
    "papermill": {
     "duration": 0.016894,
     "end_time": "2024-04-21T22:25:12.258125",
     "exception": false,
     "start_time": "2024-04-21T22:25:12.241231",
     "status": "completed"
    },
    "tags": []
   },
   "outputs": [
    {
     "name": "stdout",
     "output_type": "stream",
     "text": [
      "[[546  37]\n",
      " [ 70 195]]\n"
     ]
    }
   ],
   "source": [
    "# Show the confusion matrix\n",
    "cm = confusion_matrix(y_valid, preds)\n",
    "print(cm)"
   ]
  },
  {
   "cell_type": "code",
   "execution_count": 10,
   "id": "6fda303d",
   "metadata": {
    "execution": {
     "iopub.execute_input": "2024-04-21T22:25:12.271608Z",
     "iopub.status.busy": "2024-04-21T22:25:12.271316Z",
     "iopub.status.idle": "2024-04-21T22:25:12.467579Z",
     "shell.execute_reply": "2024-04-21T22:25:12.466529Z"
    },
    "papermill": {
     "duration": 0.204641,
     "end_time": "2024-04-21T22:25:12.469419",
     "exception": false,
     "start_time": "2024-04-21T22:25:12.264778",
     "status": "completed"
    },
    "tags": []
   },
   "outputs": [
    {
     "data": {
      "image/png": "[encoded data removed]",
      "text/plain": [
       "<Figure size 640x480 with 2 Axes>"
      ]
     },
     "metadata": {},
     "output_type": "display_data"
    }
   ],
   "source": [
    "sns.heatmap(cm, annot=True, fmt=\"d\", cmap='Blues')\n",
    "plt.xlabel('Predicted')\n",
    "plt.ylabel('Actual')\n",
    "plt.title('Confusion Matrix')\n",
    "plt.show()"
   ]
  },
  {
   "cell_type": "code",
   "execution_count": 11,
   "id": "0b2ef7fc",
   "metadata": {
    "execution": {
     "iopub.execute_input": "2024-04-21T22:25:12.483586Z",
     "iopub.status.busy": "2024-04-21T22:25:12.482767Z",
     "iopub.status.idle": "2024-04-21T22:25:12.663996Z",
     "shell.execute_reply": "2024-04-21T22:25:12.663043Z"
    },
    "papermill": {
     "duration": 0.190331,
     "end_time": "2024-04-21T22:25:12.665807",
     "exception": false,
     "start_time": "2024-04-21T22:25:12.475476",
     "status": "completed"
    },
    "tags": []
   },
   "outputs": [
    {
     "data": {
      "image/png": "[encoded data removed]",
      "text/plain": [
       "<Figure size 640x480 with 1 Axes>"
      ]
     },
     "metadata": {},
     "output_type": "display_data"
    }
   ],
   "source": [
    "# Calculate Precision-Recall curve\n",
    "precision, recall, _ = precision_recall_curve(y_valid, preds)\n",
    "\n",
    "# Plot Precision-Recall curve\n",
    "plt.figure()\n",
    "plt.plot(recall, precision, color='blue', lw=2, label='Precision-Recall curve')\n",
    "plt.xlabel('Recall')\n",
    "plt.ylabel('Precision')\n",
    "plt.title('Precision-Recall Curve')\n",
    "plt.legend(loc=\"lower left\")\n",
    "plt.show()"
   ]
  },
  {
   "cell_type": "code",
   "execution_count": 12,
   "id": "5bfa3495",
   "metadata": {
    "execution": {
     "iopub.execute_input": "2024-04-21T22:25:12.679459Z",
     "iopub.status.busy": "2024-04-21T22:25:12.679178Z",
     "iopub.status.idle": "2024-04-21T22:25:13.212626Z",
     "shell.execute_reply": "2024-04-21T22:25:13.211241Z"
    },
    "papermill": {
     "duration": 0.542436,
     "end_time": "2024-04-21T22:25:13.214643",
     "exception": false,
     "start_time": "2024-04-21T22:25:12.672207",
     "status": "completed"
    },
    "tags": []
   },
   "outputs": [
    {
     "name": "stdout",
     "output_type": "stream",
     "text": [
      "Accuracy Score 0.9080188679245284\n"
     ]
    }
   ],
   "source": [
    "# Now we will use RandomForestClassifier\n",
    "# Select the model\n",
    "random_forest_model = RandomForestClassifier(n_estimators=100, random_state=1)\n",
    "\n",
    "#Bundle preprocessing and modeling code in a pipeline\n",
    "clf = Pipeline(steps=[('preprocessor', preprocessor),\n",
    "                     ('model', random_forest_model)\n",
    "                     ])\n",
    "#Train the model\n",
    "clf.fit(X_train, y_train)\n",
    "\n",
    "# Preprocessing of validation data\n",
    "preds = clf.predict(X_valid)\n",
    "\n",
    "print('Accuracy Score', accuracy_score(y_valid, preds))"
   ]
  },
  {
   "cell_type": "code",
   "execution_count": 13,
   "id": "7f375af1",
   "metadata": {
    "execution": {
     "iopub.execute_input": "2024-04-21T22:25:13.228308Z",
     "iopub.status.busy": "2024-04-21T22:25:13.227994Z",
     "iopub.status.idle": "2024-04-21T22:25:13.234488Z",
     "shell.execute_reply": "2024-04-21T22:25:13.233599Z"
    },
    "papermill": {
     "duration": 0.015165,
     "end_time": "2024-04-21T22:25:13.236169",
     "exception": false,
     "start_time": "2024-04-21T22:25:13.221004",
     "status": "completed"
    },
    "tags": []
   },
   "outputs": [
    {
     "name": "stdout",
     "output_type": "stream",
     "text": [
      "[[539  44]\n",
      " [ 34 231]]\n"
     ]
    }
   ],
   "source": [
    "cm = confusion_matrix(y_valid, preds)\n",
    "print(cm)"
   ]
  },
  {
   "cell_type": "code",
   "execution_count": 14,
   "id": "f4e5e013",
   "metadata": {
    "execution": {
     "iopub.execute_input": "2024-04-21T22:25:13.249604Z",
     "iopub.status.busy": "2024-04-21T22:25:13.249356Z",
     "iopub.status.idle": "2024-04-21T22:25:13.415598Z",
     "shell.execute_reply": "2024-04-21T22:25:13.414649Z"
    },
    "papermill": {
     "duration": 0.174933,
     "end_time": "2024-04-21T22:25:13.417355",
     "exception": false,
     "start_time": "2024-04-21T22:25:13.242422",
     "status": "completed"
    },
    "tags": []
   },
   "outputs": [
    {
     "data": {
      "image/png": "[encoded data removed]",
      "text/plain": [
       "<Figure size 640x480 with 2 Axes>"
      ]
     },
     "metadata": {},
     "output_type": "display_data"
    }
   ],
   "source": [
    "sns.heatmap(cm, annot=True, fmt=\"d\", cmap='Blues')\n",
    "plt.xlabel('Predicted')\n",
    "plt.ylabel('Actual')\n",
    "plt.title('Confusion Matrix')\n",
    "plt.show()"
   ]
  },
  {
   "cell_type": "code",
   "execution_count": 15,
   "id": "9ca37078",
   "metadata": {
    "execution": {
     "iopub.execute_input": "2024-04-21T22:25:13.431394Z",
     "iopub.status.busy": "2024-04-21T22:25:13.431129Z",
     "iopub.status.idle": "2024-04-21T22:25:13.608899Z",
     "shell.execute_reply": "2024-04-21T22:25:13.607623Z"
    },
    "papermill": {
     "duration": 0.187038,
     "end_time": "2024-04-21T22:25:13.611020",
     "exception": false,
     "start_time": "2024-04-21T22:25:13.423982",
     "status": "completed"
    },
    "tags": []
   },
   "outputs": [
    {
     "data": {
      "image/png": "[encoded data removed]",
      "text/plain": [
       "<Figure size 640x480 with 1 Axes>"
      ]
     },
     "metadata": {},
     "output_type": "display_data"
    }
   ],
   "source": [
    "# Calculate Precision-Recall curve\n",
    "precision, recall, _ = precision_recall_curve(y_valid, preds)\n",
    "\n",
    "# Plot Precision-Recall curve\n",
    "plt.figure()\n",
    "plt.plot(recall, precision, color='blue', lw=2, label='Precision-Recall curve')\n",
    "plt.xlabel('Recall')\n",
    "plt.ylabel('Precision')\n",
    "plt.title('Precision-Recall Curve')\n",
    "plt.legend(loc=\"lower left\")\n",
    "plt.show()"
   ]
  },
  {
   "cell_type": "code",
   "execution_count": 16,
   "id": "ec3a1084",
   "metadata": {
    "execution": {
     "iopub.execute_input": "2024-04-21T22:25:13.626640Z",
     "iopub.status.busy": "2024-04-21T22:25:13.626309Z",
     "iopub.status.idle": "2024-04-21T22:25:13.633763Z",
     "shell.execute_reply": "2024-04-21T22:25:13.632257Z"
    },
    "papermill": {
     "duration": 0.017772,
     "end_time": "2024-04-21T22:25:13.635982",
     "exception": false,
     "start_time": "2024-04-21T22:25:13.618210",
     "status": "completed"
    },
    "tags": []
   },
   "outputs": [
    {
     "name": "stdout",
     "output_type": "stream",
     "text": [
      "male              True\n",
      "age               True\n",
      "currentSmoker     True\n",
      "cigsPerDay       False\n",
      "BPMeds           False\n",
      "diabetes          True\n",
      "totChol          False\n",
      "sysBP            False\n",
      "diaBP            False\n",
      "BMI              False\n",
      "heartRate        False\n",
      "glucose          False\n",
      "dtype: bool\n"
     ]
    }
   ],
   "source": [
    "discrete_features = hypertension_data.dtypes == int\n",
    "discrete_features.drop(['Risk'], inplace=True)\n",
    "print(discrete_features)"
   ]
  },
  {
   "cell_type": "code",
   "execution_count": null,
   "id": "0583dd4f",
   "metadata": {
    "papermill": {
     "duration": 0.006708,
     "end_time": "2024-04-21T22:25:13.650530",
     "exception": false,
     "start_time": "2024-04-21T22:25:13.643822",
     "status": "completed"
    },
    "tags": []
   },
   "outputs": [],
   "source": []
  },
  {
   "cell_type": "code",
   "execution_count": 17,
   "id": "4cc90022",
   "metadata": {
    "execution": {
     "iopub.execute_input": "2024-04-21T22:25:13.665597Z",
     "iopub.status.busy": "2024-04-21T22:25:13.665258Z",
     "iopub.status.idle": "2024-04-21T22:25:13.796677Z",
     "shell.execute_reply": "2024-04-21T22:25:13.795574Z"
    },
    "papermill": {
     "duration": 0.141425,
     "end_time": "2024-04-21T22:25:13.798772",
     "exception": false,
     "start_time": "2024-04-21T22:25:13.657347",
     "status": "completed"
    },
    "tags": []
   },
   "outputs": [
    {
     "name": "stderr",
     "output_type": "stream",
     "text": [
      "/tmp/ipykernel_18/512322355.py:11: SettingWithCopyWarning: \n",
      "A value is trying to be set on a copy of a slice from a DataFrame\n",
      "\n",
      "See the caveats in the documentation: https://pandas.pydata.org/pandas-docs/stable/user_guide/indexing.html#returning-a-view-versus-a-copy\n",
      "  X_data.drop(['Risk'], axis=1, inplace=True)\n"
     ]
    },
    {
     "data": {
      "text/plain": [
       "sysBP            0.328562\n",
       "diaBP            0.251189\n",
       "age              0.052808\n",
       "BMI              0.038929\n",
       "BPMeds           0.036928\n",
       "heartRate        0.030206\n",
       "totChol          0.021846\n",
       "currentSmoker    0.005564\n",
       "diabetes         0.003094\n",
       "glucose          0.000863\n",
       "male             0.000006\n",
       "cigsPerDay       0.000000\n",
       "Name: MI Scores, dtype: float64"
      ]
     },
     "execution_count": 17,
     "metadata": {},
     "output_type": "execute_result"
    }
   ],
   "source": [
    "from sklearn.feature_selection import mutual_info_classif\n",
    "\n",
    "def make_mi_scores(X, y, discrete_features):\n",
    "    mi_scores = mutual_info_classif(X, y, discrete_features=discrete_features)\n",
    "    mi_scores = pd.Series(mi_scores, name=\"MI Scores\", index=X.columns)\n",
    "    mi_scores = mi_scores.sort_values(ascending=False)\n",
    "    return mi_scores\n",
    "\n",
    "X_data = hypertension_data.dropna(axis=0, inplace=False)\n",
    "y_data = X_data.Risk\n",
    "X_data.drop(['Risk'], axis=1, inplace=True)\n",
    "mi_scores = make_mi_scores(X_data, y_data, discrete_features)\n",
    "mi_scores  # show features with their MI scores"
   ]
  },
  {
   "cell_type": "code",
   "execution_count": 18,
   "id": "7f202198",
   "metadata": {
    "execution": {
     "iopub.execute_input": "2024-04-21T22:25:13.813879Z",
     "iopub.status.busy": "2024-04-21T22:25:13.813573Z",
     "iopub.status.idle": "2024-04-21T22:25:14.026469Z",
     "shell.execute_reply": "2024-04-21T22:25:14.025519Z"
    },
    "papermill": {
     "duration": 0.222549,
     "end_time": "2024-04-21T22:25:14.028314",
     "exception": false,
     "start_time": "2024-04-21T22:25:13.805765",
     "status": "completed"
    },
    "tags": []
   },
   "outputs": [
    {
     "data": {
      "image/png": "[encoded data removed]",
      "text/plain": [
       "<Figure size 800x500 with 1 Axes>"
      ]
     },
     "metadata": {},
     "output_type": "display_data"
    }
   ],
   "source": [
    "def plot_mi_scores(scores):\n",
    "    scores = scores.sort_values(ascending=True)\n",
    "    width = np.arange(len(scores))\n",
    "    ticks = list(scores.index)\n",
    "    plt.barh(width, scores)\n",
    "    plt.yticks(width, ticks)\n",
    "    plt.title(\"Mutual Information Scores\")\n",
    "\n",
    "\n",
    "plt.figure(dpi=100, figsize=(8, 5))\n",
    "plot_mi_scores(mi_scores)"
   ]
  },
  {
   "cell_type": "code",
   "execution_count": 19,
   "id": "12c03fdd",
   "metadata": {
    "execution": {
     "iopub.execute_input": "2024-04-21T22:25:14.044309Z",
     "iopub.status.busy": "2024-04-21T22:25:14.044024Z",
     "iopub.status.idle": "2024-04-21T22:25:14.184412Z",
     "shell.execute_reply": "2024-04-21T22:25:14.183526Z"
    },
    "papermill": {
     "duration": 0.150293,
     "end_time": "2024-04-21T22:25:14.186156",
     "exception": false,
     "start_time": "2024-04-21T22:25:14.035863",
     "status": "completed"
    },
    "tags": []
   },
   "outputs": [
    {
     "data": {
      "image/png": "[encoded data removed]",
      "text/plain": [
       "<Figure size 640x480 with 1 Axes>"
      ]
     },
     "metadata": {},
     "output_type": "display_data"
    }
   ],
   "source": [
    "# Now let's graph the sysBP with the target\n",
    "import seaborn as sns\n",
    "\n",
    "X_data = hypertension_data.dropna(axis=0, inplace=False)\n",
    "sns.boxplot(x='Risk', y='sysBP', data=X_data)\n",
    "plt.title(\"Risk vs. sysBP\")\n",
    "plt.show()"
   ]
  },
  {
   "cell_type": "code",
   "execution_count": 20,
   "id": "72a65b54",
   "metadata": {
    "execution": {
     "iopub.execute_input": "2024-04-21T22:25:14.203093Z",
     "iopub.status.busy": "2024-04-21T22:25:14.202133Z",
     "iopub.status.idle": "2024-04-21T22:25:14.216822Z",
     "shell.execute_reply": "2024-04-21T22:25:14.215886Z"
    },
    "papermill": {
     "duration": 0.025463,
     "end_time": "2024-04-21T22:25:14.219222",
     "exception": false,
     "start_time": "2024-04-21T22:25:14.193759",
     "status": "completed"
    },
    "tags": []
   },
   "outputs": [
    {
     "data": {
      "text/html": [
       "<div>\n",
       "<style scoped>\n",
       "    .dataframe tbody tr th:only-of-type {\n",
       "        vertical-align: middle;\n",
       "    }\n",
       "\n",
       "    .dataframe tbody tr th {\n",
       "        vertical-align: top;\n",
       "    }\n",
       "\n",
       "    .dataframe thead th {\n",
       "        text-align: right;\n",
       "    }\n",
       "</style>\n",
       "<table border=\"1\" class=\"dataframe\">\n",
       "  <thead>\n",
       "    <tr style=\"text-align: right;\">\n",
       "      <th></th>\n",
       "      <th>male</th>\n",
       "      <th>age</th>\n",
       "      <th>currentSmoker</th>\n",
       "      <th>cigsPerDay</th>\n",
       "      <th>BPMeds</th>\n",
       "      <th>diabetes</th>\n",
       "      <th>totChol</th>\n",
       "      <th>sysBP</th>\n",
       "      <th>diaBP</th>\n",
       "      <th>BMI</th>\n",
       "      <th>heartRate</th>\n",
       "      <th>glucose</th>\n",
       "    </tr>\n",
       "  </thead>\n",
       "  <tbody>\n",
       "    <tr>\n",
       "      <th>4227</th>\n",
       "      <td>1</td>\n",
       "      <td>43</td>\n",
       "      <td>1</td>\n",
       "      <td>20.0</td>\n",
       "      <td>0.0</td>\n",
       "      <td>0</td>\n",
       "      <td>187.0</td>\n",
       "      <td>129.5</td>\n",
       "      <td>88.0</td>\n",
       "      <td>25.62</td>\n",
       "      <td>80.0</td>\n",
       "      <td>75.0</td>\n",
       "    </tr>\n",
       "    <tr>\n",
       "      <th>1811</th>\n",
       "      <td>1</td>\n",
       "      <td>43</td>\n",
       "      <td>1</td>\n",
       "      <td>20.0</td>\n",
       "      <td>0.0</td>\n",
       "      <td>0</td>\n",
       "      <td>180.0</td>\n",
       "      <td>131.0</td>\n",
       "      <td>92.0</td>\n",
       "      <td>27.18</td>\n",
       "      <td>65.0</td>\n",
       "      <td>85.0</td>\n",
       "    </tr>\n",
       "    <tr>\n",
       "      <th>3301</th>\n",
       "      <td>0</td>\n",
       "      <td>40</td>\n",
       "      <td>1</td>\n",
       "      <td>20.0</td>\n",
       "      <td>0.0</td>\n",
       "      <td>0</td>\n",
       "      <td>165.0</td>\n",
       "      <td>101.0</td>\n",
       "      <td>59.0</td>\n",
       "      <td>23.06</td>\n",
       "      <td>60.0</td>\n",
       "      <td>76.0</td>\n",
       "    </tr>\n",
       "    <tr>\n",
       "      <th>1203</th>\n",
       "      <td>1</td>\n",
       "      <td>64</td>\n",
       "      <td>1</td>\n",
       "      <td>30.0</td>\n",
       "      <td>0.0</td>\n",
       "      <td>0</td>\n",
       "      <td>253.0</td>\n",
       "      <td>178.0</td>\n",
       "      <td>106.0</td>\n",
       "      <td>24.68</td>\n",
       "      <td>100.0</td>\n",
       "      <td>76.0</td>\n",
       "    </tr>\n",
       "    <tr>\n",
       "      <th>2615</th>\n",
       "      <td>0</td>\n",
       "      <td>47</td>\n",
       "      <td>1</td>\n",
       "      <td>9.0</td>\n",
       "      <td>0.0</td>\n",
       "      <td>0</td>\n",
       "      <td>214.0</td>\n",
       "      <td>118.0</td>\n",
       "      <td>72.0</td>\n",
       "      <td>24.08</td>\n",
       "      <td>60.0</td>\n",
       "      <td>NaN</td>\n",
       "    </tr>\n",
       "  </tbody>\n",
       "</table>\n",
       "</div>"
      ],
      "text/plain": [
       "      male  age  currentSmoker  cigsPerDay  BPMeds  diabetes  totChol  sysBP  \\\n",
       "4227     1   43              1        20.0     0.0         0    187.0  129.5   \n",
       "1811     1   43              1        20.0     0.0         0    180.0  131.0   \n",
       "3301     0   40              1        20.0     0.0         0    165.0  101.0   \n",
       "1203     1   64              1        30.0     0.0         0    253.0  178.0   \n",
       "2615     0   47              1         9.0     0.0         0    214.0  118.0   \n",
       "\n",
       "      diaBP    BMI  heartRate  glucose  \n",
       "4227   88.0  25.62       80.0     75.0  \n",
       "1811   92.0  27.18       65.0     85.0  \n",
       "3301   59.0  23.06       60.0     76.0  \n",
       "1203  106.0  24.68      100.0     76.0  \n",
       "2615   72.0  24.08       60.0      NaN  "
      ]
     },
     "execution_count": 20,
     "metadata": {},
     "output_type": "execute_result"
    }
   ],
   "source": [
    "X_train.head()"
   ]
  },
  {
   "cell_type": "code",
   "execution_count": 21,
   "id": "a54a478c",
   "metadata": {
    "execution": {
     "iopub.execute_input": "2024-04-21T22:25:14.237970Z",
     "iopub.status.busy": "2024-04-21T22:25:14.237587Z",
     "iopub.status.idle": "2024-04-21T22:25:14.242223Z",
     "shell.execute_reply": "2024-04-21T22:25:14.241265Z"
    },
    "papermill": {
     "duration": 0.016214,
     "end_time": "2024-04-21T22:25:14.244096",
     "exception": false,
     "start_time": "2024-04-21T22:25:14.227882",
     "status": "completed"
    },
    "tags": []
   },
   "outputs": [],
   "source": [
    "# In this case, the categorical and numerical columns can be classifed directly:\n",
    "categorical_cols = ['male', 'currentSmoker', 'diabetes']\n",
    "# For numerical cols, we don't consider glucose due to the low relationship with the target\n",
    "numerical_cols = ['age', 'cigsPerDay', 'BPMeds', 'totChol', 'sysBP', 'diaBP', 'BMI',\n",
    "                 'heartRate']"
   ]
  },
  {
   "cell_type": "code",
   "execution_count": 22,
   "id": "8421e3e5",
   "metadata": {
    "execution": {
     "iopub.execute_input": "2024-04-21T22:25:14.262534Z",
     "iopub.status.busy": "2024-04-21T22:25:14.261639Z",
     "iopub.status.idle": "2024-04-21T22:25:14.796479Z",
     "shell.execute_reply": "2024-04-21T22:25:14.795597Z"
    },
    "papermill": {
     "duration": 0.545809,
     "end_time": "2024-04-21T22:25:14.798120",
     "exception": false,
     "start_time": "2024-04-21T22:25:14.252311",
     "status": "completed"
    },
    "tags": []
   },
   "outputs": [
    {
     "name": "stdout",
     "output_type": "stream",
     "text": [
      "Accuracy Score 0.902122641509434\n"
     ]
    }
   ],
   "source": [
    "#Preprocessing numerical data\n",
    "numerical_transformer = Pipeline(steps=[\n",
    "    ('imputer', SimpleImputer(strategy='constant')),\n",
    "    ('scaler', StandardScaler())\n",
    "])\n",
    "\n",
    "\n",
    "# Preprocessing categorical data\n",
    "categorical_transformer = SimpleImputer(strategy='most_frequent')\n",
    "\n",
    "#Bundle preprocessing for numerical an categorical data\n",
    "preprocessor = ColumnTransformer(\n",
    "    transformers=[\n",
    "        ('num', numerical_transformer, numerical_cols),\n",
    "        ('cat', categorical_transformer, categorical_cols)\n",
    "    ])\n",
    "\n",
    "# Now we will use RandomForestClassifier\n",
    "# Select the model\n",
    "random_forest_model = RandomForestClassifier(n_estimators=100, random_state=1)\n",
    "\n",
    "#Bundle preprocessing and modeling code in a pipeline\n",
    "clf = Pipeline(steps=[('preprocessor', preprocessor),\n",
    "                     ('model', random_forest_model)\n",
    "                     ])\n",
    "\n",
    "X_train_1 = X_train.drop(['glucose'], axis=1, inplace=False)\n",
    "X_valid_1 = X_valid.drop(['glucose'], axis=1, inplace=False)\n",
    "\n",
    "#Train the model\n",
    "clf.fit(X_train_1, y_train)\n",
    "\n",
    "# Preprocessing of validation data\n",
    "preds = clf.predict(X_valid_1)\n",
    "\n",
    "print('Accuracy Score', accuracy_score(y_valid, preds))"
   ]
  }
 ],
 "metadata": {
  "kaggle": {
   "accelerator": "none",
   "dataSources": [
    {
     "datasetId": 4699720,
     "sourceId": 7984234,
     "sourceType": "datasetVersion"
    }
   ],
   "dockerImageVersionId": 30684,
   "isGpuEnabled": false,
   "isInternetEnabled": true,
   "language": "python",
   "sourceType": "notebook"
  },
  "kernelspec": {
   "display_name": "Python 3",
   "language": "python",
   "name": "python3"
  },
  "language_info": {
   "codemirror_mode": {
    "name": "ipython",
    "version": 3
   },
   "file_extension": ".py",
   "mimetype": "text/x-python",
   "name": "python",
   "nbconvert_exporter": "python",
   "pygments_lexer": "ipython3",
   "version": "3.10.13"
  },
  "papermill": {
   "default_parameters": {},
   "duration": 8.165328,
   "end_time": "2024-04-21T22:25:15.327864",
   "environment_variables": {},
   "exception": null,
   "input_path": "__notebook__.ipynb",
   "output_path": "__notebook__.ipynb",
   "parameters": {},
   "start_time": "2024-04-21T22:25:07.162536",
   "version": "2.5.0"
  }
 },
 "nbformat": 4,
 "nbformat_minor": 5
}
